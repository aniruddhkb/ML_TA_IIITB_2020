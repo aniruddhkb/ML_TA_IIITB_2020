{
 "cells": [
  {
   "cell_type": "markdown",
   "metadata": {
    "id": "4mTqlIvcK1IB"
   },
   "source": [
    "# Imports"
   ]
  },
  {
   "cell_type": "code",
   "execution_count": 1,
   "metadata": {
    "id": "l_rnP891e-Uo"
   },
   "outputs": [],
   "source": [
    "import numpy as np\n",
    "import pandas as pd\n",
    "from sklearn.preprocessing import LabelEncoder\n",
    "from sklearn.model_selection import train_test_split\n",
    "from sklearn.linear_model import LogisticRegression\n",
    "from sklearn.naive_bayes import GaussianNB\n",
    "from sklearn.ensemble import BaggingClassifier\n",
    "from sklearn import tree\n",
    "from sklearn.ensemble import StackingClassifier\n",
    "from sklearn.ensemble import VotingClassifier\n",
    "from sklearn.model_selection import StratifiedKFold\n",
    "from sklearn.metrics import accuracy_score\n",
    "from sklearn.linear_model import SGDClassifier\n",
    "from sklearn.linear_model import Perceptron\n",
    "from sklearn.neighbors import KNeighborsClassifier\n",
    "\n",
    "import warnings\n",
    "warnings.filterwarnings('ignore')"
   ]
  },
  {
   "cell_type": "markdown",
   "metadata": {
    "id": "38ClVOPbKsO4"
   },
   "source": [
    "# Load Data and Preprocess"
   ]
  },
  {
   "cell_type": "code",
   "execution_count": 2,
   "metadata": {
    "id": "I2eRpG9se-Ur"
   },
   "outputs": [
    {
     "data": {
      "text/html": [
       "<div>\n",
       "<style scoped>\n",
       "    .dataframe tbody tr th:only-of-type {\n",
       "        vertical-align: middle;\n",
       "    }\n",
       "\n",
       "    .dataframe tbody tr th {\n",
       "        vertical-align: top;\n",
       "    }\n",
       "\n",
       "    .dataframe thead th {\n",
       "        text-align: right;\n",
       "    }\n",
       "</style>\n",
       "<table border=\"1\" class=\"dataframe\">\n",
       "  <thead>\n",
       "    <tr style=\"text-align: right;\">\n",
       "      <th></th>\n",
       "      <th>Unnamed: 0</th>\n",
       "      <th>Clump Thickness</th>\n",
       "      <th>Uniformity of Cell Size</th>\n",
       "      <th>Uniformity of Cell Shape</th>\n",
       "      <th>Marginal Adhesion</th>\n",
       "      <th>Single Epithelial Cell Size</th>\n",
       "      <th>Bare Nuclei</th>\n",
       "      <th>Bland Chromatin</th>\n",
       "      <th>Normal Nucleoli</th>\n",
       "      <th>Mitoses</th>\n",
       "      <th>Class</th>\n",
       "    </tr>\n",
       "  </thead>\n",
       "  <tbody>\n",
       "    <tr>\n",
       "      <th>0</th>\n",
       "      <td>0</td>\n",
       "      <td>5</td>\n",
       "      <td>1</td>\n",
       "      <td>1</td>\n",
       "      <td>1</td>\n",
       "      <td>2</td>\n",
       "      <td>1</td>\n",
       "      <td>3</td>\n",
       "      <td>1</td>\n",
       "      <td>1</td>\n",
       "      <td>0</td>\n",
       "    </tr>\n",
       "    <tr>\n",
       "      <th>1</th>\n",
       "      <td>1</td>\n",
       "      <td>5</td>\n",
       "      <td>4</td>\n",
       "      <td>4</td>\n",
       "      <td>5</td>\n",
       "      <td>7</td>\n",
       "      <td>10</td>\n",
       "      <td>3</td>\n",
       "      <td>2</td>\n",
       "      <td>1</td>\n",
       "      <td>0</td>\n",
       "    </tr>\n",
       "    <tr>\n",
       "      <th>2</th>\n",
       "      <td>2</td>\n",
       "      <td>3</td>\n",
       "      <td>1</td>\n",
       "      <td>1</td>\n",
       "      <td>1</td>\n",
       "      <td>2</td>\n",
       "      <td>2</td>\n",
       "      <td>3</td>\n",
       "      <td>1</td>\n",
       "      <td>1</td>\n",
       "      <td>0</td>\n",
       "    </tr>\n",
       "    <tr>\n",
       "      <th>3</th>\n",
       "      <td>3</td>\n",
       "      <td>6</td>\n",
       "      <td>8</td>\n",
       "      <td>8</td>\n",
       "      <td>1</td>\n",
       "      <td>3</td>\n",
       "      <td>4</td>\n",
       "      <td>3</td>\n",
       "      <td>7</td>\n",
       "      <td>1</td>\n",
       "      <td>0</td>\n",
       "    </tr>\n",
       "    <tr>\n",
       "      <th>4</th>\n",
       "      <td>4</td>\n",
       "      <td>4</td>\n",
       "      <td>1</td>\n",
       "      <td>1</td>\n",
       "      <td>3</td>\n",
       "      <td>2</td>\n",
       "      <td>1</td>\n",
       "      <td>3</td>\n",
       "      <td>1</td>\n",
       "      <td>1</td>\n",
       "      <td>0</td>\n",
       "    </tr>\n",
       "  </tbody>\n",
       "</table>\n",
       "</div>"
      ],
      "text/plain": [
       "   Unnamed: 0  Clump Thickness  Uniformity of Cell Size  \\\n",
       "0           0                5                        1   \n",
       "1           1                5                        4   \n",
       "2           2                3                        1   \n",
       "3           3                6                        8   \n",
       "4           4                4                        1   \n",
       "\n",
       "   Uniformity of Cell Shape  Marginal Adhesion  Single Epithelial Cell Size  \\\n",
       "0                         1                  1                            2   \n",
       "1                         4                  5                            7   \n",
       "2                         1                  1                            2   \n",
       "3                         8                  1                            3   \n",
       "4                         1                  3                            2   \n",
       "\n",
       "   Bare Nuclei  Bland Chromatin  Normal Nucleoli  Mitoses  Class  \n",
       "0            1                3                1        1      0  \n",
       "1           10                3                2        1      0  \n",
       "2            2                3                1        1      0  \n",
       "3            4                3                7        1      0  \n",
       "4            1                3                1        1      0  "
      ]
     },
     "execution_count": 2,
     "metadata": {},
     "output_type": "execute_result"
    }
   ],
   "source": [
    "#reading the dataset\n",
    "df=pd.read_csv(\"data_updated.csv\")\n",
    "df.head()"
   ]
  },
  {
   "cell_type": "code",
   "execution_count": 3,
   "metadata": {
    "id": "MBTzmNKbe-Us",
    "scrolled": true
   },
   "outputs": [],
   "source": [
    "# cols = df.columns\n",
    "\n",
    "# for i in cols:\n",
    "#     if df[i].isnull().sum() != 0:\n",
    "#         print(\"Column name is:\", i)\n",
    "#         print(df[i].isnull().sum())\n",
    "\n",
    "# #filling missing values\n",
    "# print(df['Gender'].value_counts())\n",
    "# df['Gender'].fillna('Male', inplace=True)\n",
    "\n",
    "# print(df['Married'].value_counts())\n",
    "# df['Married'].fillna('Yes', inplace=True)\n",
    "\n",
    "# print(df['Dependents'].value_counts())\n",
    "# df['Dependents'].fillna('0', inplace=True)\n",
    "\n",
    "# print(df['Self_Employed'].value_counts())\n",
    "# df['Self_Employed'].fillna('No', inplace=True)\n",
    "\n",
    "# print(df.LoanAmount.describe())\n",
    "# df['LoanAmount'].fillna(df.LoanAmount.mean(), inplace = True)\n",
    "\n",
    "# print(df['Loan_Amount_Term'].value_counts())\n",
    "# df['Loan_Amount_Term'].fillna(512, inplace=True)\n",
    "\n",
    "# print(df['Credit_History'].value_counts())\n",
    "# df['Credit_History'].fillna(1.0, inplace=True)\n",
    "\n",
    "# # Get categorical columns\n",
    "# cat_cols = []\n",
    "# for i in cols:\n",
    "#     if df[i].dtypes == 'object' and i!= 'Loan_ID':\n",
    "#         print(i)\n",
    "#         cat_cols.append(i)\n",
    "\n",
    "# # Do label encoding for categorical columns\n",
    "# le = LabelEncoder()\n",
    "# for i in cat_cols:\n",
    "#     df[i] = le.fit_transform(df[i])\n",
    "\n",
    "# #split dataset into train and test\n",
    "train, test = train_test_split(df, test_size=0.3, random_state=0)\n",
    "\n",
    "x_train=train.drop(['Class'], axis=1)\n",
    "y_train=train['Class']\n",
    "\n",
    "x_test=test.drop(['Class'], axis=1)\n",
    "y_test=test['Class']"
   ]
  },
  {
   "cell_type": "code",
   "execution_count": 4,
   "metadata": {},
   "outputs": [
    {
     "data": {
      "text/plain": [
       "0.9708029197080292"
      ]
     },
     "execution_count": 4,
     "metadata": {},
     "output_type": "execute_result"
    }
   ],
   "source": [
    "model1 = KNeighborsClassifier()\n",
    "model1.fit(x_train,y_train)\n",
    "model1.score(x_test,y_test)"
   ]
  },
  {
   "cell_type": "code",
   "execution_count": 5,
   "metadata": {},
   "outputs": [
    {
     "data": {
      "text/plain": [
       "0.8759124087591241"
      ]
     },
     "execution_count": 5,
     "metadata": {},
     "output_type": "execute_result"
    }
   ],
   "source": [
    "model2 = SGDClassifier(random_state=1)\n",
    "model2.fit(x_train,y_train)\n",
    "model2.score(x_test,y_test)"
   ]
  },
  {
   "cell_type": "code",
   "execution_count": 6,
   "metadata": {},
   "outputs": [
    {
     "data": {
      "text/plain": [
       "0.9416058394160584"
      ]
     },
     "execution_count": 6,
     "metadata": {},
     "output_type": "execute_result"
    }
   ],
   "source": [
    "model3 = GaussianNB()\n",
    "model3.fit(x_train,y_train)\n",
    "model3.score(x_test,y_test)"
   ]
  },
  {
   "cell_type": "markdown",
   "metadata": {
    "id": "LVL8J_HOe-Uv"
   },
   "source": [
    "# MaxVoting "
   ]
  },
  {
   "cell_type": "code",
   "execution_count": 7,
   "metadata": {
    "id": "Cim9sktHe-Uv"
   },
   "outputs": [
    {
     "data": {
      "text/plain": [
       "0.9562043795620438"
      ]
     },
     "execution_count": 7,
     "metadata": {},
     "output_type": "execute_result"
    }
   ],
   "source": [
    "model1 = KNeighborsClassifier()\n",
    "model2 = SGDClassifier(random_state=1)\n",
    "model3 = GaussianNB()\n",
    "model = VotingClassifier(estimators=[('lr', model1), ('dt', model2), ('NB', model3)])\n",
    "model.fit(x_train,y_train)\n",
    "model.score(x_test,y_test)"
   ]
  },
  {
   "cell_type": "markdown",
   "metadata": {
    "id": "3BDVHu24e-Uw"
   },
   "source": [
    "# Weighted Averaging "
   ]
  },
  {
   "cell_type": "code",
   "execution_count": 10,
   "metadata": {
    "id": "eUYSMEqle-Uw"
   },
   "outputs": [
    {
     "data": {
      "text/plain": [
       "0.9708029197080292"
      ]
     },
     "execution_count": 10,
     "metadata": {},
     "output_type": "execute_result"
    }
   ],
   "source": [
    "model1 = KNeighborsClassifier()\n",
    "model2 = SGDClassifier(random_state=1, loss=\"modified_huber\", max_iter=10, penalty=\"l1\")\n",
    "model3 = GaussianNB()\n",
    "\n",
    "model1.fit(x_train,y_train)\n",
    "model2.fit(x_train,y_train)\n",
    "model3.fit(x_train,y_train)\n",
    "\n",
    "pred1 = model1.predict_proba(x_test)\n",
    "pred2 = model2.predict_proba(x_test)\n",
    "pred3 = model3.predict_proba(x_test)\n",
    "\n",
    "weighted_prediction = (0.5*pred1)+(0.2*pred2)+(0.3*pred3)\n",
    "labelprediction = np.argmax(weighted_prediction, axis = 1)\n",
    "\n",
    "accuracy_score(labelprediction, y_test)"
   ]
  },
  {
   "cell_type": "code",
   "execution_count": 11,
   "metadata": {
    "id": "1gDuXg7ZetGV"
   },
   "outputs": [
    {
     "data": {
      "text/plain": [
       "0.9708029197080292"
      ]
     },
     "execution_count": 11,
     "metadata": {},
     "output_type": "execute_result"
    }
   ],
   "source": [
    "model1 = KNeighborsClassifier()\n",
    "model2 = SGDClassifier(random_state=1, loss=\"modified_huber\", max_iter=10, penalty=\"l1\")\n",
    "model3 = GaussianNB()\n",
    "model = VotingClassifier(estimators=[('dt', model1), ('gnb', model2), ('lr', model3)],voting='soft',weights=[0.5,0.2,0.3])\n",
    "model.fit(x_train,y_train)\n",
    "model.score(x_test,y_test)"
   ]
  },
  {
   "cell_type": "markdown",
   "metadata": {
    "id": "EjPV8Fyv8l3O"
   },
   "source": [
    "# Power Averaging"
   ]
  },
  {
   "cell_type": "code",
   "execution_count": null,
   "metadata": {
    "id": "Hh7AhVyb8oUJ"
   },
   "outputs": [],
   "source": [
    "model1 = SGDClassifier(random_state=1, loss=\"modified_huber\", max_iter=10, penalty=\"l1\")\n",
    "model2 = GaussianNB()\n",
    "model3= KNeighborsClassifier()\n",
    "\n",
    "model1.fit(x_train,y_train)\n",
    "model2.fit(x_train,y_train)\n",
    "model3.fit(x_train,y_train)\n",
    "\n",
    "pred1 = model1.predict_proba(x_test)\n",
    "pred2 = model2.predict_proba(x_test)\n",
    "pred3 = model3.predict_proba(x_test)\n",
    "\n",
    "weighted_prediction = ((pred1**2)+(pred2**2)+(pred3**2))/3\n",
    "labelprediction = np.argmax(weighted_prediction, axis = 1)\n",
    "from sklearn.metrics import roc_auc_score, r2_score\n",
    "accuracy_score(labelprediction, y_test)\n",
    "# weighted_prediction"
   ]
  },
  {
   "cell_type": "markdown",
   "metadata": {
    "id": "94gipq-kikiQ"
   },
   "source": [
    "# Stacking"
   ]
  },
  {
   "cell_type": "markdown",
   "metadata": {
    "id": "dsKmRuoO8xHB"
   },
   "source": [
    "Consider the following data. The train data has been divided into 4-folds\n",
    "\n",
    "<img src=\"https://miro.medium.com/max/660/1*yesnizWjGSNGsUmlkhX18w.png\">\n",
    "\n",
    "We will be building an ensemble of 3 models. Each model will be trained on any 3 folds of the training data, and will make prediction on the 4th fold.\n",
    "\n",
    "<img src=\"https://miro.medium.com/max/624/1*yYFpm4Duauymbqmcs7pqTA.png\">\n",
    "\n",
    "This process will be repeated for all possible combinations of 3 folds, which will give a prediction for the entire training data. This is shown in the below image.\n",
    "\n",
    "<img src=\"https://miro.medium.com/max/624/1*zpYK59ERadLpks69gxANAw.png\">\n",
    "\n",
    "Similarly, we will do the same thing with 2 more models, and finally we will ahve 3 different sets of predictions on the entire training data, given by the 3 models we choose initially.\n",
    "\n",
    "<img src=\"https://miro.medium.com/max/624/1*Cuwvlt9nEh70o9RzFSFrTQ.png\">\n",
    "\n",
    "Finally, a meta-model will be trained with these predictions as features and the original target variable.\n",
    "\n",
    "<img src=\"https://miro.medium.com/max/624/1*BhSO1IVsXtbfMN6uIqKydA.png\">\n",
    "\n",
    "With stacking, the predictions of the meta-model on the test set will be better than the predictions of any of the 3 models alone on the test set."
   ]
  },
  {
   "cell_type": "code",
   "execution_count": 12,
   "metadata": {
    "id": "iKJpsXrGitDk"
   },
   "outputs": [],
   "source": [
    "def Stacking(model,train,y,test,n_fold):\n",
    "    folds=StratifiedKFold(n_splits=n_fold,random_state=1)\n",
    "    test_pred=np.empty((test.shape[0],1),float)\n",
    "    train_pred=np.empty((0,1),float)\n",
    "    \n",
    "    for train_indices,val_indices in folds.split(train,y.values):\n",
    "        x_train,x_val=train.iloc[train_indices],train.iloc[val_indices]\n",
    "        y_train,y_val=y.iloc[train_indices],y.iloc[val_indices]\n",
    "\n",
    "        model.fit(X=x_train,y=y_train)\n",
    "        train_pred=np.append(train_pred,model.predict(x_val))\n",
    "        \n",
    "    model.fit(train, y)\n",
    "    test_pred=model.predict(test)\n",
    "    return test_pred.reshape(-1,1),train_pred"
   ]
  },
  {
   "cell_type": "code",
   "execution_count": 13,
   "metadata": {
    "id": "IVpbBzBamdn1"
   },
   "outputs": [
    {
     "data": {
      "text/plain": [
       "0.9197080291970803"
      ]
     },
     "execution_count": 13,
     "metadata": {},
     "output_type": "execute_result"
    }
   ],
   "source": [
    "model1 = SGDClassifier(random_state=1, loss=\"modified_huber\", max_iter=10, penalty=\"l1\")\n",
    "\n",
    "test_pred1 ,train_pred1=Stacking(model=model1,n_fold=10, train=x_train,test=x_test,y=y_train)\n",
    "accuracy_score(test_pred1, y_test)"
   ]
  },
  {
   "cell_type": "code",
   "execution_count": 14,
   "metadata": {},
   "outputs": [],
   "source": [
    "train_pred1=pd.DataFrame(train_pred1)\n",
    "test_pred1=pd.DataFrame(test_pred1)\n"
   ]
  },
  {
   "cell_type": "code",
   "execution_count": 20,
   "metadata": {
    "id": "Jdj6_Omhmhud"
   },
   "outputs": [
    {
     "data": {
      "text/plain": [
       "0.9247648902821317"
      ]
     },
     "execution_count": 20,
     "metadata": {},
     "output_type": "execute_result"
    }
   ],
   "source": [
    "model2 = GaussianNB()\n",
    "\n",
    "test_pred2 ,train_pred2=Stacking(model=model2,n_fold=10,train=x_train,test=x_test,y=y_train)\n",
    "accuracy_score(test_pred2, y_test)"
   ]
  },
  {
   "cell_type": "code",
   "execution_count": 16,
   "metadata": {},
   "outputs": [],
   "source": [
    "train_pred2=pd.DataFrame(train_pred2)\n",
    "test_pred2=pd.DataFrame(test_pred2)"
   ]
  },
  {
   "cell_type": "code",
   "execution_count": 17,
   "metadata": {
    "id": "LZDAsLTQmm3p"
   },
   "outputs": [
    {
     "data": {
      "text/plain": [
       "0.9708029197080292"
      ]
     },
     "execution_count": 17,
     "metadata": {},
     "output_type": "execute_result"
    }
   ],
   "source": [
    "df = pd.concat([train_pred1, train_pred2y_train], axis=1)\n",
    "df_test = pd.concat([test_pred1, test_pred2], axis=1)\n",
    "\n",
    "model = KNeighborsClassifier()\n",
    "model.fit(df,y_train)\n",
    "model.score(df_test, y_test)"
   ]
  },
  {
   "cell_type": "code",
   "execution_count": 18,
   "metadata": {
    "id": "yizueAmjnTQY"
   },
   "outputs": [
    {
     "data": {
      "text/plain": [
       "0.9708029197080292"
      ]
     },
     "execution_count": 18,
     "metadata": {},
     "output_type": "execute_result"
    }
   ],
   "source": [
    "stack = StackingClassifier(estimators=[('dt',model1),('lr',model2)], final_estimator=model,cv=10)\n",
    "stack.fit(x_train,y_train)\n",
    "stack.score(x_test,y_test)"
   ]
  },
  {
   "cell_type": "markdown",
   "metadata": {
    "id": "yMkQRE-Xl8F7"
   },
   "source": [
    "##Another Way to Stack your models\n",
    "There is another library, called mlxtend that offers the Stacking Classifier.\n",
    "\n",
    "Here are the links to these:\n",
    "1.    [StackingClassifier](http://rasbt.github.io/mlxtend/user_guide/classifier/StackingClassifier/)\n",
    "2.    [StackingClassifierCV](http://rasbt.github.io/mlxtend/user_guide/classifier/StackingCVClassifier/)"
   ]
  },
  {
   "cell_type": "markdown",
   "metadata": {
    "id": "9nr1n67be-Uw"
   },
   "source": [
    "# Blending "
   ]
  },
  {
   "cell_type": "markdown",
   "metadata": {
    "id": "pSn4L3Q481b4"
   },
   "source": [
    "Blending is very similar to stacking, the only difference is that here we do not consider folds of training data, we rather split the training data into train and validation sets. This set is called the holdout set.\n",
    "<img src=\"https://miro.medium.com/max/624/1*5RXUF92qwpx-1BkcTejIoQ.png\">\n",
    "\n",
    "Rest of the process is same as that in stacking, we train 3 models on the train data, and each of them makes a prediction on the holdout set. These predictions are then used to train the meta-model.\n",
    "\n",
    "<img src=\"https://miro.medium.com/max/624/1*pvGUnMAycqvsYAwVe2LpHw.png\">"
   ]
  },
  {
   "cell_type": "code",
   "execution_count": 21,
   "metadata": {
    "id": "VFLYJ8c5e-Uw"
   },
   "outputs": [],
   "source": [
    "train, test = train_test_split(train, test_size=0.2, random_state=0)\n",
    "\n",
    "x_train=train.drop(['Class'], axis=1)\n",
    "y_train=train['Class']\n",
    "\n",
    "x_val=test.drop(['Class'], axis=1)\n",
    "y_val=test['Class']\n",
    "\n",
    "x_val = x_val.reset_index(drop = True)\n",
    "x_test = x_test.reset_index(drop = True)\n",
    "\n",
    "model1 = SGDClassifier(random_state=1, loss=\"modified_huber\", max_iter=10, penalty=\"l1\")\n",
    "model1.fit(x_train, y_train)\n",
    "\n",
    "val_pred1=model1.predict(x_val)\n",
    "test_pred1=model1.predict(x_test)\n",
    "\n",
    "val_pred1=pd.DataFrame(val_pred1)\n",
    "test_pred1=pd.DataFrame(test_pred1)\n",
    "\n",
    "model2 = GaussianNB()\n",
    "model2.fit(x_train,y_train)\n",
    "\n",
    "val_pred2=model2.predict(x_val)\n",
    "test_pred2=model2.predict(x_test)\n",
    "\n",
    "val_pred2=pd.DataFrame(val_pred2)\n",
    "test_pred2=pd.DataFrame(test_pred2)"
   ]
  },
  {
   "cell_type": "code",
   "execution_count": 22,
   "metadata": {
    "id": "VpksNnnle-Uw"
   },
   "outputs": [
    {
     "data": {
      "text/plain": [
       "0.9781021897810219"
      ]
     },
     "execution_count": 22,
     "metadata": {},
     "output_type": "execute_result"
    }
   ],
   "source": [
    "df_val = pd.concat([x_val, val_pred1,val_pred2],axis=1)\n",
    "df_test = pd.concat([x_test, test_pred1,test_pred2],axis=1)\n",
    "\n",
    "model = LogisticRegression(random_state=1)\n",
    "model.fit(df_val,y_val)\n",
    "model.score(df_test,y_test)"
   ]
  },
  {
   "cell_type": "markdown",
   "metadata": {
    "id": "E9nPdcXh3aZi"
   },
   "source": [
    "# Stacking vs Blending"
   ]
  },
  {
   "cell_type": "markdown",
   "metadata": {
    "id": "F54WoxM03dJO"
   },
   "source": [
    "The benefit of blending over stacking is that there is absolute no chance of any information leak here. Whereas in stacking, since we are training the base models on the entire train data, this method is not very robust against information leak.\n",
    "\n",
    "Although both give near similar results, the choice of which approach to take is more of a developer's personal choice. There is no clear demarcation which to use when, and which is better than the other."
   ]
  },
  {
   "cell_type": "markdown",
   "metadata": {
    "id": "VJMDiTopi10N"
   },
   "source": [
    "#Bagging and Boosting"
   ]
  },
  {
   "cell_type": "markdown",
   "metadata": {
    "id": "uXkz36AL654t"
   },
   "source": [
    "Prof Raghavan covered these topics extensivel, we will not be going over them again.\n",
    "\n",
    "These are a few algorithms based on Bagging and Boosting:\n",
    "\n",
    "\n",
    "1.   Random Forest\n",
    "2.   XGBoost\n",
    "3.   AdaBoost\n",
    "4.   CatBoost\n",
    "5.   GBM\n",
    "6.   LightGBM\n",
    "\n",
    "If you have any queries, we are happy to take them up.\n",
    "\n",
    "\n"
   ]
  },
  {
   "cell_type": "markdown",
   "metadata": {
    "id": "0pE1uLTvjY6x"
   },
   "source": [
    "# Resources\n",
    "\n",
    "\n",
    "\n",
    "1.   [MLWave Article for Ensembling](https://mlwave.com/kaggle-ensembling-guide)\n",
    "2.   [Medium Article for Stacking and Blending](https://medium.com/@stevenyu530_73989/stacking-and-blending-intuitive-explanation-of-advanced-ensemble-methods-46b295da413c)\n",
    "3.   [TDS Article for Ensembling](https://towardsdatascience.com/ensemble-methods-in-machine-learning-what-are-they-and-why-use-them-68ec3f9fef5f)\n",
    "4.   [Analytics Vidhya Article for Ensembling](https://www.analyticsvidhya.com/blog/2018/06/comprehensive-guide-for-ensemble-models/)\n",
    "5.   [Scikit-Learn Documentation for Stacking Classifier](https://scikit-learn.org/stable/modules/generated/sklearn.ensemble.StackingClassifier.html#sklearn.ensemble.StackingClassifier)\n",
    "6.   [Various Averaging Techniques](https://www.kaggle.com/c/siim-isic-melanoma-classification/discussion/165653)\n"
   ]
  }
 ],
 "metadata": {
  "colab": {
   "name": "Ensemble Techniques.ipynb",
   "provenance": []
  },
  "kernelspec": {
   "display_name": "Python 3",
   "language": "python",
   "name": "python3"
  },
  "language_info": {
   "codemirror_mode": {
    "name": "ipython",
    "version": 3
   },
   "file_extension": ".py",
   "mimetype": "text/x-python",
   "name": "python",
   "nbconvert_exporter": "python",
   "pygments_lexer": "ipython3",
   "version": "3.6.11"
  }
 },
 "nbformat": 4,
 "nbformat_minor": 1
}
