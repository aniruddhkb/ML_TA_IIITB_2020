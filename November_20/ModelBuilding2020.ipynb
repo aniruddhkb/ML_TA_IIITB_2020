{
  "nbformat": 4,
  "nbformat_minor": 0,
  "metadata": {
    "kernelspec": {
      "display_name": "Python 3",
      "language": "python",
      "name": "python3"
    },
    "language_info": {
      "codemirror_mode": {
        "name": "ipython",
        "version": 3
      },
      "file_extension": ".py",
      "mimetype": "text/x-python",
      "name": "python",
      "nbconvert_exporter": "python",
      "pygments_lexer": "ipython3",
      "version": "3.6.7"
    },
    "colab": {
      "name": "ModelBuilding.ipynb",
      "provenance": [],
      "collapsed_sections": [
        "aHAepuKQkzxv"
      ]
    }
  },
  "cells": [
    {
      "cell_type": "code",
      "metadata": {
        "colab": {
          "base_uri": "https://localhost:8080/"
        },
        "id": "l_rnP891e-Uo",
        "outputId": "d762ac38-2b33-4783-ad15-090a686976d8"
      },
      "source": [
        "! pip install catboost\n",
        "import numpy as np\n",
        "import pandas as pd\n",
        "from sklearn.preprocessing import LabelEncoder\n",
        "from sklearn.model_selection import train_test_split\n",
        "from sklearn.linear_model import LogisticRegression\n",
        "from sklearn.ensemble import BaggingClassifier\n",
        "from sklearn import tree\n",
        "from sklearn.ensemble import BaggingClassifier\n",
        "from sklearn.ensemble import RandomForestClassifier\n",
        "from sklearn.ensemble import AdaBoostClassifier\n",
        "from sklearn.ensemble import GradientBoostingClassifier\n",
        "import xgboost as xgb\n",
        "import lightgbm as lgb\n",
        "from catboost import CatBoostClassifier\n",
        "from sklearn.ensemble import VotingClassifier\n",
        "from sklearn import svm\n",
        "from sklearn.naive_bayes import GaussianNB\n",
        "from sklearn.metrics import accuracy_score\n",
        "from sklearn.model_selection import StratifiedKFold\n",
        "from sklearn.metrics import confusion_matrix, roc_auc_score ,roc_curve,auc\n",
        "from sklearn.model_selection import GridSearchCV, RandomizedSearchCV"
      ],
      "execution_count": null,
      "outputs": [
        {
          "output_type": "stream",
          "text": [
            "Collecting catboost\n",
            "\u001b[?25l  Downloading https://files.pythonhosted.org/packages/7e/c1/c1c4707013f9e2f8a96899dd3a87f66c9167d6d776a6dc8fe7ec8678d446/catboost-0.24.3-cp36-none-manylinux1_x86_64.whl (66.3MB)\n",
            "\u001b[K     |████████████████████████████████| 66.3MB 57kB/s \n",
            "\u001b[?25hRequirement already satisfied: graphviz in /usr/local/lib/python3.6/dist-packages (from catboost) (0.10.1)\n",
            "Requirement already satisfied: plotly in /usr/local/lib/python3.6/dist-packages (from catboost) (4.4.1)\n",
            "Requirement already satisfied: scipy in /usr/local/lib/python3.6/dist-packages (from catboost) (1.4.1)\n",
            "Requirement already satisfied: pandas>=0.24.0 in /usr/local/lib/python3.6/dist-packages (from catboost) (1.1.4)\n",
            "Requirement already satisfied: matplotlib in /usr/local/lib/python3.6/dist-packages (from catboost) (3.2.2)\n",
            "Requirement already satisfied: numpy>=1.16.0 in /usr/local/lib/python3.6/dist-packages (from catboost) (1.18.5)\n",
            "Requirement already satisfied: six in /usr/local/lib/python3.6/dist-packages (from catboost) (1.15.0)\n",
            "Requirement already satisfied: retrying>=1.3.3 in /usr/local/lib/python3.6/dist-packages (from plotly->catboost) (1.3.3)\n",
            "Requirement already satisfied: python-dateutil>=2.7.3 in /usr/local/lib/python3.6/dist-packages (from pandas>=0.24.0->catboost) (2.8.1)\n",
            "Requirement already satisfied: pytz>=2017.2 in /usr/local/lib/python3.6/dist-packages (from pandas>=0.24.0->catboost) (2018.9)\n",
            "Requirement already satisfied: kiwisolver>=1.0.1 in /usr/local/lib/python3.6/dist-packages (from matplotlib->catboost) (1.3.1)\n",
            "Requirement already satisfied: cycler>=0.10 in /usr/local/lib/python3.6/dist-packages (from matplotlib->catboost) (0.10.0)\n",
            "Requirement already satisfied: pyparsing!=2.0.4,!=2.1.2,!=2.1.6,>=2.0.1 in /usr/local/lib/python3.6/dist-packages (from matplotlib->catboost) (2.4.7)\n",
            "Installing collected packages: catboost\n",
            "Successfully installed catboost-0.24.3\n"
          ],
          "name": "stdout"
        }
      ]
    },
    {
      "cell_type": "markdown",
      "metadata": {
        "id": "5EcOkE7Se-Ur"
      },
      "source": [
        "Dataset link: https://datahack.analyticsvidhya.com/contest/practice-problem-loan-prediction-iii/"
      ]
    },
    {
      "cell_type": "code",
      "metadata": {
        "colab": {
          "base_uri": "https://localhost:8080/",
          "height": 408
        },
        "id": "I2eRpG9se-Ur",
        "outputId": "0d0cf051-b2c6-4662-d3e6-21dc0f7b3581"
      },
      "source": [
        "#reading the dataset\n",
        "df=pd.read_csv(\"train.csv\")\n",
        "df.head()"
      ],
      "execution_count": null,
      "outputs": [
        {
          "output_type": "error",
          "ename": "FileNotFoundError",
          "evalue": "ignored",
          "traceback": [
            "\u001b[0;31m---------------------------------------------------------------------------\u001b[0m",
            "\u001b[0;31mFileNotFoundError\u001b[0m                         Traceback (most recent call last)",
            "\u001b[0;32m<ipython-input-2-1456680234f5>\u001b[0m in \u001b[0;36m<module>\u001b[0;34m()\u001b[0m\n\u001b[1;32m      1\u001b[0m \u001b[0;31m#reading the dataset\u001b[0m\u001b[0;34m\u001b[0m\u001b[0;34m\u001b[0m\u001b[0;34m\u001b[0m\u001b[0m\n\u001b[0;32m----> 2\u001b[0;31m \u001b[0mdf\u001b[0m\u001b[0;34m=\u001b[0m\u001b[0mpd\u001b[0m\u001b[0;34m.\u001b[0m\u001b[0mread_csv\u001b[0m\u001b[0;34m(\u001b[0m\u001b[0;34m\"train.csv\"\u001b[0m\u001b[0;34m)\u001b[0m\u001b[0;34m\u001b[0m\u001b[0;34m\u001b[0m\u001b[0m\n\u001b[0m\u001b[1;32m      3\u001b[0m \u001b[0mdf\u001b[0m\u001b[0;34m.\u001b[0m\u001b[0mhead\u001b[0m\u001b[0;34m(\u001b[0m\u001b[0;34m)\u001b[0m\u001b[0;34m\u001b[0m\u001b[0;34m\u001b[0m\u001b[0m\n",
            "\u001b[0;32m/usr/local/lib/python3.6/dist-packages/pandas/io/parsers.py\u001b[0m in \u001b[0;36mread_csv\u001b[0;34m(filepath_or_buffer, sep, delimiter, header, names, index_col, usecols, squeeze, prefix, mangle_dupe_cols, dtype, engine, converters, true_values, false_values, skipinitialspace, skiprows, skipfooter, nrows, na_values, keep_default_na, na_filter, verbose, skip_blank_lines, parse_dates, infer_datetime_format, keep_date_col, date_parser, dayfirst, cache_dates, iterator, chunksize, compression, thousands, decimal, lineterminator, quotechar, quoting, doublequote, escapechar, comment, encoding, dialect, error_bad_lines, warn_bad_lines, delim_whitespace, low_memory, memory_map, float_precision)\u001b[0m\n\u001b[1;32m    686\u001b[0m     )\n\u001b[1;32m    687\u001b[0m \u001b[0;34m\u001b[0m\u001b[0m\n\u001b[0;32m--> 688\u001b[0;31m     \u001b[0;32mreturn\u001b[0m \u001b[0m_read\u001b[0m\u001b[0;34m(\u001b[0m\u001b[0mfilepath_or_buffer\u001b[0m\u001b[0;34m,\u001b[0m \u001b[0mkwds\u001b[0m\u001b[0;34m)\u001b[0m\u001b[0;34m\u001b[0m\u001b[0;34m\u001b[0m\u001b[0m\n\u001b[0m\u001b[1;32m    689\u001b[0m \u001b[0;34m\u001b[0m\u001b[0m\n\u001b[1;32m    690\u001b[0m \u001b[0;34m\u001b[0m\u001b[0m\n",
            "\u001b[0;32m/usr/local/lib/python3.6/dist-packages/pandas/io/parsers.py\u001b[0m in \u001b[0;36m_read\u001b[0;34m(filepath_or_buffer, kwds)\u001b[0m\n\u001b[1;32m    452\u001b[0m \u001b[0;34m\u001b[0m\u001b[0m\n\u001b[1;32m    453\u001b[0m     \u001b[0;31m# Create the parser.\u001b[0m\u001b[0;34m\u001b[0m\u001b[0;34m\u001b[0m\u001b[0;34m\u001b[0m\u001b[0m\n\u001b[0;32m--> 454\u001b[0;31m     \u001b[0mparser\u001b[0m \u001b[0;34m=\u001b[0m \u001b[0mTextFileReader\u001b[0m\u001b[0;34m(\u001b[0m\u001b[0mfp_or_buf\u001b[0m\u001b[0;34m,\u001b[0m \u001b[0;34m**\u001b[0m\u001b[0mkwds\u001b[0m\u001b[0;34m)\u001b[0m\u001b[0;34m\u001b[0m\u001b[0;34m\u001b[0m\u001b[0m\n\u001b[0m\u001b[1;32m    455\u001b[0m \u001b[0;34m\u001b[0m\u001b[0m\n\u001b[1;32m    456\u001b[0m     \u001b[0;32mif\u001b[0m \u001b[0mchunksize\u001b[0m \u001b[0;32mor\u001b[0m \u001b[0miterator\u001b[0m\u001b[0;34m:\u001b[0m\u001b[0;34m\u001b[0m\u001b[0;34m\u001b[0m\u001b[0m\n",
            "\u001b[0;32m/usr/local/lib/python3.6/dist-packages/pandas/io/parsers.py\u001b[0m in \u001b[0;36m__init__\u001b[0;34m(self, f, engine, **kwds)\u001b[0m\n\u001b[1;32m    946\u001b[0m             \u001b[0mself\u001b[0m\u001b[0;34m.\u001b[0m\u001b[0moptions\u001b[0m\u001b[0;34m[\u001b[0m\u001b[0;34m\"has_index_names\"\u001b[0m\u001b[0;34m]\u001b[0m \u001b[0;34m=\u001b[0m \u001b[0mkwds\u001b[0m\u001b[0;34m[\u001b[0m\u001b[0;34m\"has_index_names\"\u001b[0m\u001b[0;34m]\u001b[0m\u001b[0;34m\u001b[0m\u001b[0;34m\u001b[0m\u001b[0m\n\u001b[1;32m    947\u001b[0m \u001b[0;34m\u001b[0m\u001b[0m\n\u001b[0;32m--> 948\u001b[0;31m         \u001b[0mself\u001b[0m\u001b[0;34m.\u001b[0m\u001b[0m_make_engine\u001b[0m\u001b[0;34m(\u001b[0m\u001b[0mself\u001b[0m\u001b[0;34m.\u001b[0m\u001b[0mengine\u001b[0m\u001b[0;34m)\u001b[0m\u001b[0;34m\u001b[0m\u001b[0;34m\u001b[0m\u001b[0m\n\u001b[0m\u001b[1;32m    949\u001b[0m \u001b[0;34m\u001b[0m\u001b[0m\n\u001b[1;32m    950\u001b[0m     \u001b[0;32mdef\u001b[0m \u001b[0mclose\u001b[0m\u001b[0;34m(\u001b[0m\u001b[0mself\u001b[0m\u001b[0;34m)\u001b[0m\u001b[0;34m:\u001b[0m\u001b[0;34m\u001b[0m\u001b[0;34m\u001b[0m\u001b[0m\n",
            "\u001b[0;32m/usr/local/lib/python3.6/dist-packages/pandas/io/parsers.py\u001b[0m in \u001b[0;36m_make_engine\u001b[0;34m(self, engine)\u001b[0m\n\u001b[1;32m   1178\u001b[0m     \u001b[0;32mdef\u001b[0m \u001b[0m_make_engine\u001b[0m\u001b[0;34m(\u001b[0m\u001b[0mself\u001b[0m\u001b[0;34m,\u001b[0m \u001b[0mengine\u001b[0m\u001b[0;34m=\u001b[0m\u001b[0;34m\"c\"\u001b[0m\u001b[0;34m)\u001b[0m\u001b[0;34m:\u001b[0m\u001b[0;34m\u001b[0m\u001b[0;34m\u001b[0m\u001b[0m\n\u001b[1;32m   1179\u001b[0m         \u001b[0;32mif\u001b[0m \u001b[0mengine\u001b[0m \u001b[0;34m==\u001b[0m \u001b[0;34m\"c\"\u001b[0m\u001b[0;34m:\u001b[0m\u001b[0;34m\u001b[0m\u001b[0;34m\u001b[0m\u001b[0m\n\u001b[0;32m-> 1180\u001b[0;31m             \u001b[0mself\u001b[0m\u001b[0;34m.\u001b[0m\u001b[0m_engine\u001b[0m \u001b[0;34m=\u001b[0m \u001b[0mCParserWrapper\u001b[0m\u001b[0;34m(\u001b[0m\u001b[0mself\u001b[0m\u001b[0;34m.\u001b[0m\u001b[0mf\u001b[0m\u001b[0;34m,\u001b[0m \u001b[0;34m**\u001b[0m\u001b[0mself\u001b[0m\u001b[0;34m.\u001b[0m\u001b[0moptions\u001b[0m\u001b[0;34m)\u001b[0m\u001b[0;34m\u001b[0m\u001b[0;34m\u001b[0m\u001b[0m\n\u001b[0m\u001b[1;32m   1181\u001b[0m         \u001b[0;32melse\u001b[0m\u001b[0;34m:\u001b[0m\u001b[0;34m\u001b[0m\u001b[0;34m\u001b[0m\u001b[0m\n\u001b[1;32m   1182\u001b[0m             \u001b[0;32mif\u001b[0m \u001b[0mengine\u001b[0m \u001b[0;34m==\u001b[0m \u001b[0;34m\"python\"\u001b[0m\u001b[0;34m:\u001b[0m\u001b[0;34m\u001b[0m\u001b[0;34m\u001b[0m\u001b[0m\n",
            "\u001b[0;32m/usr/local/lib/python3.6/dist-packages/pandas/io/parsers.py\u001b[0m in \u001b[0;36m__init__\u001b[0;34m(self, src, **kwds)\u001b[0m\n\u001b[1;32m   2008\u001b[0m         \u001b[0mkwds\u001b[0m\u001b[0;34m[\u001b[0m\u001b[0;34m\"usecols\"\u001b[0m\u001b[0;34m]\u001b[0m \u001b[0;34m=\u001b[0m \u001b[0mself\u001b[0m\u001b[0;34m.\u001b[0m\u001b[0musecols\u001b[0m\u001b[0;34m\u001b[0m\u001b[0;34m\u001b[0m\u001b[0m\n\u001b[1;32m   2009\u001b[0m \u001b[0;34m\u001b[0m\u001b[0m\n\u001b[0;32m-> 2010\u001b[0;31m         \u001b[0mself\u001b[0m\u001b[0;34m.\u001b[0m\u001b[0m_reader\u001b[0m \u001b[0;34m=\u001b[0m \u001b[0mparsers\u001b[0m\u001b[0;34m.\u001b[0m\u001b[0mTextReader\u001b[0m\u001b[0;34m(\u001b[0m\u001b[0msrc\u001b[0m\u001b[0;34m,\u001b[0m \u001b[0;34m**\u001b[0m\u001b[0mkwds\u001b[0m\u001b[0;34m)\u001b[0m\u001b[0;34m\u001b[0m\u001b[0;34m\u001b[0m\u001b[0m\n\u001b[0m\u001b[1;32m   2011\u001b[0m         \u001b[0mself\u001b[0m\u001b[0;34m.\u001b[0m\u001b[0munnamed_cols\u001b[0m \u001b[0;34m=\u001b[0m \u001b[0mself\u001b[0m\u001b[0;34m.\u001b[0m\u001b[0m_reader\u001b[0m\u001b[0;34m.\u001b[0m\u001b[0munnamed_cols\u001b[0m\u001b[0;34m\u001b[0m\u001b[0;34m\u001b[0m\u001b[0m\n\u001b[1;32m   2012\u001b[0m \u001b[0;34m\u001b[0m\u001b[0m\n",
            "\u001b[0;32mpandas/_libs/parsers.pyx\u001b[0m in \u001b[0;36mpandas._libs.parsers.TextReader.__cinit__\u001b[0;34m()\u001b[0m\n",
            "\u001b[0;32mpandas/_libs/parsers.pyx\u001b[0m in \u001b[0;36mpandas._libs.parsers.TextReader._setup_parser_source\u001b[0;34m()\u001b[0m\n",
            "\u001b[0;31mFileNotFoundError\u001b[0m: [Errno 2] No such file or directory: 'train.csv'"
          ]
        }
      ]
    },
    {
      "cell_type": "code",
      "metadata": {
        "colab": {
          "base_uri": "https://localhost:8080/"
        },
        "id": "FSRVnPc8e-Us",
        "outputId": "6da0e98f-b10c-4ab9-b499-55a1bff6c0ec"
      },
      "source": [
        "df.info()"
      ],
      "execution_count": null,
      "outputs": [
        {
          "output_type": "stream",
          "text": [
            "<class 'pandas.core.frame.DataFrame'>\n",
            "RangeIndex: 614 entries, 0 to 613\n",
            "Data columns (total 13 columns):\n",
            " #   Column             Non-Null Count  Dtype  \n",
            "---  ------             --------------  -----  \n",
            " 0   Loan_ID            614 non-null    object \n",
            " 1   Gender             601 non-null    object \n",
            " 2   Married            611 non-null    object \n",
            " 3   Dependents         599 non-null    object \n",
            " 4   Education          614 non-null    object \n",
            " 5   Self_Employed      582 non-null    object \n",
            " 6   ApplicantIncome    614 non-null    int64  \n",
            " 7   CoapplicantIncome  614 non-null    float64\n",
            " 8   LoanAmount         592 non-null    float64\n",
            " 9   Loan_Amount_Term   600 non-null    float64\n",
            " 10  Credit_History     564 non-null    float64\n",
            " 11  Property_Area      614 non-null    object \n",
            " 12  Loan_Status        614 non-null    object \n",
            "dtypes: float64(4), int64(1), object(8)\n",
            "memory usage: 62.5+ KB\n"
          ],
          "name": "stdout"
        }
      ]
    },
    {
      "cell_type": "code",
      "metadata": {
        "colab": {
          "base_uri": "https://localhost:8080/"
        },
        "id": "CXGIP-6Be-Us",
        "outputId": "e523e3a2-ffe5-4f08-8b29-d7d0e1d9e669"
      },
      "source": [
        "df.columns"
      ],
      "execution_count": null,
      "outputs": [
        {
          "output_type": "execute_result",
          "data": {
            "text/plain": [
              "Index(['Loan_ID', 'Gender', 'Married', 'Dependents', 'Education',\n",
              "       'Self_Employed', 'ApplicantIncome', 'CoapplicantIncome', 'LoanAmount',\n",
              "       'Loan_Amount_Term', 'Credit_History', 'Property_Area', 'Loan_Status'],\n",
              "      dtype='object')"
            ]
          },
          "metadata": {
            "tags": []
          },
          "execution_count": 6
        }
      ]
    },
    {
      "cell_type": "code",
      "metadata": {
        "colab": {
          "base_uri": "https://localhost:8080/"
        },
        "id": "MBTzmNKbe-Us",
        "outputId": "da35d676-91ee-4e13-e367-0afc64f71ef3"
      },
      "source": [
        "cols = df.columns\n",
        "\n",
        "for i in cols:\n",
        "    if df[i].isnull().sum() != 0:\n",
        "        print(\"Column name is:\", i)\n",
        "        print(df[i].isnull().sum())"
      ],
      "execution_count": null,
      "outputs": [
        {
          "output_type": "stream",
          "text": [
            "Column name is: Gender\n",
            "13\n",
            "Column name is: Married\n",
            "3\n",
            "Column name is: Dependents\n",
            "15\n",
            "Column name is: Self_Employed\n",
            "32\n",
            "Column name is: LoanAmount\n",
            "22\n",
            "Column name is: Loan_Amount_Term\n",
            "14\n",
            "Column name is: Credit_History\n",
            "50\n"
          ],
          "name": "stdout"
        }
      ]
    },
    {
      "cell_type": "code",
      "metadata": {
        "colab": {
          "base_uri": "https://localhost:8080/"
        },
        "id": "DdxqVOk5e-Ut",
        "outputId": "fb9dd98c-0a6d-4459-cb49-b1b3bc2192fe"
      },
      "source": [
        "df.dtypes"
      ],
      "execution_count": null,
      "outputs": [
        {
          "output_type": "execute_result",
          "data": {
            "text/plain": [
              "Loan_ID               object\n",
              "Gender                object\n",
              "Married               object\n",
              "Dependents            object\n",
              "Education             object\n",
              "Self_Employed         object\n",
              "ApplicantIncome        int64\n",
              "CoapplicantIncome    float64\n",
              "LoanAmount           float64\n",
              "Loan_Amount_Term     float64\n",
              "Credit_History       float64\n",
              "Property_Area         object\n",
              "Loan_Status           object\n",
              "dtype: object"
            ]
          },
          "metadata": {
            "tags": []
          },
          "execution_count": 8
        }
      ]
    },
    {
      "cell_type": "code",
      "metadata": {
        "colab": {
          "base_uri": "https://localhost:8080/"
        },
        "id": "iT9lnFDHe-Ut",
        "outputId": "280c2c83-a492-49bd-a638-c24fad4974d3"
      },
      "source": [
        "#filling missing values\n",
        "print(df['Gender'].value_counts())\n",
        "df['Gender'].fillna('Male', inplace=True)\n",
        "\n",
        "print(df['Married'].value_counts())\n",
        "df['Married'].fillna('Yes', inplace=True)\n",
        "\n",
        "print(df['Dependents'].value_counts())\n",
        "df['Dependents'].fillna('0', inplace=True)\n",
        "\n",
        "print(df['Self_Employed'].value_counts())\n",
        "df['Self_Employed'].fillna('No', inplace=True)\n",
        "\n",
        "print(df.LoanAmount.describe())\n",
        "df['LoanAmount'].fillna(df.LoanAmount.mean(), inplace = True)\n",
        "\n",
        "print(df['Loan_Amount_Term'].value_counts())\n",
        "df['Loan_Amount_Term'].fillna(512, inplace=True)\n",
        "\n",
        "print(df['Credit_History'].value_counts())\n",
        "df['Credit_History'].fillna(1.0, inplace=True)"
      ],
      "execution_count": null,
      "outputs": [
        {
          "output_type": "stream",
          "text": [
            "Male      489\n",
            "Female    112\n",
            "Name: Gender, dtype: int64\n",
            "Yes    398\n",
            "No     213\n",
            "Name: Married, dtype: int64\n",
            "0     345\n",
            "1     102\n",
            "2     101\n",
            "3+     51\n",
            "Name: Dependents, dtype: int64\n",
            "No     500\n",
            "Yes     82\n",
            "Name: Self_Employed, dtype: int64\n",
            "count    592.000000\n",
            "mean     146.412162\n",
            "std       85.587325\n",
            "min        9.000000\n",
            "25%      100.000000\n",
            "50%      128.000000\n",
            "75%      168.000000\n",
            "max      700.000000\n",
            "Name: LoanAmount, dtype: float64\n",
            "360.0    512\n",
            "180.0     44\n",
            "480.0     15\n",
            "300.0     13\n",
            "84.0       4\n",
            "240.0      4\n",
            "120.0      3\n",
            "36.0       2\n",
            "60.0       2\n",
            "12.0       1\n",
            "Name: Loan_Amount_Term, dtype: int64\n",
            "1.0    475\n",
            "0.0     89\n",
            "Name: Credit_History, dtype: int64\n"
          ],
          "name": "stdout"
        }
      ]
    },
    {
      "cell_type": "code",
      "metadata": {
        "colab": {
          "base_uri": "https://localhost:8080/"
        },
        "id": "HgGJKzaue-Ut",
        "outputId": "fa5d10ff-6420-4df6-a6ca-d6231b4762af"
      },
      "source": [
        "# Get categorical columns\n",
        "cat_cols = []\n",
        "for i in cols:\n",
        "    if df[i].dtypes == 'object' and i!= 'Loan_ID':\n",
        "        print(i)\n",
        "        cat_cols.append(i)\n",
        "\n",
        "# Do label encoding for categorical columns\n",
        "le = LabelEncoder()\n",
        "for i in cat_cols:\n",
        "    df[i] = le.fit_transform(df[i])"
      ],
      "execution_count": null,
      "outputs": [
        {
          "output_type": "stream",
          "text": [
            "Gender\n",
            "Married\n",
            "Dependents\n",
            "Education\n",
            "Self_Employed\n",
            "Property_Area\n",
            "Loan_Status\n"
          ],
          "name": "stdout"
        }
      ]
    },
    {
      "cell_type": "code",
      "metadata": {
        "id": "ClaKsy08e-Ut"
      },
      "source": [
        "#split dataset into train and test\n",
        "\n",
        "train, test = train_test_split(df, test_size=0.3, random_state=0)\n",
        "\n",
        "x_train=train.drop(['Loan_Status', 'Loan_ID'], axis=1)\n",
        "y_train=train['Loan_Status']\n",
        "\n",
        "x_test=test.drop(['Loan_Status', 'Loan_ID'], axis=1)\n",
        "y_test=test['Loan_Status']"
      ],
      "execution_count": null,
      "outputs": []
    },
    {
      "cell_type": "markdown",
      "metadata": {
        "id": "AuSHxHMWe-Ut"
      },
      "source": [
        "#### LogisticRegression "
      ]
    },
    {
      "cell_type": "code",
      "metadata": {
        "colab": {
          "base_uri": "https://localhost:8080/"
        },
        "id": "znrgZAMJe-Ut",
        "outputId": "54a11d1a-e8f6-4894-8c1b-2621126b1868"
      },
      "source": [
        "model = LogisticRegression(random_state=1)\n",
        "model.fit(x_train, y_train)\n",
        "model.score(x_test, y_test)"
      ],
      "execution_count": null,
      "outputs": [
        {
          "output_type": "stream",
          "text": [
            "/usr/local/lib/python3.6/dist-packages/sklearn/linear_model/_logistic.py:940: ConvergenceWarning: lbfgs failed to converge (status=1):\n",
            "STOP: TOTAL NO. of ITERATIONS REACHED LIMIT.\n",
            "\n",
            "Increase the number of iterations (max_iter) or scale the data as shown in:\n",
            "    https://scikit-learn.org/stable/modules/preprocessing.html\n",
            "Please also refer to the documentation for alternative solver options:\n",
            "    https://scikit-learn.org/stable/modules/linear_model.html#logistic-regression\n",
            "  extra_warning_msg=_LOGISTIC_SOLVER_CONVERGENCE_MSG)\n"
          ],
          "name": "stderr"
        },
        {
          "output_type": "execute_result",
          "data": {
            "text/plain": [
              "0.8324324324324325"
            ]
          },
          "metadata": {
            "tags": []
          },
          "execution_count": 12
        }
      ]
    },
    {
      "cell_type": "code",
      "metadata": {
        "id": "JX5SSmOdflhl"
      },
      "source": [
        ""
      ],
      "execution_count": null,
      "outputs": []
    },
    {
      "cell_type": "markdown",
      "metadata": {
        "id": "N_Jvs4Ghe-Uu"
      },
      "source": [
        "#### SVM "
      ]
    },
    {
      "cell_type": "code",
      "metadata": {
        "colab": {
          "base_uri": "https://localhost:8080/"
        },
        "id": "ZqnwcVare-Uu",
        "outputId": "ae60ab7a-ec99-483b-c9fb-23c13dcfa2ca"
      },
      "source": [
        "model = svm.SVC()\n",
        "model.fit(x_train, y_train)\n",
        "model.score(x_test, y_test)"
      ],
      "execution_count": null,
      "outputs": [
        {
          "output_type": "execute_result",
          "data": {
            "text/plain": [
              "0.7243243243243244"
            ]
          },
          "metadata": {
            "tags": []
          },
          "execution_count": 13
        }
      ]
    },
    {
      "cell_type": "code",
      "metadata": {
        "colab": {
          "base_uri": "https://localhost:8080/"
        },
        "id": "QfWh-2KOf-x4",
        "outputId": "35537d26-26ac-4568-c144-9a4a9f1a01b4"
      },
      "source": [
        "model = svm.SVC(kernel='poly',degree=10)\n",
        "model.fit(x_train, y_train)\n",
        "model.score(x_test, y_test)"
      ],
      "execution_count": null,
      "outputs": [
        {
          "output_type": "execute_result",
          "data": {
            "text/plain": [
              "0.7189189189189189"
            ]
          },
          "metadata": {
            "tags": []
          },
          "execution_count": 21
        }
      ]
    },
    {
      "cell_type": "code",
      "metadata": {
        "colab": {
          "base_uri": "https://localhost:8080/"
        },
        "id": "MRlf3F1wgrVj",
        "outputId": "377aace3-a5bb-4e30-8221-40fdedb9ea36"
      },
      "source": [
        "model = svm.SVC(kernel='linear')\n",
        "model.fit(x_train, y_train)\n",
        "model.score(x_test, y_test)"
      ],
      "execution_count": null,
      "outputs": [
        {
          "output_type": "execute_result",
          "data": {
            "text/plain": [
              "0.8162162162162162"
            ]
          },
          "metadata": {
            "tags": []
          },
          "execution_count": 22
        }
      ]
    },
    {
      "cell_type": "markdown",
      "metadata": {
        "id": "OXpadOYAe-Uu"
      },
      "source": [
        "#### Decission Tree "
      ]
    },
    {
      "cell_type": "code",
      "metadata": {
        "colab": {
          "base_uri": "https://localhost:8080/"
        },
        "id": "VtwmqIHoe-Uu",
        "outputId": "83ab8bf9-367f-4237-d16a-a77a35cc70cc"
      },
      "source": [
        "model = tree.DecisionTreeClassifier(random_state=1)\n",
        "model.fit(x_train, y_train)\n",
        "model.score(x_test, y_test)"
      ],
      "execution_count": null,
      "outputs": [
        {
          "output_type": "execute_result",
          "data": {
            "text/plain": [
              "0.7621621621621621"
            ]
          },
          "metadata": {
            "tags": []
          },
          "execution_count": 19
        }
      ]
    },
    {
      "cell_type": "code",
      "metadata": {
        "id": "FIGxSFz7giES"
      },
      "source": [
        ""
      ],
      "execution_count": null,
      "outputs": []
    },
    {
      "cell_type": "markdown",
      "metadata": {
        "id": "8AVNXY81e-Uu"
      },
      "source": [
        "#### Random Forest "
      ]
    },
    {
      "cell_type": "code",
      "metadata": {
        "colab": {
          "base_uri": "https://localhost:8080/"
        },
        "id": "X30eT-97e-Uu",
        "outputId": "74244b58-5472-41a1-9966-b2ab6922e8d7"
      },
      "source": [
        "model= RandomForestClassifier(random_state=1)\n",
        "model.fit(x_train, y_train)\n",
        "model.score(x_test,y_test)"
      ],
      "execution_count": null,
      "outputs": [
        {
          "output_type": "execute_result",
          "data": {
            "text/plain": [
              "0.7945945945945946"
            ]
          },
          "metadata": {
            "tags": []
          },
          "execution_count": 20
        }
      ]
    },
    {
      "cell_type": "code",
      "metadata": {
        "colab": {
          "base_uri": "https://localhost:8080/"
        },
        "id": "vrg7FT2ki9fq",
        "outputId": "5157748c-1dd3-4d00-c70f-805a8f500297"
      },
      "source": [
        "model= RandomForestClassifier(n_estimators=250,max_depth=3)\n",
        "model.fit(x_train, y_train)\n",
        "model.score(x_test,y_test)"
      ],
      "execution_count": null,
      "outputs": [
        {
          "output_type": "execute_result",
          "data": {
            "text/plain": [
              "0.827027027027027"
            ]
          },
          "metadata": {
            "tags": []
          },
          "execution_count": 26
        }
      ]
    },
    {
      "cell_type": "code",
      "metadata": {
        "colab": {
          "base_uri": "https://localhost:8080/"
        },
        "id": "9Pgg_z_re-Uu",
        "outputId": "4c3ecbab-5ab3-424b-e6af-2831fe8db686"
      },
      "source": [
        "# Get feature importance\n",
        "for i, j in sorted(zip(x_train.columns, model.feature_importances_)):\n",
        "    print(i, j)"
      ],
      "execution_count": null,
      "outputs": [
        {
          "output_type": "stream",
          "text": [
            "ApplicantIncome 0.0914217015372031\n",
            "CoapplicantIncome 0.05978571671817359\n",
            "Credit_History 0.5970604558982092\n",
            "Dependents 0.020366296391574962\n",
            "Education 0.029729540280313375\n",
            "Gender 0.002650472027742256\n",
            "LoanAmount 0.10356065916385716\n",
            "Loan_Amount_Term 0.03375750167119457\n",
            "Married 0.018584712604192723\n",
            "Property_Area 0.03673012824009951\n",
            "Self_Employed 0.0063528154674396915\n"
          ],
          "name": "stdout"
        }
      ]
    },
    {
      "cell_type": "markdown",
      "metadata": {
        "id": "_qzRAhFZe-Uv"
      },
      "source": [
        "#### XGBoost "
      ]
    },
    {
      "cell_type": "code",
      "metadata": {
        "colab": {
          "base_uri": "https://localhost:8080/"
        },
        "id": "0diaEW5Ae-Uv",
        "outputId": "00dea53f-cef9-4f64-d015-85935c1dc1c8"
      },
      "source": [
        "model=xgb.XGBClassifier(random_state=1,learning_rate=0.01)\n",
        "model.fit(x_train, y_train)\n",
        "model.score(x_test,y_test)"
      ],
      "execution_count": null,
      "outputs": [
        {
          "output_type": "execute_result",
          "data": {
            "text/plain": [
              "0.827027027027027"
            ]
          },
          "metadata": {
            "tags": []
          },
          "execution_count": 29
        }
      ]
    },
    {
      "cell_type": "code",
      "metadata": {
        "colab": {
          "base_uri": "https://localhost:8080/"
        },
        "id": "dXiqq5r9kV9q",
        "outputId": "1e5add51-d979-434e-dafc-b2c302902155"
      },
      "source": [
        "model=xgb.XGBClassifier(random_state=1,learning_rate=0.1,n_estimators=400)\n",
        "model.fit(x_train, y_train)\n",
        "model.score(x_test,y_test)"
      ],
      "execution_count": null,
      "outputs": [
        {
          "output_type": "execute_result",
          "data": {
            "text/plain": [
              "0.7837837837837838"
            ]
          },
          "metadata": {
            "tags": []
          },
          "execution_count": 31
        }
      ]
    },
    {
      "cell_type": "markdown",
      "metadata": {
        "id": "12vDM4Fee-Uv"
      },
      "source": [
        "#### LightGBM "
      ]
    },
    {
      "cell_type": "code",
      "metadata": {
        "colab": {
          "base_uri": "https://localhost:8080/"
        },
        "id": "NHJa5up4e-Uv",
        "outputId": "6269bb24-9751-4dce-e336-eddede88446c"
      },
      "source": [
        "train_data=lgb.Dataset(x_train,label=y_train)\n",
        "#define parameters\n",
        "params = {'learning_rate':0.001}\n",
        "model= lgb.train(params, train_data, 100) \n",
        "y_pred=model.predict(x_test)\n",
        "for i in range(0,185):\n",
        "    if y_pred[i]>=0.5: \n",
        "        y_pred[i]=1\n",
        "else: \n",
        "    y_pred[i]=0\n",
        "accuracy_score(y_test, y_pred)"
      ],
      "execution_count": null,
      "outputs": [
        {
          "output_type": "execute_result",
          "data": {
            "text/plain": [
              "0.7189189189189189"
            ]
          },
          "metadata": {
            "tags": []
          },
          "execution_count": 32
        }
      ]
    },
    {
      "cell_type": "markdown",
      "metadata": {
        "id": "q1zFPZi8e-Uv"
      },
      "source": [
        "#### CatBoost (Categorical Data Automatically handling)"
      ]
    },
    {
      "cell_type": "code",
      "metadata": {
        "colab": {
          "base_uri": "https://localhost:8080/"
        },
        "id": "CEMGT6PGe-Uv",
        "outputId": "9ae4c12d-4208-4c10-8638-ead37aac4723"
      },
      "source": [
        "model=CatBoostClassifier()\n",
        "categorical_features_indices = np.where(df.dtypes != np.float)[0]\n",
        "model.fit(x_train,y_train,cat_features=([ 0,  1, 2, 3, 4, 10]),eval_set=(x_test, y_test))\n",
        "# here 0,1,2,3,4,10 represent index of categorical data\n",
        "model.score(x_test,y_test)"
      ],
      "execution_count": null,
      "outputs": [
        {
          "output_type": "stream",
          "text": [
            "Learning rate set to 0.025711\n",
            "0:\tlearn: 0.6794857\ttest: 0.6808164\tbest: 0.6808164 (0)\ttotal: 52.5ms\tremaining: 52.5s\n",
            "1:\tlearn: 0.6686164\ttest: 0.6694985\tbest: 0.6694985 (1)\ttotal: 53.8ms\tremaining: 26.9s\n",
            "2:\tlearn: 0.6580962\ttest: 0.6584226\tbest: 0.6584226 (2)\ttotal: 55ms\tremaining: 18.3s\n",
            "3:\tlearn: 0.6466061\ttest: 0.6481062\tbest: 0.6481062 (3)\ttotal: 57.6ms\tremaining: 14.3s\n",
            "4:\tlearn: 0.6361742\ttest: 0.6382075\tbest: 0.6382075 (4)\ttotal: 60.1ms\tremaining: 11.9s\n",
            "5:\tlearn: 0.6267725\ttest: 0.6280762\tbest: 0.6280762 (5)\ttotal: 61.7ms\tremaining: 10.2s\n",
            "6:\tlearn: 0.6176542\ttest: 0.6189313\tbest: 0.6189313 (6)\ttotal: 64ms\tremaining: 9.08s\n",
            "7:\tlearn: 0.6088622\ttest: 0.6105600\tbest: 0.6105600 (7)\ttotal: 66.4ms\tremaining: 8.24s\n",
            "8:\tlearn: 0.5994512\ttest: 0.6021100\tbest: 0.6021100 (8)\ttotal: 68.8ms\tremaining: 7.58s\n",
            "9:\tlearn: 0.5926521\ttest: 0.5948715\tbest: 0.5948715 (9)\ttotal: 69.8ms\tremaining: 6.91s\n",
            "10:\tlearn: 0.5846648\ttest: 0.5867226\tbest: 0.5867226 (10)\ttotal: 72.1ms\tremaining: 6.48s\n",
            "11:\tlearn: 0.5771967\ttest: 0.5806666\tbest: 0.5806666 (11)\ttotal: 74.5ms\tremaining: 6.13s\n",
            "12:\tlearn: 0.5708917\ttest: 0.5744300\tbest: 0.5744300 (12)\ttotal: 76.8ms\tremaining: 5.83s\n",
            "13:\tlearn: 0.5637138\ttest: 0.5682043\tbest: 0.5682043 (13)\ttotal: 79.3ms\tremaining: 5.58s\n",
            "14:\tlearn: 0.5580792\ttest: 0.5634450\tbest: 0.5634450 (14)\ttotal: 81.7ms\tremaining: 5.36s\n",
            "15:\tlearn: 0.5530160\ttest: 0.5584008\tbest: 0.5584008 (15)\ttotal: 84ms\tremaining: 5.17s\n",
            "16:\tlearn: 0.5484927\ttest: 0.5536344\tbest: 0.5536344 (16)\ttotal: 87.1ms\tremaining: 5.04s\n",
            "17:\tlearn: 0.5434731\ttest: 0.5488482\tbest: 0.5488482 (17)\ttotal: 90.1ms\tremaining: 4.91s\n",
            "18:\tlearn: 0.5395199\ttest: 0.5444950\tbest: 0.5444950 (18)\ttotal: 91.3ms\tremaining: 4.71s\n",
            "19:\tlearn: 0.5342036\ttest: 0.5394836\tbest: 0.5394836 (19)\ttotal: 94.5ms\tremaining: 4.63s\n",
            "20:\tlearn: 0.5293801\ttest: 0.5347588\tbest: 0.5347588 (20)\ttotal: 96.9ms\tremaining: 4.52s\n",
            "21:\tlearn: 0.5245606\ttest: 0.5310587\tbest: 0.5310587 (21)\ttotal: 99.5ms\tremaining: 4.42s\n",
            "22:\tlearn: 0.5214636\ttest: 0.5275489\tbest: 0.5275489 (22)\ttotal: 101ms\tremaining: 4.27s\n",
            "23:\tlearn: 0.5184864\ttest: 0.5242435\tbest: 0.5242435 (23)\ttotal: 102ms\tremaining: 4.14s\n",
            "24:\tlearn: 0.5157320\ttest: 0.5210857\tbest: 0.5210857 (24)\ttotal: 103ms\tremaining: 4.01s\n",
            "25:\tlearn: 0.5126797\ttest: 0.5180382\tbest: 0.5180382 (25)\ttotal: 104ms\tremaining: 3.91s\n",
            "26:\tlearn: 0.5091724\ttest: 0.5144077\tbest: 0.5144077 (26)\ttotal: 107ms\tremaining: 3.85s\n",
            "27:\tlearn: 0.5068708\ttest: 0.5117138\tbest: 0.5117138 (27)\ttotal: 108ms\tremaining: 3.74s\n",
            "28:\tlearn: 0.5047070\ttest: 0.5091625\tbest: 0.5091625 (28)\ttotal: 109ms\tremaining: 3.65s\n",
            "29:\tlearn: 0.5023800\ttest: 0.5064905\tbest: 0.5064905 (29)\ttotal: 111ms\tremaining: 3.57s\n",
            "30:\tlearn: 0.5002135\ttest: 0.5039617\tbest: 0.5039617 (30)\ttotal: 112ms\tremaining: 3.5s\n",
            "31:\tlearn: 0.4995497\ttest: 0.5029056\tbest: 0.5029056 (31)\ttotal: 113ms\tremaining: 3.41s\n",
            "32:\tlearn: 0.4968749\ttest: 0.5006248\tbest: 0.5006248 (32)\ttotal: 115ms\tremaining: 3.38s\n",
            "33:\tlearn: 0.4935247\ttest: 0.4986765\tbest: 0.4986765 (33)\ttotal: 118ms\tremaining: 3.35s\n",
            "34:\tlearn: 0.4900679\ttest: 0.4956811\tbest: 0.4956811 (34)\ttotal: 121ms\tremaining: 3.32s\n",
            "35:\tlearn: 0.4875198\ttest: 0.4933732\tbest: 0.4933732 (35)\ttotal: 123ms\tremaining: 3.29s\n",
            "36:\tlearn: 0.4846539\ttest: 0.4912641\tbest: 0.4912641 (36)\ttotal: 126ms\tremaining: 3.29s\n",
            "37:\tlearn: 0.4838387\ttest: 0.4905844\tbest: 0.4905844 (37)\ttotal: 130ms\tremaining: 3.29s\n",
            "38:\tlearn: 0.4825822\ttest: 0.4896023\tbest: 0.4896023 (38)\ttotal: 132ms\tremaining: 3.25s\n",
            "39:\tlearn: 0.4812579\ttest: 0.4879700\tbest: 0.4879700 (39)\ttotal: 133ms\tremaining: 3.19s\n",
            "40:\tlearn: 0.4785913\ttest: 0.4864660\tbest: 0.4864660 (40)\ttotal: 136ms\tremaining: 3.17s\n",
            "41:\tlearn: 0.4774260\ttest: 0.4850104\tbest: 0.4850104 (41)\ttotal: 137ms\tremaining: 3.12s\n",
            "42:\tlearn: 0.4752542\ttest: 0.4829685\tbest: 0.4829685 (42)\ttotal: 139ms\tremaining: 3.1s\n",
            "43:\tlearn: 0.4735061\ttest: 0.4809869\tbest: 0.4809869 (43)\ttotal: 142ms\tremaining: 3.08s\n",
            "44:\tlearn: 0.4716025\ttest: 0.4800366\tbest: 0.4800366 (44)\ttotal: 144ms\tremaining: 3.06s\n",
            "45:\tlearn: 0.4702042\ttest: 0.4789655\tbest: 0.4789655 (45)\ttotal: 147ms\tremaining: 3.05s\n",
            "46:\tlearn: 0.4678128\ttest: 0.4773754\tbest: 0.4773754 (46)\ttotal: 149ms\tremaining: 3.03s\n",
            "47:\tlearn: 0.4662497\ttest: 0.4766385\tbest: 0.4766385 (47)\ttotal: 152ms\tremaining: 3.01s\n",
            "48:\tlearn: 0.4654116\ttest: 0.4760872\tbest: 0.4760872 (48)\ttotal: 154ms\tremaining: 2.99s\n",
            "49:\tlearn: 0.4651627\ttest: 0.4756026\tbest: 0.4756026 (49)\ttotal: 155ms\tremaining: 2.94s\n",
            "50:\tlearn: 0.4643275\ttest: 0.4745652\tbest: 0.4745652 (50)\ttotal: 156ms\tremaining: 2.9s\n",
            "51:\tlearn: 0.4641024\ttest: 0.4741159\tbest: 0.4741159 (51)\ttotal: 156ms\tremaining: 2.85s\n",
            "52:\tlearn: 0.4626548\ttest: 0.4741982\tbest: 0.4741159 (51)\ttotal: 159ms\tremaining: 2.84s\n",
            "53:\tlearn: 0.4623584\ttest: 0.4738632\tbest: 0.4738632 (53)\ttotal: 160ms\tremaining: 2.8s\n",
            "54:\tlearn: 0.4621672\ttest: 0.4734642\tbest: 0.4734642 (54)\ttotal: 161ms\tremaining: 2.76s\n",
            "55:\tlearn: 0.4603352\ttest: 0.4733157\tbest: 0.4733157 (55)\ttotal: 163ms\tremaining: 2.75s\n",
            "56:\tlearn: 0.4583642\ttest: 0.4730629\tbest: 0.4730629 (56)\ttotal: 165ms\tremaining: 2.73s\n",
            "57:\tlearn: 0.4573016\ttest: 0.4718638\tbest: 0.4718638 (57)\ttotal: 168ms\tremaining: 2.73s\n",
            "58:\tlearn: 0.4549458\ttest: 0.4717286\tbest: 0.4717286 (58)\ttotal: 170ms\tremaining: 2.71s\n",
            "59:\tlearn: 0.4537233\ttest: 0.4712570\tbest: 0.4712570 (59)\ttotal: 173ms\tremaining: 2.7s\n",
            "60:\tlearn: 0.4529366\ttest: 0.4711520\tbest: 0.4711520 (60)\ttotal: 175ms\tremaining: 2.69s\n",
            "61:\tlearn: 0.4508144\ttest: 0.4701496\tbest: 0.4701496 (61)\ttotal: 177ms\tremaining: 2.68s\n",
            "62:\tlearn: 0.4503786\ttest: 0.4696211\tbest: 0.4696211 (62)\ttotal: 180ms\tremaining: 2.67s\n",
            "63:\tlearn: 0.4494722\ttest: 0.4694095\tbest: 0.4694095 (63)\ttotal: 182ms\tremaining: 2.66s\n",
            "64:\tlearn: 0.4465960\ttest: 0.4686691\tbest: 0.4686691 (64)\ttotal: 184ms\tremaining: 2.65s\n",
            "65:\tlearn: 0.4445562\ttest: 0.4675529\tbest: 0.4675529 (65)\ttotal: 187ms\tremaining: 2.64s\n",
            "66:\tlearn: 0.4427500\ttest: 0.4671407\tbest: 0.4671407 (66)\ttotal: 190ms\tremaining: 2.64s\n",
            "67:\tlearn: 0.4426654\ttest: 0.4669205\tbest: 0.4669205 (67)\ttotal: 191ms\tremaining: 2.61s\n",
            "68:\tlearn: 0.4419506\ttest: 0.4660617\tbest: 0.4660617 (68)\ttotal: 193ms\tremaining: 2.6s\n",
            "69:\tlearn: 0.4404406\ttest: 0.4652696\tbest: 0.4652696 (69)\ttotal: 198ms\tremaining: 2.63s\n",
            "70:\tlearn: 0.4390810\ttest: 0.4645921\tbest: 0.4645921 (70)\ttotal: 201ms\tremaining: 2.63s\n",
            "71:\tlearn: 0.4366189\ttest: 0.4638973\tbest: 0.4638973 (71)\ttotal: 203ms\tremaining: 2.62s\n",
            "72:\tlearn: 0.4362555\ttest: 0.4634060\tbest: 0.4634060 (72)\ttotal: 204ms\tremaining: 2.59s\n",
            "73:\tlearn: 0.4348363\ttest: 0.4632938\tbest: 0.4632938 (73)\ttotal: 207ms\tremaining: 2.59s\n",
            "74:\tlearn: 0.4335663\ttest: 0.4632011\tbest: 0.4632011 (74)\ttotal: 209ms\tremaining: 2.58s\n",
            "75:\tlearn: 0.4327894\ttest: 0.4631469\tbest: 0.4631469 (75)\ttotal: 212ms\tremaining: 2.58s\n",
            "76:\tlearn: 0.4324550\ttest: 0.4626965\tbest: 0.4626965 (76)\ttotal: 213ms\tremaining: 2.55s\n",
            "77:\tlearn: 0.4301792\ttest: 0.4621568\tbest: 0.4621568 (77)\ttotal: 215ms\tremaining: 2.54s\n",
            "78:\tlearn: 0.4301354\ttest: 0.4620150\tbest: 0.4620150 (78)\ttotal: 216ms\tremaining: 2.52s\n",
            "79:\tlearn: 0.4281667\ttest: 0.4615414\tbest: 0.4615414 (79)\ttotal: 220ms\tremaining: 2.53s\n",
            "80:\tlearn: 0.4281287\ttest: 0.4614133\tbest: 0.4614133 (80)\ttotal: 221ms\tremaining: 2.51s\n",
            "81:\tlearn: 0.4271547\ttest: 0.4611493\tbest: 0.4611493 (81)\ttotal: 224ms\tremaining: 2.5s\n",
            "82:\tlearn: 0.4255613\ttest: 0.4607830\tbest: 0.4607830 (82)\ttotal: 226ms\tremaining: 2.5s\n",
            "83:\tlearn: 0.4239268\ttest: 0.4606280\tbest: 0.4606280 (83)\ttotal: 229ms\tremaining: 2.49s\n",
            "84:\tlearn: 0.4228740\ttest: 0.4599964\tbest: 0.4599964 (84)\ttotal: 231ms\tremaining: 2.49s\n",
            "85:\tlearn: 0.4220615\ttest: 0.4598980\tbest: 0.4598980 (85)\ttotal: 234ms\tremaining: 2.48s\n",
            "86:\tlearn: 0.4202771\ttest: 0.4601545\tbest: 0.4598980 (85)\ttotal: 236ms\tremaining: 2.48s\n",
            "87:\tlearn: 0.4189030\ttest: 0.4596837\tbest: 0.4596837 (87)\ttotal: 238ms\tremaining: 2.47s\n",
            "88:\tlearn: 0.4177392\ttest: 0.4594956\tbest: 0.4594956 (88)\ttotal: 241ms\tremaining: 2.46s\n",
            "89:\tlearn: 0.4167346\ttest: 0.4595314\tbest: 0.4594956 (88)\ttotal: 244ms\tremaining: 2.46s\n",
            "90:\tlearn: 0.4154177\ttest: 0.4588151\tbest: 0.4588151 (90)\ttotal: 246ms\tremaining: 2.46s\n",
            "91:\tlearn: 0.4151551\ttest: 0.4587821\tbest: 0.4587821 (91)\ttotal: 248ms\tremaining: 2.44s\n",
            "92:\tlearn: 0.4149949\ttest: 0.4587663\tbest: 0.4587663 (92)\ttotal: 249ms\tremaining: 2.43s\n",
            "93:\tlearn: 0.4140466\ttest: 0.4581968\tbest: 0.4581968 (93)\ttotal: 251ms\tremaining: 2.42s\n",
            "94:\tlearn: 0.4136927\ttest: 0.4582919\tbest: 0.4581968 (93)\ttotal: 254ms\tremaining: 2.42s\n",
            "95:\tlearn: 0.4125261\ttest: 0.4579507\tbest: 0.4579507 (95)\ttotal: 256ms\tremaining: 2.41s\n",
            "96:\tlearn: 0.4111999\ttest: 0.4585064\tbest: 0.4579507 (95)\ttotal: 259ms\tremaining: 2.41s\n",
            "97:\tlearn: 0.4097397\ttest: 0.4579989\tbest: 0.4579507 (95)\ttotal: 261ms\tremaining: 2.41s\n",
            "98:\tlearn: 0.4088647\ttest: 0.4575733\tbest: 0.4575733 (98)\ttotal: 264ms\tremaining: 2.4s\n",
            "99:\tlearn: 0.4086794\ttest: 0.4576720\tbest: 0.4575733 (98)\ttotal: 265ms\tremaining: 2.39s\n",
            "100:\tlearn: 0.4066949\ttest: 0.4571424\tbest: 0.4571424 (100)\ttotal: 268ms\tremaining: 2.38s\n",
            "101:\tlearn: 0.4053050\ttest: 0.4569259\tbest: 0.4569259 (101)\ttotal: 270ms\tremaining: 2.38s\n",
            "102:\tlearn: 0.4046744\ttest: 0.4567340\tbest: 0.4567340 (102)\ttotal: 272ms\tremaining: 2.37s\n",
            "103:\tlearn: 0.4046299\ttest: 0.4567734\tbest: 0.4567340 (102)\ttotal: 274ms\tremaining: 2.36s\n",
            "104:\tlearn: 0.4036785\ttest: 0.4566681\tbest: 0.4566681 (104)\ttotal: 276ms\tremaining: 2.35s\n",
            "105:\tlearn: 0.4032840\ttest: 0.4564564\tbest: 0.4564564 (105)\ttotal: 279ms\tremaining: 2.35s\n",
            "106:\tlearn: 0.4031498\ttest: 0.4565087\tbest: 0.4564564 (105)\ttotal: 280ms\tremaining: 2.33s\n",
            "107:\tlearn: 0.4021764\ttest: 0.4564696\tbest: 0.4564564 (105)\ttotal: 282ms\tremaining: 2.33s\n",
            "108:\tlearn: 0.4018649\ttest: 0.4566322\tbest: 0.4564564 (105)\ttotal: 285ms\tremaining: 2.33s\n",
            "109:\tlearn: 0.4013906\ttest: 0.4565621\tbest: 0.4564564 (105)\ttotal: 287ms\tremaining: 2.32s\n",
            "110:\tlearn: 0.4000498\ttest: 0.4562825\tbest: 0.4562825 (110)\ttotal: 290ms\tremaining: 2.32s\n",
            "111:\tlearn: 0.3989978\ttest: 0.4560869\tbest: 0.4560869 (111)\ttotal: 292ms\tremaining: 2.31s\n",
            "112:\tlearn: 0.3982656\ttest: 0.4559751\tbest: 0.4559751 (112)\ttotal: 294ms\tremaining: 2.31s\n",
            "113:\tlearn: 0.3978879\ttest: 0.4559269\tbest: 0.4559269 (113)\ttotal: 296ms\tremaining: 2.3s\n",
            "114:\tlearn: 0.3975840\ttest: 0.4558487\tbest: 0.4558487 (114)\ttotal: 298ms\tremaining: 2.29s\n",
            "115:\tlearn: 0.3970515\ttest: 0.4561417\tbest: 0.4558487 (114)\ttotal: 300ms\tremaining: 2.29s\n",
            "116:\tlearn: 0.3958890\ttest: 0.4559398\tbest: 0.4558487 (114)\ttotal: 303ms\tremaining: 2.28s\n",
            "117:\tlearn: 0.3942361\ttest: 0.4560028\tbest: 0.4558487 (114)\ttotal: 305ms\tremaining: 2.28s\n",
            "118:\tlearn: 0.3942343\ttest: 0.4559816\tbest: 0.4558487 (114)\ttotal: 306ms\tremaining: 2.26s\n",
            "119:\tlearn: 0.3934699\ttest: 0.4557985\tbest: 0.4557985 (119)\ttotal: 308ms\tremaining: 2.26s\n",
            "120:\tlearn: 0.3931339\ttest: 0.4555664\tbest: 0.4555664 (120)\ttotal: 310ms\tremaining: 2.25s\n",
            "121:\tlearn: 0.3926553\ttest: 0.4555441\tbest: 0.4555441 (121)\ttotal: 313ms\tremaining: 2.25s\n",
            "122:\tlearn: 0.3920174\ttest: 0.4553972\tbest: 0.4553972 (122)\ttotal: 315ms\tremaining: 2.25s\n",
            "123:\tlearn: 0.3915642\ttest: 0.4556314\tbest: 0.4553972 (122)\ttotal: 317ms\tremaining: 2.24s\n",
            "124:\tlearn: 0.3909222\ttest: 0.4554592\tbest: 0.4553972 (122)\ttotal: 319ms\tremaining: 2.23s\n",
            "125:\tlearn: 0.3903170\ttest: 0.4558883\tbest: 0.4553972 (122)\ttotal: 321ms\tremaining: 2.23s\n",
            "126:\tlearn: 0.3892311\ttest: 0.4560263\tbest: 0.4553972 (122)\ttotal: 323ms\tremaining: 2.22s\n",
            "127:\tlearn: 0.3877389\ttest: 0.4556877\tbest: 0.4553972 (122)\ttotal: 326ms\tremaining: 2.22s\n",
            "128:\tlearn: 0.3875272\ttest: 0.4555553\tbest: 0.4553972 (122)\ttotal: 328ms\tremaining: 2.22s\n",
            "129:\tlearn: 0.3873512\ttest: 0.4556557\tbest: 0.4553972 (122)\ttotal: 330ms\tremaining: 2.21s\n",
            "130:\tlearn: 0.3864889\ttest: 0.4550677\tbest: 0.4550677 (130)\ttotal: 332ms\tremaining: 2.21s\n",
            "131:\tlearn: 0.3860931\ttest: 0.4549377\tbest: 0.4549377 (131)\ttotal: 335ms\tremaining: 2.2s\n",
            "132:\tlearn: 0.3854819\ttest: 0.4552460\tbest: 0.4549377 (131)\ttotal: 337ms\tremaining: 2.2s\n",
            "133:\tlearn: 0.3854138\ttest: 0.4553345\tbest: 0.4549377 (131)\ttotal: 338ms\tremaining: 2.19s\n",
            "134:\tlearn: 0.3845186\ttest: 0.4549205\tbest: 0.4549205 (134)\ttotal: 341ms\tremaining: 2.18s\n",
            "135:\tlearn: 0.3837233\ttest: 0.4550089\tbest: 0.4549205 (134)\ttotal: 343ms\tremaining: 2.18s\n",
            "136:\tlearn: 0.3836993\ttest: 0.4550278\tbest: 0.4549205 (134)\ttotal: 345ms\tremaining: 2.17s\n",
            "137:\tlearn: 0.3831657\ttest: 0.4550062\tbest: 0.4549205 (134)\ttotal: 348ms\tremaining: 2.17s\n",
            "138:\tlearn: 0.3825818\ttest: 0.4552012\tbest: 0.4549205 (134)\ttotal: 350ms\tremaining: 2.17s\n",
            "139:\tlearn: 0.3821350\ttest: 0.4553983\tbest: 0.4549205 (134)\ttotal: 352ms\tremaining: 2.16s\n",
            "140:\tlearn: 0.3818615\ttest: 0.4552431\tbest: 0.4549205 (134)\ttotal: 354ms\tremaining: 2.15s\n",
            "141:\tlearn: 0.3813871\ttest: 0.4556817\tbest: 0.4549205 (134)\ttotal: 356ms\tremaining: 2.15s\n",
            "142:\tlearn: 0.3812784\ttest: 0.4557486\tbest: 0.4549205 (134)\ttotal: 357ms\tremaining: 2.14s\n",
            "143:\tlearn: 0.3812784\ttest: 0.4557461\tbest: 0.4549205 (134)\ttotal: 358ms\tremaining: 2.13s\n",
            "144:\tlearn: 0.3811138\ttest: 0.4557121\tbest: 0.4549205 (134)\ttotal: 359ms\tremaining: 2.12s\n",
            "145:\tlearn: 0.3802984\ttest: 0.4559536\tbest: 0.4549205 (134)\ttotal: 361ms\tremaining: 2.11s\n",
            "146:\tlearn: 0.3796378\ttest: 0.4557067\tbest: 0.4549205 (134)\ttotal: 364ms\tremaining: 2.11s\n",
            "147:\tlearn: 0.3795440\ttest: 0.4557678\tbest: 0.4549205 (134)\ttotal: 365ms\tremaining: 2.1s\n",
            "148:\tlearn: 0.3793523\ttest: 0.4558258\tbest: 0.4549205 (134)\ttotal: 366ms\tremaining: 2.09s\n",
            "149:\tlearn: 0.3785828\ttest: 0.4557940\tbest: 0.4549205 (134)\ttotal: 369ms\tremaining: 2.09s\n",
            "150:\tlearn: 0.3779769\ttest: 0.4555138\tbest: 0.4549205 (134)\ttotal: 371ms\tremaining: 2.08s\n",
            "151:\tlearn: 0.3775042\ttest: 0.4555212\tbest: 0.4549205 (134)\ttotal: 375ms\tremaining: 2.09s\n",
            "152:\tlearn: 0.3774301\ttest: 0.4555605\tbest: 0.4549205 (134)\ttotal: 377ms\tremaining: 2.09s\n",
            "153:\tlearn: 0.3759717\ttest: 0.4553223\tbest: 0.4549205 (134)\ttotal: 381ms\tremaining: 2.09s\n",
            "154:\tlearn: 0.3757494\ttest: 0.4554819\tbest: 0.4549205 (134)\ttotal: 383ms\tremaining: 2.09s\n",
            "155:\tlearn: 0.3755305\ttest: 0.4553306\tbest: 0.4549205 (134)\ttotal: 388ms\tremaining: 2.1s\n",
            "156:\tlearn: 0.3747301\ttest: 0.4554920\tbest: 0.4549205 (134)\ttotal: 392ms\tremaining: 2.1s\n",
            "157:\tlearn: 0.3735820\ttest: 0.4551640\tbest: 0.4549205 (134)\ttotal: 396ms\tremaining: 2.11s\n",
            "158:\tlearn: 0.3728867\ttest: 0.4551471\tbest: 0.4549205 (134)\ttotal: 398ms\tremaining: 2.11s\n",
            "159:\tlearn: 0.3716512\ttest: 0.4546364\tbest: 0.4546364 (159)\ttotal: 401ms\tremaining: 2.1s\n",
            "160:\tlearn: 0.3704963\ttest: 0.4554418\tbest: 0.4546364 (159)\ttotal: 403ms\tremaining: 2.1s\n",
            "161:\tlearn: 0.3699529\ttest: 0.4553398\tbest: 0.4546364 (159)\ttotal: 405ms\tremaining: 2.1s\n",
            "162:\tlearn: 0.3697078\ttest: 0.4551641\tbest: 0.4546364 (159)\ttotal: 408ms\tremaining: 2.09s\n",
            "163:\tlearn: 0.3691560\ttest: 0.4548087\tbest: 0.4546364 (159)\ttotal: 410ms\tremaining: 2.09s\n",
            "164:\tlearn: 0.3688974\ttest: 0.4548753\tbest: 0.4546364 (159)\ttotal: 412ms\tremaining: 2.09s\n",
            "165:\tlearn: 0.3681917\ttest: 0.4547948\tbest: 0.4546364 (159)\ttotal: 415ms\tremaining: 2.08s\n",
            "166:\tlearn: 0.3672470\ttest: 0.4549966\tbest: 0.4546364 (159)\ttotal: 417ms\tremaining: 2.08s\n",
            "167:\tlearn: 0.3664236\ttest: 0.4548987\tbest: 0.4546364 (159)\ttotal: 419ms\tremaining: 2.08s\n",
            "168:\tlearn: 0.3658541\ttest: 0.4551831\tbest: 0.4546364 (159)\ttotal: 422ms\tremaining: 2.07s\n",
            "169:\tlearn: 0.3647380\ttest: 0.4552959\tbest: 0.4546364 (159)\ttotal: 424ms\tremaining: 2.07s\n",
            "170:\tlearn: 0.3644756\ttest: 0.4552190\tbest: 0.4546364 (159)\ttotal: 426ms\tremaining: 2.06s\n",
            "171:\tlearn: 0.3640889\ttest: 0.4550503\tbest: 0.4546364 (159)\ttotal: 428ms\tremaining: 2.06s\n",
            "172:\tlearn: 0.3634872\ttest: 0.4553821\tbest: 0.4546364 (159)\ttotal: 430ms\tremaining: 2.06s\n",
            "173:\tlearn: 0.3632435\ttest: 0.4553144\tbest: 0.4546364 (159)\ttotal: 433ms\tremaining: 2.05s\n",
            "174:\tlearn: 0.3622517\ttest: 0.4553339\tbest: 0.4546364 (159)\ttotal: 435ms\tremaining: 2.05s\n",
            "175:\tlearn: 0.3615829\ttest: 0.4551881\tbest: 0.4546364 (159)\ttotal: 437ms\tremaining: 2.05s\n",
            "176:\tlearn: 0.3607914\ttest: 0.4552007\tbest: 0.4546364 (159)\ttotal: 440ms\tremaining: 2.04s\n",
            "177:\tlearn: 0.3599746\ttest: 0.4553005\tbest: 0.4546364 (159)\ttotal: 442ms\tremaining: 2.04s\n",
            "178:\tlearn: 0.3594824\ttest: 0.4550830\tbest: 0.4546364 (159)\ttotal: 444ms\tremaining: 2.04s\n",
            "179:\tlearn: 0.3590969\ttest: 0.4550712\tbest: 0.4546364 (159)\ttotal: 447ms\tremaining: 2.04s\n",
            "180:\tlearn: 0.3579063\ttest: 0.4555880\tbest: 0.4546364 (159)\ttotal: 449ms\tremaining: 2.03s\n",
            "181:\tlearn: 0.3574841\ttest: 0.4553690\tbest: 0.4546364 (159)\ttotal: 452ms\tremaining: 2.03s\n",
            "182:\tlearn: 0.3574838\ttest: 0.4553761\tbest: 0.4546364 (159)\ttotal: 453ms\tremaining: 2.02s\n",
            "183:\tlearn: 0.3572200\ttest: 0.4556495\tbest: 0.4546364 (159)\ttotal: 455ms\tremaining: 2.02s\n",
            "184:\tlearn: 0.3562458\ttest: 0.4551876\tbest: 0.4546364 (159)\ttotal: 457ms\tremaining: 2.02s\n",
            "185:\tlearn: 0.3555749\ttest: 0.4553293\tbest: 0.4546364 (159)\ttotal: 460ms\tremaining: 2.01s\n",
            "186:\tlearn: 0.3550845\ttest: 0.4552711\tbest: 0.4546364 (159)\ttotal: 462ms\tremaining: 2.01s\n",
            "187:\tlearn: 0.3548319\ttest: 0.4553699\tbest: 0.4546364 (159)\ttotal: 465ms\tremaining: 2.01s\n",
            "188:\tlearn: 0.3548289\ttest: 0.4553777\tbest: 0.4546364 (159)\ttotal: 466ms\tremaining: 2s\n",
            "189:\tlearn: 0.3544752\ttest: 0.4553009\tbest: 0.4546364 (159)\ttotal: 472ms\tremaining: 2.01s\n",
            "190:\tlearn: 0.3543743\ttest: 0.4552117\tbest: 0.4546364 (159)\ttotal: 473ms\tremaining: 2s\n",
            "191:\tlearn: 0.3543172\ttest: 0.4552611\tbest: 0.4546364 (159)\ttotal: 474ms\tremaining: 2s\n",
            "192:\tlearn: 0.3538286\ttest: 0.4551602\tbest: 0.4546364 (159)\ttotal: 476ms\tremaining: 1.99s\n",
            "193:\tlearn: 0.3531355\ttest: 0.4554826\tbest: 0.4546364 (159)\ttotal: 479ms\tremaining: 1.99s\n",
            "194:\tlearn: 0.3525138\ttest: 0.4556142\tbest: 0.4546364 (159)\ttotal: 481ms\tremaining: 1.98s\n",
            "195:\tlearn: 0.3518358\ttest: 0.4553671\tbest: 0.4546364 (159)\ttotal: 483ms\tremaining: 1.98s\n",
            "196:\tlearn: 0.3516752\ttest: 0.4555256\tbest: 0.4546364 (159)\ttotal: 486ms\tremaining: 1.98s\n",
            "197:\tlearn: 0.3515895\ttest: 0.4556575\tbest: 0.4546364 (159)\ttotal: 488ms\tremaining: 1.98s\n",
            "198:\tlearn: 0.3509572\ttest: 0.4553155\tbest: 0.4546364 (159)\ttotal: 490ms\tremaining: 1.97s\n",
            "199:\tlearn: 0.3507586\ttest: 0.4552998\tbest: 0.4546364 (159)\ttotal: 493ms\tremaining: 1.97s\n",
            "200:\tlearn: 0.3505973\ttest: 0.4551757\tbest: 0.4546364 (159)\ttotal: 495ms\tremaining: 1.97s\n",
            "201:\tlearn: 0.3500280\ttest: 0.4548551\tbest: 0.4546364 (159)\ttotal: 498ms\tremaining: 1.97s\n",
            "202:\tlearn: 0.3498033\ttest: 0.4549927\tbest: 0.4546364 (159)\ttotal: 501ms\tremaining: 1.97s\n",
            "203:\tlearn: 0.3494558\ttest: 0.4550333\tbest: 0.4546364 (159)\ttotal: 505ms\tremaining: 1.97s\n",
            "204:\tlearn: 0.3487630\ttest: 0.4552607\tbest: 0.4546364 (159)\ttotal: 507ms\tremaining: 1.97s\n",
            "205:\tlearn: 0.3478410\ttest: 0.4555331\tbest: 0.4546364 (159)\ttotal: 510ms\tremaining: 1.96s\n",
            "206:\tlearn: 0.3472678\ttest: 0.4552701\tbest: 0.4546364 (159)\ttotal: 512ms\tremaining: 1.96s\n",
            "207:\tlearn: 0.3467260\ttest: 0.4553183\tbest: 0.4546364 (159)\ttotal: 515ms\tremaining: 1.96s\n",
            "208:\tlearn: 0.3466556\ttest: 0.4552064\tbest: 0.4546364 (159)\ttotal: 516ms\tremaining: 1.95s\n",
            "209:\tlearn: 0.3461182\ttest: 0.4550035\tbest: 0.4546364 (159)\ttotal: 518ms\tremaining: 1.95s\n",
            "210:\tlearn: 0.3460068\ttest: 0.4549240\tbest: 0.4546364 (159)\ttotal: 520ms\tremaining: 1.94s\n",
            "211:\tlearn: 0.3452576\ttest: 0.4548905\tbest: 0.4546364 (159)\ttotal: 523ms\tremaining: 1.94s\n",
            "212:\tlearn: 0.3446999\ttest: 0.4550541\tbest: 0.4546364 (159)\ttotal: 525ms\tremaining: 1.94s\n",
            "213:\tlearn: 0.3435557\ttest: 0.4544090\tbest: 0.4544090 (213)\ttotal: 527ms\tremaining: 1.94s\n",
            "214:\tlearn: 0.3432421\ttest: 0.4543002\tbest: 0.4543002 (214)\ttotal: 530ms\tremaining: 1.93s\n",
            "215:\tlearn: 0.3431781\ttest: 0.4541943\tbest: 0.4541943 (215)\ttotal: 531ms\tremaining: 1.93s\n",
            "216:\tlearn: 0.3423287\ttest: 0.4544928\tbest: 0.4541943 (215)\ttotal: 533ms\tremaining: 1.92s\n",
            "217:\tlearn: 0.3418813\ttest: 0.4542321\tbest: 0.4541943 (215)\ttotal: 536ms\tremaining: 1.92s\n",
            "218:\tlearn: 0.3417788\ttest: 0.4542525\tbest: 0.4541943 (215)\ttotal: 538ms\tremaining: 1.92s\n",
            "219:\tlearn: 0.3414272\ttest: 0.4539314\tbest: 0.4539314 (219)\ttotal: 540ms\tremaining: 1.92s\n",
            "220:\tlearn: 0.3405653\ttest: 0.4537975\tbest: 0.4537975 (220)\ttotal: 543ms\tremaining: 1.91s\n",
            "221:\tlearn: 0.3403941\ttest: 0.4537474\tbest: 0.4537474 (221)\ttotal: 545ms\tremaining: 1.91s\n",
            "222:\tlearn: 0.3393907\ttest: 0.4536861\tbest: 0.4536861 (222)\ttotal: 547ms\tremaining: 1.91s\n",
            "223:\tlearn: 0.3384863\ttest: 0.4536785\tbest: 0.4536785 (223)\ttotal: 550ms\tremaining: 1.9s\n",
            "224:\tlearn: 0.3378072\ttest: 0.4538397\tbest: 0.4536785 (223)\ttotal: 554ms\tremaining: 1.91s\n",
            "225:\tlearn: 0.3369794\ttest: 0.4534295\tbest: 0.4534295 (225)\ttotal: 556ms\tremaining: 1.91s\n",
            "226:\tlearn: 0.3367959\ttest: 0.4537222\tbest: 0.4534295 (225)\ttotal: 558ms\tremaining: 1.9s\n",
            "227:\tlearn: 0.3367959\ttest: 0.4537225\tbest: 0.4534295 (225)\ttotal: 559ms\tremaining: 1.89s\n",
            "228:\tlearn: 0.3361689\ttest: 0.4535432\tbest: 0.4534295 (225)\ttotal: 562ms\tremaining: 1.89s\n",
            "229:\tlearn: 0.3355946\ttest: 0.4532043\tbest: 0.4532043 (229)\ttotal: 564ms\tremaining: 1.89s\n",
            "230:\tlearn: 0.3354282\ttest: 0.4531607\tbest: 0.4531607 (230)\ttotal: 565ms\tremaining: 1.88s\n",
            "231:\tlearn: 0.3353515\ttest: 0.4532738\tbest: 0.4531607 (230)\ttotal: 567ms\tremaining: 1.88s\n",
            "232:\tlearn: 0.3346113\ttest: 0.4532677\tbest: 0.4531607 (230)\ttotal: 569ms\tremaining: 1.87s\n",
            "233:\tlearn: 0.3339071\ttest: 0.4534807\tbest: 0.4531607 (230)\ttotal: 571ms\tremaining: 1.87s\n",
            "234:\tlearn: 0.3338658\ttest: 0.4534823\tbest: 0.4531607 (230)\ttotal: 572ms\tremaining: 1.86s\n",
            "235:\tlearn: 0.3333804\ttest: 0.4533047\tbest: 0.4531607 (230)\ttotal: 577ms\tremaining: 1.87s\n",
            "236:\tlearn: 0.3329984\ttest: 0.4530482\tbest: 0.4530482 (236)\ttotal: 582ms\tremaining: 1.87s\n",
            "237:\tlearn: 0.3321862\ttest: 0.4529633\tbest: 0.4529633 (237)\ttotal: 585ms\tremaining: 1.87s\n",
            "238:\tlearn: 0.3306226\ttest: 0.4528654\tbest: 0.4528654 (238)\ttotal: 588ms\tremaining: 1.87s\n",
            "239:\tlearn: 0.3290492\ttest: 0.4527228\tbest: 0.4527228 (239)\ttotal: 590ms\tremaining: 1.87s\n",
            "240:\tlearn: 0.3279271\ttest: 0.4521024\tbest: 0.4521024 (240)\ttotal: 593ms\tremaining: 1.87s\n",
            "241:\tlearn: 0.3275085\ttest: 0.4519349\tbest: 0.4519349 (241)\ttotal: 596ms\tremaining: 1.87s\n",
            "242:\tlearn: 0.3268210\ttest: 0.4513304\tbest: 0.4513304 (242)\ttotal: 600ms\tremaining: 1.87s\n",
            "243:\tlearn: 0.3262512\ttest: 0.4516310\tbest: 0.4513304 (242)\ttotal: 602ms\tremaining: 1.87s\n",
            "244:\tlearn: 0.3261977\ttest: 0.4516772\tbest: 0.4513304 (242)\ttotal: 604ms\tremaining: 1.86s\n",
            "245:\tlearn: 0.3253940\ttest: 0.4513780\tbest: 0.4513304 (242)\ttotal: 606ms\tremaining: 1.86s\n",
            "246:\tlearn: 0.3253746\ttest: 0.4514407\tbest: 0.4513304 (242)\ttotal: 607ms\tremaining: 1.85s\n",
            "247:\tlearn: 0.3244699\ttest: 0.4512033\tbest: 0.4512033 (247)\ttotal: 610ms\tremaining: 1.85s\n",
            "248:\tlearn: 0.3233993\ttest: 0.4513999\tbest: 0.4512033 (247)\ttotal: 612ms\tremaining: 1.85s\n",
            "249:\tlearn: 0.3233980\ttest: 0.4514109\tbest: 0.4512033 (247)\ttotal: 613ms\tremaining: 1.84s\n",
            "250:\tlearn: 0.3223531\ttest: 0.4513620\tbest: 0.4512033 (247)\ttotal: 615ms\tremaining: 1.84s\n",
            "251:\tlearn: 0.3212738\ttest: 0.4503421\tbest: 0.4503421 (251)\ttotal: 618ms\tremaining: 1.83s\n",
            "252:\tlearn: 0.3200350\ttest: 0.4507241\tbest: 0.4503421 (251)\ttotal: 620ms\tremaining: 1.83s\n",
            "253:\tlearn: 0.3196868\ttest: 0.4507379\tbest: 0.4503421 (251)\ttotal: 623ms\tremaining: 1.83s\n",
            "254:\tlearn: 0.3196823\ttest: 0.4507613\tbest: 0.4503421 (251)\ttotal: 624ms\tremaining: 1.82s\n",
            "255:\tlearn: 0.3194210\ttest: 0.4509431\tbest: 0.4503421 (251)\ttotal: 627ms\tremaining: 1.82s\n",
            "256:\tlearn: 0.3188996\ttest: 0.4509160\tbest: 0.4503421 (251)\ttotal: 630ms\tremaining: 1.82s\n",
            "257:\tlearn: 0.3182913\ttest: 0.4505731\tbest: 0.4503421 (251)\ttotal: 632ms\tremaining: 1.82s\n",
            "258:\tlearn: 0.3177158\ttest: 0.4506664\tbest: 0.4503421 (251)\ttotal: 634ms\tremaining: 1.81s\n",
            "259:\tlearn: 0.3171668\ttest: 0.4506287\tbest: 0.4503421 (251)\ttotal: 637ms\tremaining: 1.81s\n",
            "260:\tlearn: 0.3162681\ttest: 0.4506631\tbest: 0.4503421 (251)\ttotal: 639ms\tremaining: 1.81s\n",
            "261:\tlearn: 0.3162175\ttest: 0.4506935\tbest: 0.4503421 (251)\ttotal: 642ms\tremaining: 1.81s\n",
            "262:\tlearn: 0.3158477\ttest: 0.4506819\tbest: 0.4503421 (251)\ttotal: 644ms\tremaining: 1.8s\n",
            "263:\tlearn: 0.3155837\ttest: 0.4508020\tbest: 0.4503421 (251)\ttotal: 646ms\tremaining: 1.8s\n",
            "264:\tlearn: 0.3145962\ttest: 0.4507999\tbest: 0.4503421 (251)\ttotal: 649ms\tremaining: 1.8s\n",
            "265:\tlearn: 0.3133306\ttest: 0.4510614\tbest: 0.4503421 (251)\ttotal: 651ms\tremaining: 1.8s\n",
            "266:\tlearn: 0.3129380\ttest: 0.4512158\tbest: 0.4503421 (251)\ttotal: 654ms\tremaining: 1.79s\n",
            "267:\tlearn: 0.3120658\ttest: 0.4505414\tbest: 0.4503421 (251)\ttotal: 656ms\tremaining: 1.79s\n",
            "268:\tlearn: 0.3114153\ttest: 0.4500813\tbest: 0.4500813 (268)\ttotal: 659ms\tremaining: 1.79s\n",
            "269:\tlearn: 0.3112933\ttest: 0.4501420\tbest: 0.4500813 (268)\ttotal: 661ms\tremaining: 1.79s\n",
            "270:\tlearn: 0.3109734\ttest: 0.4497783\tbest: 0.4497783 (270)\ttotal: 663ms\tremaining: 1.78s\n",
            "271:\tlearn: 0.3105540\ttest: 0.4494547\tbest: 0.4494547 (271)\ttotal: 666ms\tremaining: 1.78s\n",
            "272:\tlearn: 0.3098625\ttest: 0.4495232\tbest: 0.4494547 (271)\ttotal: 668ms\tremaining: 1.78s\n",
            "273:\tlearn: 0.3088052\ttest: 0.4493358\tbest: 0.4493358 (273)\ttotal: 671ms\tremaining: 1.78s\n",
            "274:\tlearn: 0.3079695\ttest: 0.4497363\tbest: 0.4493358 (273)\ttotal: 673ms\tremaining: 1.77s\n",
            "275:\tlearn: 0.3077958\ttest: 0.4497613\tbest: 0.4493358 (273)\ttotal: 677ms\tremaining: 1.78s\n",
            "276:\tlearn: 0.3073948\ttest: 0.4500631\tbest: 0.4493358 (273)\ttotal: 682ms\tremaining: 1.78s\n",
            "277:\tlearn: 0.3062905\ttest: 0.4506065\tbest: 0.4493358 (273)\ttotal: 687ms\tremaining: 1.78s\n",
            "278:\tlearn: 0.3056336\ttest: 0.4502367\tbest: 0.4493358 (273)\ttotal: 692ms\tremaining: 1.79s\n",
            "279:\tlearn: 0.3051436\ttest: 0.4503958\tbest: 0.4493358 (273)\ttotal: 696ms\tremaining: 1.79s\n",
            "280:\tlearn: 0.3049957\ttest: 0.4503546\tbest: 0.4493358 (273)\ttotal: 700ms\tremaining: 1.79s\n",
            "281:\tlearn: 0.3040205\ttest: 0.4502810\tbest: 0.4493358 (273)\ttotal: 706ms\tremaining: 1.8s\n",
            "282:\tlearn: 0.3035278\ttest: 0.4505091\tbest: 0.4493358 (273)\ttotal: 708ms\tremaining: 1.79s\n",
            "283:\tlearn: 0.3028722\ttest: 0.4501335\tbest: 0.4493358 (273)\ttotal: 710ms\tremaining: 1.79s\n",
            "284:\tlearn: 0.3022840\ttest: 0.4499008\tbest: 0.4493358 (273)\ttotal: 713ms\tremaining: 1.79s\n",
            "285:\tlearn: 0.3022123\ttest: 0.4499566\tbest: 0.4493358 (273)\ttotal: 715ms\tremaining: 1.78s\n",
            "286:\tlearn: 0.3019436\ttest: 0.4500511\tbest: 0.4493358 (273)\ttotal: 717ms\tremaining: 1.78s\n",
            "287:\tlearn: 0.3009744\ttest: 0.4501292\tbest: 0.4493358 (273)\ttotal: 720ms\tremaining: 1.78s\n",
            "288:\tlearn: 0.3006234\ttest: 0.4506243\tbest: 0.4493358 (273)\ttotal: 722ms\tremaining: 1.78s\n",
            "289:\tlearn: 0.3002120\ttest: 0.4509741\tbest: 0.4493358 (273)\ttotal: 724ms\tremaining: 1.77s\n",
            "290:\tlearn: 0.3001063\ttest: 0.4509737\tbest: 0.4493358 (273)\ttotal: 727ms\tremaining: 1.77s\n",
            "291:\tlearn: 0.2989175\ttest: 0.4511042\tbest: 0.4493358 (273)\ttotal: 730ms\tremaining: 1.77s\n",
            "292:\tlearn: 0.2988042\ttest: 0.4510247\tbest: 0.4493358 (273)\ttotal: 732ms\tremaining: 1.77s\n",
            "293:\tlearn: 0.2984881\ttest: 0.4509496\tbest: 0.4493358 (273)\ttotal: 735ms\tremaining: 1.76s\n",
            "294:\tlearn: 0.2982928\ttest: 0.4509541\tbest: 0.4493358 (273)\ttotal: 737ms\tremaining: 1.76s\n",
            "295:\tlearn: 0.2977409\ttest: 0.4515216\tbest: 0.4493358 (273)\ttotal: 739ms\tremaining: 1.76s\n",
            "296:\tlearn: 0.2973062\ttest: 0.4516338\tbest: 0.4493358 (273)\ttotal: 742ms\tremaining: 1.75s\n",
            "297:\tlearn: 0.2971983\ttest: 0.4516945\tbest: 0.4493358 (273)\ttotal: 744ms\tremaining: 1.75s\n",
            "298:\tlearn: 0.2954314\ttest: 0.4516165\tbest: 0.4493358 (273)\ttotal: 746ms\tremaining: 1.75s\n",
            "299:\tlearn: 0.2949628\ttest: 0.4515347\tbest: 0.4493358 (273)\ttotal: 749ms\tremaining: 1.75s\n",
            "300:\tlearn: 0.2948163\ttest: 0.4515481\tbest: 0.4493358 (273)\ttotal: 751ms\tremaining: 1.74s\n",
            "301:\tlearn: 0.2941816\ttest: 0.4516832\tbest: 0.4493358 (273)\ttotal: 754ms\tremaining: 1.74s\n",
            "302:\tlearn: 0.2929393\ttest: 0.4524050\tbest: 0.4493358 (273)\ttotal: 756ms\tremaining: 1.74s\n",
            "303:\tlearn: 0.2926252\ttest: 0.4527933\tbest: 0.4493358 (273)\ttotal: 760ms\tremaining: 1.74s\n",
            "304:\tlearn: 0.2925404\ttest: 0.4528420\tbest: 0.4493358 (273)\ttotal: 762ms\tremaining: 1.74s\n",
            "305:\tlearn: 0.2923264\ttest: 0.4530740\tbest: 0.4493358 (273)\ttotal: 765ms\tremaining: 1.73s\n",
            "306:\tlearn: 0.2919691\ttest: 0.4530602\tbest: 0.4493358 (273)\ttotal: 767ms\tremaining: 1.73s\n",
            "307:\tlearn: 0.2918653\ttest: 0.4530836\tbest: 0.4493358 (273)\ttotal: 778ms\tremaining: 1.75s\n",
            "308:\tlearn: 0.2907962\ttest: 0.4533796\tbest: 0.4493358 (273)\ttotal: 781ms\tremaining: 1.75s\n",
            "309:\tlearn: 0.2900002\ttest: 0.4531190\tbest: 0.4493358 (273)\ttotal: 783ms\tremaining: 1.74s\n",
            "310:\tlearn: 0.2893437\ttest: 0.4534999\tbest: 0.4493358 (273)\ttotal: 786ms\tremaining: 1.74s\n",
            "311:\tlearn: 0.2890062\ttest: 0.4533978\tbest: 0.4493358 (273)\ttotal: 788ms\tremaining: 1.74s\n",
            "312:\tlearn: 0.2884825\ttest: 0.4533069\tbest: 0.4493358 (273)\ttotal: 790ms\tremaining: 1.74s\n",
            "313:\tlearn: 0.2878772\ttest: 0.4532766\tbest: 0.4493358 (273)\ttotal: 793ms\tremaining: 1.73s\n",
            "314:\tlearn: 0.2875680\ttest: 0.4532643\tbest: 0.4493358 (273)\ttotal: 796ms\tremaining: 1.73s\n",
            "315:\tlearn: 0.2873428\ttest: 0.4533415\tbest: 0.4493358 (273)\ttotal: 798ms\tremaining: 1.73s\n",
            "316:\tlearn: 0.2872753\ttest: 0.4532671\tbest: 0.4493358 (273)\ttotal: 800ms\tremaining: 1.72s\n",
            "317:\tlearn: 0.2868904\ttest: 0.4531984\tbest: 0.4493358 (273)\ttotal: 803ms\tremaining: 1.72s\n",
            "318:\tlearn: 0.2857556\ttest: 0.4531731\tbest: 0.4493358 (273)\ttotal: 805ms\tremaining: 1.72s\n",
            "319:\tlearn: 0.2855166\ttest: 0.4529607\tbest: 0.4493358 (273)\ttotal: 807ms\tremaining: 1.72s\n",
            "320:\tlearn: 0.2850830\ttest: 0.4528479\tbest: 0.4493358 (273)\ttotal: 809ms\tremaining: 1.71s\n",
            "321:\tlearn: 0.2844735\ttest: 0.4528025\tbest: 0.4493358 (273)\ttotal: 812ms\tremaining: 1.71s\n",
            "322:\tlearn: 0.2840501\ttest: 0.4528165\tbest: 0.4493358 (273)\ttotal: 814ms\tremaining: 1.71s\n",
            "323:\tlearn: 0.2835409\ttest: 0.4529926\tbest: 0.4493358 (273)\ttotal: 817ms\tremaining: 1.7s\n",
            "324:\tlearn: 0.2834361\ttest: 0.4529351\tbest: 0.4493358 (273)\ttotal: 819ms\tremaining: 1.7s\n",
            "325:\tlearn: 0.2823906\ttest: 0.4531953\tbest: 0.4493358 (273)\ttotal: 822ms\tremaining: 1.7s\n",
            "326:\tlearn: 0.2819751\ttest: 0.4533654\tbest: 0.4493358 (273)\ttotal: 824ms\tremaining: 1.7s\n",
            "327:\tlearn: 0.2817359\ttest: 0.4534086\tbest: 0.4493358 (273)\ttotal: 826ms\tremaining: 1.69s\n",
            "328:\tlearn: 0.2802862\ttest: 0.4537558\tbest: 0.4493358 (273)\ttotal: 829ms\tremaining: 1.69s\n",
            "329:\tlearn: 0.2796425\ttest: 0.4536861\tbest: 0.4493358 (273)\ttotal: 831ms\tremaining: 1.69s\n",
            "330:\tlearn: 0.2786718\ttest: 0.4534995\tbest: 0.4493358 (273)\ttotal: 834ms\tremaining: 1.69s\n",
            "331:\tlearn: 0.2774062\ttest: 0.4541379\tbest: 0.4493358 (273)\ttotal: 837ms\tremaining: 1.68s\n",
            "332:\tlearn: 0.2766694\ttest: 0.4541230\tbest: 0.4493358 (273)\ttotal: 839ms\tremaining: 1.68s\n",
            "333:\tlearn: 0.2754205\ttest: 0.4541762\tbest: 0.4493358 (273)\ttotal: 842ms\tremaining: 1.68s\n",
            "334:\tlearn: 0.2750793\ttest: 0.4544350\tbest: 0.4493358 (273)\ttotal: 844ms\tremaining: 1.68s\n",
            "335:\tlearn: 0.2743951\ttest: 0.4548385\tbest: 0.4493358 (273)\ttotal: 846ms\tremaining: 1.67s\n",
            "336:\tlearn: 0.2740736\ttest: 0.4550998\tbest: 0.4493358 (273)\ttotal: 849ms\tremaining: 1.67s\n",
            "337:\tlearn: 0.2736888\ttest: 0.4549354\tbest: 0.4493358 (273)\ttotal: 851ms\tremaining: 1.67s\n",
            "338:\tlearn: 0.2733963\ttest: 0.4549550\tbest: 0.4493358 (273)\ttotal: 853ms\tremaining: 1.66s\n",
            "339:\tlearn: 0.2725939\ttest: 0.4551845\tbest: 0.4493358 (273)\ttotal: 856ms\tremaining: 1.66s\n",
            "340:\tlearn: 0.2719425\ttest: 0.4549614\tbest: 0.4493358 (273)\ttotal: 858ms\tremaining: 1.66s\n",
            "341:\tlearn: 0.2713622\ttest: 0.4548526\tbest: 0.4493358 (273)\ttotal: 861ms\tremaining: 1.66s\n",
            "342:\tlearn: 0.2706332\ttest: 0.4549314\tbest: 0.4493358 (273)\ttotal: 863ms\tremaining: 1.65s\n",
            "343:\tlearn: 0.2697344\ttest: 0.4545652\tbest: 0.4493358 (273)\ttotal: 865ms\tremaining: 1.65s\n",
            "344:\tlearn: 0.2690260\ttest: 0.4543673\tbest: 0.4493358 (273)\ttotal: 868ms\tremaining: 1.65s\n",
            "345:\tlearn: 0.2689575\ttest: 0.4544767\tbest: 0.4493358 (273)\ttotal: 870ms\tremaining: 1.65s\n",
            "346:\tlearn: 0.2681014\ttest: 0.4545743\tbest: 0.4493358 (273)\ttotal: 873ms\tremaining: 1.64s\n",
            "347:\tlearn: 0.2670135\ttest: 0.4541075\tbest: 0.4493358 (273)\ttotal: 876ms\tremaining: 1.64s\n",
            "348:\tlearn: 0.2665769\ttest: 0.4541371\tbest: 0.4493358 (273)\ttotal: 878ms\tremaining: 1.64s\n",
            "349:\tlearn: 0.2661177\ttest: 0.4542866\tbest: 0.4493358 (273)\ttotal: 881ms\tremaining: 1.64s\n",
            "350:\tlearn: 0.2660378\ttest: 0.4542462\tbest: 0.4493358 (273)\ttotal: 883ms\tremaining: 1.63s\n",
            "351:\tlearn: 0.2651751\ttest: 0.4548052\tbest: 0.4493358 (273)\ttotal: 885ms\tremaining: 1.63s\n",
            "352:\tlearn: 0.2645678\ttest: 0.4544566\tbest: 0.4493358 (273)\ttotal: 888ms\tremaining: 1.63s\n",
            "353:\tlearn: 0.2645315\ttest: 0.4544624\tbest: 0.4493358 (273)\ttotal: 890ms\tremaining: 1.62s\n",
            "354:\tlearn: 0.2640377\ttest: 0.4541673\tbest: 0.4493358 (273)\ttotal: 893ms\tremaining: 1.62s\n",
            "355:\tlearn: 0.2639914\ttest: 0.4542073\tbest: 0.4493358 (273)\ttotal: 894ms\tremaining: 1.62s\n",
            "356:\tlearn: 0.2633877\ttest: 0.4547739\tbest: 0.4493358 (273)\ttotal: 896ms\tremaining: 1.61s\n",
            "357:\tlearn: 0.2630355\ttest: 0.4551761\tbest: 0.4493358 (273)\ttotal: 899ms\tremaining: 1.61s\n",
            "358:\tlearn: 0.2626813\ttest: 0.4553620\tbest: 0.4493358 (273)\ttotal: 902ms\tremaining: 1.61s\n",
            "359:\tlearn: 0.2623012\ttest: 0.4557366\tbest: 0.4493358 (273)\ttotal: 904ms\tremaining: 1.61s\n",
            "360:\tlearn: 0.2621520\ttest: 0.4558375\tbest: 0.4493358 (273)\ttotal: 907ms\tremaining: 1.6s\n",
            "361:\tlearn: 0.2617621\ttest: 0.4555457\tbest: 0.4493358 (273)\ttotal: 909ms\tremaining: 1.6s\n",
            "362:\tlearn: 0.2611218\ttest: 0.4553401\tbest: 0.4493358 (273)\ttotal: 912ms\tremaining: 1.6s\n",
            "363:\tlearn: 0.2605529\ttest: 0.4554967\tbest: 0.4493358 (273)\ttotal: 914ms\tremaining: 1.6s\n",
            "364:\tlearn: 0.2595340\ttest: 0.4552659\tbest: 0.4493358 (273)\ttotal: 917ms\tremaining: 1.59s\n",
            "365:\tlearn: 0.2584883\ttest: 0.4556013\tbest: 0.4493358 (273)\ttotal: 919ms\tremaining: 1.59s\n",
            "366:\tlearn: 0.2578861\ttest: 0.4561826\tbest: 0.4493358 (273)\ttotal: 922ms\tremaining: 1.59s\n",
            "367:\tlearn: 0.2575467\ttest: 0.4561308\tbest: 0.4493358 (273)\ttotal: 924ms\tremaining: 1.59s\n",
            "368:\tlearn: 0.2572774\ttest: 0.4560053\tbest: 0.4493358 (273)\ttotal: 926ms\tremaining: 1.58s\n",
            "369:\tlearn: 0.2566676\ttest: 0.4561775\tbest: 0.4493358 (273)\ttotal: 929ms\tremaining: 1.58s\n",
            "370:\tlearn: 0.2563577\ttest: 0.4564073\tbest: 0.4493358 (273)\ttotal: 931ms\tremaining: 1.58s\n",
            "371:\tlearn: 0.2555989\ttest: 0.4565512\tbest: 0.4493358 (273)\ttotal: 934ms\tremaining: 1.58s\n",
            "372:\tlearn: 0.2549303\ttest: 0.4559855\tbest: 0.4493358 (273)\ttotal: 936ms\tremaining: 1.57s\n",
            "373:\tlearn: 0.2548805\ttest: 0.4560056\tbest: 0.4493358 (273)\ttotal: 938ms\tremaining: 1.57s\n",
            "374:\tlearn: 0.2543666\ttest: 0.4559831\tbest: 0.4493358 (273)\ttotal: 941ms\tremaining: 1.57s\n",
            "375:\tlearn: 0.2539827\ttest: 0.4561502\tbest: 0.4493358 (273)\ttotal: 943ms\tremaining: 1.56s\n",
            "376:\tlearn: 0.2537658\ttest: 0.4563423\tbest: 0.4493358 (273)\ttotal: 946ms\tremaining: 1.56s\n",
            "377:\tlearn: 0.2524973\ttest: 0.4556110\tbest: 0.4493358 (273)\ttotal: 950ms\tremaining: 1.56s\n",
            "378:\tlearn: 0.2523217\ttest: 0.4557753\tbest: 0.4493358 (273)\ttotal: 953ms\tremaining: 1.56s\n",
            "379:\tlearn: 0.2517049\ttest: 0.4557162\tbest: 0.4493358 (273)\ttotal: 955ms\tremaining: 1.56s\n",
            "380:\tlearn: 0.2505825\ttest: 0.4554475\tbest: 0.4493358 (273)\ttotal: 957ms\tremaining: 1.55s\n",
            "381:\tlearn: 0.2499108\ttest: 0.4554487\tbest: 0.4493358 (273)\ttotal: 960ms\tremaining: 1.55s\n",
            "382:\tlearn: 0.2493603\ttest: 0.4551205\tbest: 0.4493358 (273)\ttotal: 962ms\tremaining: 1.55s\n",
            "383:\tlearn: 0.2492968\ttest: 0.4550830\tbest: 0.4493358 (273)\ttotal: 964ms\tremaining: 1.55s\n",
            "384:\tlearn: 0.2486563\ttest: 0.4548491\tbest: 0.4493358 (273)\ttotal: 967ms\tremaining: 1.54s\n",
            "385:\tlearn: 0.2485217\ttest: 0.4545506\tbest: 0.4493358 (273)\ttotal: 971ms\tremaining: 1.54s\n",
            "386:\tlearn: 0.2479770\ttest: 0.4545291\tbest: 0.4493358 (273)\ttotal: 975ms\tremaining: 1.54s\n",
            "387:\tlearn: 0.2479295\ttest: 0.4545483\tbest: 0.4493358 (273)\ttotal: 985ms\tremaining: 1.55s\n",
            "388:\tlearn: 0.2472206\ttest: 0.4546482\tbest: 0.4493358 (273)\ttotal: 987ms\tremaining: 1.55s\n",
            "389:\tlearn: 0.2459444\ttest: 0.4548035\tbest: 0.4493358 (273)\ttotal: 990ms\tremaining: 1.55s\n",
            "390:\tlearn: 0.2455324\ttest: 0.4553200\tbest: 0.4493358 (273)\ttotal: 992ms\tremaining: 1.54s\n",
            "391:\tlearn: 0.2449850\ttest: 0.4551616\tbest: 0.4493358 (273)\ttotal: 995ms\tremaining: 1.54s\n",
            "392:\tlearn: 0.2449194\ttest: 0.4550795\tbest: 0.4493358 (273)\ttotal: 998ms\tremaining: 1.54s\n",
            "393:\tlearn: 0.2444265\ttest: 0.4554676\tbest: 0.4493358 (273)\ttotal: 1s\tremaining: 1.54s\n",
            "394:\tlearn: 0.2442563\ttest: 0.4554856\tbest: 0.4493358 (273)\ttotal: 1s\tremaining: 1.53s\n",
            "395:\tlearn: 0.2428851\ttest: 0.4553632\tbest: 0.4493358 (273)\ttotal: 1s\tremaining: 1.53s\n",
            "396:\tlearn: 0.2423789\ttest: 0.4551200\tbest: 0.4493358 (273)\ttotal: 1.01s\tremaining: 1.53s\n",
            "397:\tlearn: 0.2418483\ttest: 0.4556107\tbest: 0.4493358 (273)\ttotal: 1.01s\tremaining: 1.53s\n",
            "398:\tlearn: 0.2413628\ttest: 0.4550917\tbest: 0.4493358 (273)\ttotal: 1.01s\tremaining: 1.52s\n",
            "399:\tlearn: 0.2411763\ttest: 0.4552633\tbest: 0.4493358 (273)\ttotal: 1.01s\tremaining: 1.52s\n",
            "400:\tlearn: 0.2407602\ttest: 0.4557178\tbest: 0.4493358 (273)\ttotal: 1.02s\tremaining: 1.52s\n",
            "401:\tlearn: 0.2403977\ttest: 0.4557376\tbest: 0.4493358 (273)\ttotal: 1.02s\tremaining: 1.52s\n",
            "402:\tlearn: 0.2399867\ttest: 0.4559772\tbest: 0.4493358 (273)\ttotal: 1.02s\tremaining: 1.51s\n",
            "403:\tlearn: 0.2393883\ttest: 0.4555981\tbest: 0.4493358 (273)\ttotal: 1.02s\tremaining: 1.51s\n",
            "404:\tlearn: 0.2386483\ttest: 0.4559306\tbest: 0.4493358 (273)\ttotal: 1.03s\tremaining: 1.51s\n",
            "405:\tlearn: 0.2380074\ttest: 0.4561733\tbest: 0.4493358 (273)\ttotal: 1.03s\tremaining: 1.51s\n",
            "406:\tlearn: 0.2378688\ttest: 0.4562232\tbest: 0.4493358 (273)\ttotal: 1.03s\tremaining: 1.5s\n",
            "407:\tlearn: 0.2373930\ttest: 0.4562688\tbest: 0.4493358 (273)\ttotal: 1.03s\tremaining: 1.5s\n",
            "408:\tlearn: 0.2368705\ttest: 0.4557848\tbest: 0.4493358 (273)\ttotal: 1.04s\tremaining: 1.5s\n",
            "409:\tlearn: 0.2365264\ttest: 0.4557189\tbest: 0.4493358 (273)\ttotal: 1.04s\tremaining: 1.5s\n",
            "410:\tlearn: 0.2352105\ttest: 0.4551653\tbest: 0.4493358 (273)\ttotal: 1.04s\tremaining: 1.5s\n",
            "411:\tlearn: 0.2349137\ttest: 0.4560433\tbest: 0.4493358 (273)\ttotal: 1.05s\tremaining: 1.49s\n",
            "412:\tlearn: 0.2337551\ttest: 0.4564272\tbest: 0.4493358 (273)\ttotal: 1.05s\tremaining: 1.49s\n",
            "413:\tlearn: 0.2331602\ttest: 0.4561543\tbest: 0.4493358 (273)\ttotal: 1.05s\tremaining: 1.49s\n",
            "414:\tlearn: 0.2327779\ttest: 0.4561792\tbest: 0.4493358 (273)\ttotal: 1.05s\tremaining: 1.49s\n",
            "415:\tlearn: 0.2327110\ttest: 0.4562364\tbest: 0.4493358 (273)\ttotal: 1.06s\tremaining: 1.48s\n",
            "416:\tlearn: 0.2323773\ttest: 0.4566358\tbest: 0.4493358 (273)\ttotal: 1.06s\tremaining: 1.48s\n",
            "417:\tlearn: 0.2318285\ttest: 0.4564068\tbest: 0.4493358 (273)\ttotal: 1.06s\tremaining: 1.48s\n",
            "418:\tlearn: 0.2317690\ttest: 0.4564599\tbest: 0.4493358 (273)\ttotal: 1.06s\tremaining: 1.48s\n",
            "419:\tlearn: 0.2315903\ttest: 0.4563620\tbest: 0.4493358 (273)\ttotal: 1.07s\tremaining: 1.48s\n",
            "420:\tlearn: 0.2314427\ttest: 0.4565974\tbest: 0.4493358 (273)\ttotal: 1.07s\tremaining: 1.48s\n",
            "421:\tlearn: 0.2312060\ttest: 0.4566564\tbest: 0.4493358 (273)\ttotal: 1.07s\tremaining: 1.47s\n",
            "422:\tlearn: 0.2307539\ttest: 0.4565992\tbest: 0.4493358 (273)\ttotal: 1.08s\tremaining: 1.47s\n",
            "423:\tlearn: 0.2304354\ttest: 0.4565931\tbest: 0.4493358 (273)\ttotal: 1.08s\tremaining: 1.47s\n",
            "424:\tlearn: 0.2303404\ttest: 0.4566564\tbest: 0.4493358 (273)\ttotal: 1.08s\tremaining: 1.46s\n",
            "425:\tlearn: 0.2302637\ttest: 0.4566277\tbest: 0.4493358 (273)\ttotal: 1.08s\tremaining: 1.46s\n",
            "426:\tlearn: 0.2300850\ttest: 0.4568459\tbest: 0.4493358 (273)\ttotal: 1.09s\tremaining: 1.46s\n",
            "427:\tlearn: 0.2297151\ttest: 0.4566623\tbest: 0.4493358 (273)\ttotal: 1.09s\tremaining: 1.46s\n",
            "428:\tlearn: 0.2290358\ttest: 0.4561679\tbest: 0.4493358 (273)\ttotal: 1.09s\tremaining: 1.45s\n",
            "429:\tlearn: 0.2288365\ttest: 0.4562135\tbest: 0.4493358 (273)\ttotal: 1.09s\tremaining: 1.45s\n",
            "430:\tlearn: 0.2286434\ttest: 0.4562309\tbest: 0.4493358 (273)\ttotal: 1.1s\tremaining: 1.45s\n",
            "431:\tlearn: 0.2278529\ttest: 0.4560561\tbest: 0.4493358 (273)\ttotal: 1.1s\tremaining: 1.45s\n",
            "432:\tlearn: 0.2271418\ttest: 0.4562285\tbest: 0.4493358 (273)\ttotal: 1.1s\tremaining: 1.44s\n",
            "433:\tlearn: 0.2270794\ttest: 0.4561828\tbest: 0.4493358 (273)\ttotal: 1.1s\tremaining: 1.44s\n",
            "434:\tlearn: 0.2268986\ttest: 0.4562116\tbest: 0.4493358 (273)\ttotal: 1.11s\tremaining: 1.44s\n",
            "435:\tlearn: 0.2267162\ttest: 0.4560326\tbest: 0.4493358 (273)\ttotal: 1.11s\tremaining: 1.43s\n",
            "436:\tlearn: 0.2267035\ttest: 0.4560344\tbest: 0.4493358 (273)\ttotal: 1.11s\tremaining: 1.43s\n",
            "437:\tlearn: 0.2266467\ttest: 0.4560470\tbest: 0.4493358 (273)\ttotal: 1.11s\tremaining: 1.43s\n",
            "438:\tlearn: 0.2261602\ttest: 0.4563217\tbest: 0.4493358 (273)\ttotal: 1.11s\tremaining: 1.43s\n",
            "439:\tlearn: 0.2258115\ttest: 0.4560367\tbest: 0.4493358 (273)\ttotal: 1.12s\tremaining: 1.42s\n",
            "440:\tlearn: 0.2246492\ttest: 0.4561676\tbest: 0.4493358 (273)\ttotal: 1.12s\tremaining: 1.42s\n",
            "441:\tlearn: 0.2246242\ttest: 0.4561907\tbest: 0.4493358 (273)\ttotal: 1.12s\tremaining: 1.42s\n",
            "442:\tlearn: 0.2241815\ttest: 0.4562916\tbest: 0.4493358 (273)\ttotal: 1.12s\tremaining: 1.41s\n",
            "443:\tlearn: 0.2235734\ttest: 0.4560364\tbest: 0.4493358 (273)\ttotal: 1.13s\tremaining: 1.41s\n",
            "444:\tlearn: 0.2229335\ttest: 0.4555745\tbest: 0.4493358 (273)\ttotal: 1.13s\tremaining: 1.41s\n",
            "445:\tlearn: 0.2229194\ttest: 0.4555780\tbest: 0.4493358 (273)\ttotal: 1.13s\tremaining: 1.41s\n",
            "446:\tlearn: 0.2228955\ttest: 0.4556011\tbest: 0.4493358 (273)\ttotal: 1.13s\tremaining: 1.4s\n",
            "447:\tlearn: 0.2227644\ttest: 0.4554875\tbest: 0.4493358 (273)\ttotal: 1.14s\tremaining: 1.4s\n",
            "448:\tlearn: 0.2220380\ttest: 0.4557583\tbest: 0.4493358 (273)\ttotal: 1.14s\tremaining: 1.4s\n",
            "449:\tlearn: 0.2219961\ttest: 0.4558842\tbest: 0.4493358 (273)\ttotal: 1.14s\tremaining: 1.4s\n",
            "450:\tlearn: 0.2219535\ttest: 0.4558836\tbest: 0.4493358 (273)\ttotal: 1.14s\tremaining: 1.39s\n",
            "451:\tlearn: 0.2216031\ttest: 0.4558209\tbest: 0.4493358 (273)\ttotal: 1.15s\tremaining: 1.39s\n",
            "452:\tlearn: 0.2215921\ttest: 0.4558226\tbest: 0.4493358 (273)\ttotal: 1.15s\tremaining: 1.39s\n",
            "453:\tlearn: 0.2206383\ttest: 0.4561758\tbest: 0.4493358 (273)\ttotal: 1.15s\tremaining: 1.38s\n",
            "454:\tlearn: 0.2197093\ttest: 0.4564011\tbest: 0.4493358 (273)\ttotal: 1.15s\tremaining: 1.38s\n",
            "455:\tlearn: 0.2195203\ttest: 0.4566168\tbest: 0.4493358 (273)\ttotal: 1.16s\tremaining: 1.38s\n",
            "456:\tlearn: 0.2188352\ttest: 0.4567338\tbest: 0.4493358 (273)\ttotal: 1.16s\tremaining: 1.38s\n",
            "457:\tlearn: 0.2187379\ttest: 0.4567445\tbest: 0.4493358 (273)\ttotal: 1.16s\tremaining: 1.37s\n",
            "458:\tlearn: 0.2187058\ttest: 0.4567215\tbest: 0.4493358 (273)\ttotal: 1.16s\tremaining: 1.37s\n",
            "459:\tlearn: 0.2184352\ttest: 0.4568352\tbest: 0.4493358 (273)\ttotal: 1.17s\tremaining: 1.37s\n",
            "460:\tlearn: 0.2178979\ttest: 0.4570824\tbest: 0.4493358 (273)\ttotal: 1.17s\tremaining: 1.37s\n",
            "461:\tlearn: 0.2178170\ttest: 0.4571991\tbest: 0.4493358 (273)\ttotal: 1.17s\tremaining: 1.37s\n",
            "462:\tlearn: 0.2173145\ttest: 0.4570557\tbest: 0.4493358 (273)\ttotal: 1.18s\tremaining: 1.36s\n",
            "463:\tlearn: 0.2169177\ttest: 0.4567810\tbest: 0.4493358 (273)\ttotal: 1.18s\tremaining: 1.36s\n",
            "464:\tlearn: 0.2162501\ttest: 0.4570060\tbest: 0.4493358 (273)\ttotal: 1.18s\tremaining: 1.36s\n",
            "465:\tlearn: 0.2157619\ttest: 0.4569241\tbest: 0.4493358 (273)\ttotal: 1.18s\tremaining: 1.36s\n",
            "466:\tlearn: 0.2153704\ttest: 0.4569974\tbest: 0.4493358 (273)\ttotal: 1.19s\tremaining: 1.35s\n",
            "467:\tlearn: 0.2147438\ttest: 0.4570664\tbest: 0.4493358 (273)\ttotal: 1.19s\tremaining: 1.35s\n",
            "468:\tlearn: 0.2142153\ttest: 0.4571474\tbest: 0.4493358 (273)\ttotal: 1.19s\tremaining: 1.35s\n",
            "469:\tlearn: 0.2138073\ttest: 0.4570058\tbest: 0.4493358 (273)\ttotal: 1.19s\tremaining: 1.35s\n",
            "470:\tlearn: 0.2133832\ttest: 0.4571403\tbest: 0.4493358 (273)\ttotal: 1.2s\tremaining: 1.34s\n",
            "471:\tlearn: 0.2125293\ttest: 0.4570993\tbest: 0.4493358 (273)\ttotal: 1.2s\tremaining: 1.34s\n",
            "472:\tlearn: 0.2122493\ttest: 0.4573406\tbest: 0.4493358 (273)\ttotal: 1.2s\tremaining: 1.34s\n",
            "473:\tlearn: 0.2118271\ttest: 0.4576340\tbest: 0.4493358 (273)\ttotal: 1.21s\tremaining: 1.34s\n",
            "474:\tlearn: 0.2117181\ttest: 0.4577911\tbest: 0.4493358 (273)\ttotal: 1.21s\tremaining: 1.33s\n",
            "475:\tlearn: 0.2115536\ttest: 0.4578393\tbest: 0.4493358 (273)\ttotal: 1.21s\tremaining: 1.33s\n",
            "476:\tlearn: 0.2110208\ttest: 0.4578103\tbest: 0.4493358 (273)\ttotal: 1.21s\tremaining: 1.33s\n",
            "477:\tlearn: 0.2105455\ttest: 0.4580358\tbest: 0.4493358 (273)\ttotal: 1.22s\tremaining: 1.33s\n",
            "478:\tlearn: 0.2102959\ttest: 0.4580158\tbest: 0.4493358 (273)\ttotal: 1.22s\tremaining: 1.32s\n",
            "479:\tlearn: 0.2100857\ttest: 0.4579894\tbest: 0.4493358 (273)\ttotal: 1.22s\tremaining: 1.32s\n",
            "480:\tlearn: 0.2098599\ttest: 0.4578926\tbest: 0.4493358 (273)\ttotal: 1.22s\tremaining: 1.32s\n",
            "481:\tlearn: 0.2093145\ttest: 0.4576558\tbest: 0.4493358 (273)\ttotal: 1.22s\tremaining: 1.31s\n",
            "482:\tlearn: 0.2089263\ttest: 0.4576356\tbest: 0.4493358 (273)\ttotal: 1.23s\tremaining: 1.31s\n",
            "483:\tlearn: 0.2086315\ttest: 0.4580875\tbest: 0.4493358 (273)\ttotal: 1.23s\tremaining: 1.31s\n",
            "484:\tlearn: 0.2080796\ttest: 0.4588527\tbest: 0.4493358 (273)\ttotal: 1.23s\tremaining: 1.31s\n",
            "485:\tlearn: 0.2074024\ttest: 0.4590162\tbest: 0.4493358 (273)\ttotal: 1.24s\tremaining: 1.31s\n",
            "486:\tlearn: 0.2069175\ttest: 0.4589052\tbest: 0.4493358 (273)\ttotal: 1.24s\tremaining: 1.3s\n",
            "487:\tlearn: 0.2068313\ttest: 0.4588373\tbest: 0.4493358 (273)\ttotal: 1.24s\tremaining: 1.3s\n",
            "488:\tlearn: 0.2067857\ttest: 0.4589427\tbest: 0.4493358 (273)\ttotal: 1.24s\tremaining: 1.3s\n",
            "489:\tlearn: 0.2063109\ttest: 0.4590384\tbest: 0.4493358 (273)\ttotal: 1.25s\tremaining: 1.3s\n",
            "490:\tlearn: 0.2058175\ttest: 0.4592239\tbest: 0.4493358 (273)\ttotal: 1.25s\tremaining: 1.29s\n",
            "491:\tlearn: 0.2057198\ttest: 0.4592572\tbest: 0.4493358 (273)\ttotal: 1.25s\tremaining: 1.29s\n",
            "492:\tlearn: 0.2054009\ttest: 0.4593728\tbest: 0.4493358 (273)\ttotal: 1.25s\tremaining: 1.29s\n",
            "493:\tlearn: 0.2051458\ttest: 0.4592443\tbest: 0.4493358 (273)\ttotal: 1.25s\tremaining: 1.28s\n",
            "494:\tlearn: 0.2049780\ttest: 0.4591898\tbest: 0.4493358 (273)\ttotal: 1.26s\tremaining: 1.28s\n",
            "495:\tlearn: 0.2040728\ttest: 0.4590203\tbest: 0.4493358 (273)\ttotal: 1.26s\tremaining: 1.28s\n",
            "496:\tlearn: 0.2039070\ttest: 0.4588665\tbest: 0.4493358 (273)\ttotal: 1.26s\tremaining: 1.28s\n",
            "497:\tlearn: 0.2033471\ttest: 0.4585192\tbest: 0.4493358 (273)\ttotal: 1.26s\tremaining: 1.27s\n",
            "498:\tlearn: 0.2028114\ttest: 0.4578155\tbest: 0.4493358 (273)\ttotal: 1.27s\tremaining: 1.27s\n",
            "499:\tlearn: 0.2025203\ttest: 0.4579393\tbest: 0.4493358 (273)\ttotal: 1.27s\tremaining: 1.27s\n",
            "500:\tlearn: 0.2020860\ttest: 0.4581874\tbest: 0.4493358 (273)\ttotal: 1.27s\tremaining: 1.27s\n",
            "501:\tlearn: 0.2019906\ttest: 0.4581358\tbest: 0.4493358 (273)\ttotal: 1.27s\tremaining: 1.26s\n",
            "502:\tlearn: 0.2015034\ttest: 0.4583738\tbest: 0.4493358 (273)\ttotal: 1.28s\tremaining: 1.26s\n",
            "503:\tlearn: 0.2014852\ttest: 0.4583920\tbest: 0.4493358 (273)\ttotal: 1.28s\tremaining: 1.26s\n",
            "504:\tlearn: 0.2011597\ttest: 0.4584187\tbest: 0.4493358 (273)\ttotal: 1.28s\tremaining: 1.26s\n",
            "505:\tlearn: 0.2001455\ttest: 0.4587486\tbest: 0.4493358 (273)\ttotal: 1.28s\tremaining: 1.25s\n",
            "506:\tlearn: 0.1999110\ttest: 0.4586596\tbest: 0.4493358 (273)\ttotal: 1.29s\tremaining: 1.25s\n",
            "507:\tlearn: 0.1998506\ttest: 0.4584968\tbest: 0.4493358 (273)\ttotal: 1.29s\tremaining: 1.25s\n",
            "508:\tlearn: 0.1997513\ttest: 0.4584781\tbest: 0.4493358 (273)\ttotal: 1.29s\tremaining: 1.25s\n",
            "509:\tlearn: 0.1991986\ttest: 0.4590529\tbest: 0.4493358 (273)\ttotal: 1.29s\tremaining: 1.24s\n",
            "510:\tlearn: 0.1990789\ttest: 0.4591620\tbest: 0.4493358 (273)\ttotal: 1.3s\tremaining: 1.24s\n",
            "511:\tlearn: 0.1986968\ttest: 0.4592266\tbest: 0.4493358 (273)\ttotal: 1.3s\tremaining: 1.24s\n",
            "512:\tlearn: 0.1986887\ttest: 0.4592263\tbest: 0.4493358 (273)\ttotal: 1.3s\tremaining: 1.24s\n",
            "513:\tlearn: 0.1980792\ttest: 0.4594063\tbest: 0.4493358 (273)\ttotal: 1.3s\tremaining: 1.23s\n",
            "514:\tlearn: 0.1978403\ttest: 0.4591646\tbest: 0.4493358 (273)\ttotal: 1.31s\tremaining: 1.23s\n",
            "515:\tlearn: 0.1976003\ttest: 0.4594264\tbest: 0.4493358 (273)\ttotal: 1.31s\tremaining: 1.23s\n",
            "516:\tlearn: 0.1968438\ttest: 0.4590573\tbest: 0.4493358 (273)\ttotal: 1.31s\tremaining: 1.22s\n",
            "517:\tlearn: 0.1961825\ttest: 0.4592435\tbest: 0.4493358 (273)\ttotal: 1.31s\tremaining: 1.22s\n",
            "518:\tlearn: 0.1961645\ttest: 0.4592465\tbest: 0.4493358 (273)\ttotal: 1.31s\tremaining: 1.22s\n",
            "519:\tlearn: 0.1957076\ttest: 0.4592018\tbest: 0.4493358 (273)\ttotal: 1.32s\tremaining: 1.22s\n",
            "520:\tlearn: 0.1950797\ttest: 0.4593853\tbest: 0.4493358 (273)\ttotal: 1.32s\tremaining: 1.21s\n",
            "521:\tlearn: 0.1945843\ttest: 0.4591959\tbest: 0.4493358 (273)\ttotal: 1.32s\tremaining: 1.21s\n",
            "522:\tlearn: 0.1937798\ttest: 0.4590662\tbest: 0.4493358 (273)\ttotal: 1.32s\tremaining: 1.21s\n",
            "523:\tlearn: 0.1932738\ttest: 0.4593013\tbest: 0.4493358 (273)\ttotal: 1.33s\tremaining: 1.21s\n",
            "524:\tlearn: 0.1927648\ttest: 0.4592253\tbest: 0.4493358 (273)\ttotal: 1.33s\tremaining: 1.2s\n",
            "525:\tlearn: 0.1924780\ttest: 0.4590972\tbest: 0.4493358 (273)\ttotal: 1.33s\tremaining: 1.2s\n",
            "526:\tlearn: 0.1917349\ttest: 0.4593658\tbest: 0.4493358 (273)\ttotal: 1.34s\tremaining: 1.2s\n",
            "527:\tlearn: 0.1912507\ttest: 0.4593779\tbest: 0.4493358 (273)\ttotal: 1.34s\tremaining: 1.2s\n",
            "528:\tlearn: 0.1912335\ttest: 0.4593979\tbest: 0.4493358 (273)\ttotal: 1.35s\tremaining: 1.2s\n",
            "529:\tlearn: 0.1906702\ttest: 0.4593995\tbest: 0.4493358 (273)\ttotal: 1.35s\tremaining: 1.2s\n",
            "530:\tlearn: 0.1902479\ttest: 0.4593514\tbest: 0.4493358 (273)\ttotal: 1.35s\tremaining: 1.19s\n",
            "531:\tlearn: 0.1897884\ttest: 0.4592446\tbest: 0.4493358 (273)\ttotal: 1.35s\tremaining: 1.19s\n",
            "532:\tlearn: 0.1894679\ttest: 0.4591560\tbest: 0.4493358 (273)\ttotal: 1.36s\tremaining: 1.19s\n",
            "533:\tlearn: 0.1891945\ttest: 0.4591957\tbest: 0.4493358 (273)\ttotal: 1.36s\tremaining: 1.19s\n",
            "534:\tlearn: 0.1886718\ttest: 0.4597704\tbest: 0.4493358 (273)\ttotal: 1.37s\tremaining: 1.19s\n",
            "535:\tlearn: 0.1881866\ttest: 0.4600683\tbest: 0.4493358 (273)\ttotal: 1.37s\tremaining: 1.19s\n",
            "536:\tlearn: 0.1877886\ttest: 0.4604443\tbest: 0.4493358 (273)\ttotal: 1.37s\tremaining: 1.18s\n",
            "537:\tlearn: 0.1877759\ttest: 0.4604538\tbest: 0.4493358 (273)\ttotal: 1.38s\tremaining: 1.18s\n",
            "538:\tlearn: 0.1870526\ttest: 0.4599784\tbest: 0.4493358 (273)\ttotal: 1.38s\tremaining: 1.18s\n",
            "539:\tlearn: 0.1864998\ttest: 0.4599409\tbest: 0.4493358 (273)\ttotal: 1.38s\tremaining: 1.18s\n",
            "540:\tlearn: 0.1863713\ttest: 0.4599975\tbest: 0.4493358 (273)\ttotal: 1.38s\tremaining: 1.17s\n",
            "541:\tlearn: 0.1862837\ttest: 0.4600044\tbest: 0.4493358 (273)\ttotal: 1.38s\tremaining: 1.17s\n",
            "542:\tlearn: 0.1860624\ttest: 0.4601802\tbest: 0.4493358 (273)\ttotal: 1.39s\tremaining: 1.17s\n",
            "543:\tlearn: 0.1856419\ttest: 0.4600969\tbest: 0.4493358 (273)\ttotal: 1.39s\tremaining: 1.17s\n",
            "544:\tlearn: 0.1853661\ttest: 0.4600798\tbest: 0.4493358 (273)\ttotal: 1.39s\tremaining: 1.16s\n",
            "545:\tlearn: 0.1850192\ttest: 0.4602784\tbest: 0.4493358 (273)\ttotal: 1.39s\tremaining: 1.16s\n",
            "546:\tlearn: 0.1849483\ttest: 0.4602791\tbest: 0.4493358 (273)\ttotal: 1.4s\tremaining: 1.16s\n",
            "547:\tlearn: 0.1846421\ttest: 0.4600209\tbest: 0.4493358 (273)\ttotal: 1.4s\tremaining: 1.15s\n",
            "548:\tlearn: 0.1845711\ttest: 0.4600479\tbest: 0.4493358 (273)\ttotal: 1.4s\tremaining: 1.15s\n",
            "549:\tlearn: 0.1842435\ttest: 0.4605521\tbest: 0.4493358 (273)\ttotal: 1.4s\tremaining: 1.15s\n",
            "550:\tlearn: 0.1840220\ttest: 0.4610047\tbest: 0.4493358 (273)\ttotal: 1.41s\tremaining: 1.15s\n",
            "551:\tlearn: 0.1834763\ttest: 0.4614619\tbest: 0.4493358 (273)\ttotal: 1.41s\tremaining: 1.14s\n",
            "552:\tlearn: 0.1826817\ttest: 0.4615718\tbest: 0.4493358 (273)\ttotal: 1.41s\tremaining: 1.14s\n",
            "553:\tlearn: 0.1824793\ttest: 0.4613423\tbest: 0.4493358 (273)\ttotal: 1.41s\tremaining: 1.14s\n",
            "554:\tlearn: 0.1818937\ttest: 0.4613173\tbest: 0.4493358 (273)\ttotal: 1.42s\tremaining: 1.14s\n",
            "555:\tlearn: 0.1811846\ttest: 0.4616042\tbest: 0.4493358 (273)\ttotal: 1.42s\tremaining: 1.13s\n",
            "556:\tlearn: 0.1805172\ttest: 0.4615859\tbest: 0.4493358 (273)\ttotal: 1.42s\tremaining: 1.13s\n",
            "557:\tlearn: 0.1802081\ttest: 0.4615250\tbest: 0.4493358 (273)\ttotal: 1.42s\tremaining: 1.13s\n",
            "558:\tlearn: 0.1798308\ttest: 0.4614222\tbest: 0.4493358 (273)\ttotal: 1.43s\tremaining: 1.13s\n",
            "559:\tlearn: 0.1793364\ttest: 0.4613214\tbest: 0.4493358 (273)\ttotal: 1.43s\tremaining: 1.12s\n",
            "560:\tlearn: 0.1788767\ttest: 0.4618990\tbest: 0.4493358 (273)\ttotal: 1.43s\tremaining: 1.12s\n",
            "561:\tlearn: 0.1780449\ttest: 0.4617981\tbest: 0.4493358 (273)\ttotal: 1.43s\tremaining: 1.12s\n",
            "562:\tlearn: 0.1778113\ttest: 0.4622225\tbest: 0.4493358 (273)\ttotal: 1.44s\tremaining: 1.11s\n",
            "563:\tlearn: 0.1774028\ttest: 0.4622835\tbest: 0.4493358 (273)\ttotal: 1.44s\tremaining: 1.11s\n",
            "564:\tlearn: 0.1772596\ttest: 0.4632156\tbest: 0.4493358 (273)\ttotal: 1.44s\tremaining: 1.11s\n",
            "565:\tlearn: 0.1768483\ttest: 0.4633376\tbest: 0.4493358 (273)\ttotal: 1.44s\tremaining: 1.11s\n",
            "566:\tlearn: 0.1767496\ttest: 0.4635982\tbest: 0.4493358 (273)\ttotal: 1.45s\tremaining: 1.1s\n",
            "567:\tlearn: 0.1764577\ttest: 0.4636307\tbest: 0.4493358 (273)\ttotal: 1.45s\tremaining: 1.1s\n",
            "568:\tlearn: 0.1760647\ttest: 0.4631749\tbest: 0.4493358 (273)\ttotal: 1.45s\tremaining: 1.1s\n",
            "569:\tlearn: 0.1758799\ttest: 0.4634031\tbest: 0.4493358 (273)\ttotal: 1.45s\tremaining: 1.1s\n",
            "570:\tlearn: 0.1756716\ttest: 0.4633217\tbest: 0.4493358 (273)\ttotal: 1.46s\tremaining: 1.09s\n",
            "571:\tlearn: 0.1755531\ttest: 0.4634276\tbest: 0.4493358 (273)\ttotal: 1.46s\tremaining: 1.09s\n",
            "572:\tlearn: 0.1752878\ttest: 0.4638207\tbest: 0.4493358 (273)\ttotal: 1.46s\tremaining: 1.09s\n",
            "573:\tlearn: 0.1748245\ttest: 0.4640118\tbest: 0.4493358 (273)\ttotal: 1.46s\tremaining: 1.08s\n",
            "574:\tlearn: 0.1747620\ttest: 0.4640917\tbest: 0.4493358 (273)\ttotal: 1.47s\tremaining: 1.08s\n",
            "575:\tlearn: 0.1746188\ttest: 0.4646639\tbest: 0.4493358 (273)\ttotal: 1.47s\tremaining: 1.08s\n",
            "576:\tlearn: 0.1742321\ttest: 0.4646653\tbest: 0.4493358 (273)\ttotal: 1.47s\tremaining: 1.08s\n",
            "577:\tlearn: 0.1742249\ttest: 0.4646717\tbest: 0.4493358 (273)\ttotal: 1.47s\tremaining: 1.07s\n",
            "578:\tlearn: 0.1739103\ttest: 0.4650521\tbest: 0.4493358 (273)\ttotal: 1.47s\tremaining: 1.07s\n",
            "579:\tlearn: 0.1734798\ttest: 0.4652756\tbest: 0.4493358 (273)\ttotal: 1.48s\tremaining: 1.07s\n",
            "580:\tlearn: 0.1733942\ttest: 0.4654417\tbest: 0.4493358 (273)\ttotal: 1.48s\tremaining: 1.07s\n",
            "581:\tlearn: 0.1731730\ttest: 0.4652993\tbest: 0.4493358 (273)\ttotal: 1.48s\tremaining: 1.06s\n",
            "582:\tlearn: 0.1729021\ttest: 0.4655052\tbest: 0.4493358 (273)\ttotal: 1.48s\tremaining: 1.06s\n",
            "583:\tlearn: 0.1724724\ttest: 0.4652248\tbest: 0.4493358 (273)\ttotal: 1.49s\tremaining: 1.06s\n",
            "584:\tlearn: 0.1722818\ttest: 0.4651535\tbest: 0.4493358 (273)\ttotal: 1.49s\tremaining: 1.06s\n",
            "585:\tlearn: 0.1719636\ttest: 0.4651474\tbest: 0.4493358 (273)\ttotal: 1.49s\tremaining: 1.05s\n",
            "586:\tlearn: 0.1719439\ttest: 0.4651559\tbest: 0.4493358 (273)\ttotal: 1.49s\tremaining: 1.05s\n",
            "587:\tlearn: 0.1716341\ttest: 0.4648630\tbest: 0.4493358 (273)\ttotal: 1.5s\tremaining: 1.05s\n",
            "588:\tlearn: 0.1713656\ttest: 0.4651812\tbest: 0.4493358 (273)\ttotal: 1.5s\tremaining: 1.05s\n",
            "589:\tlearn: 0.1710542\ttest: 0.4652673\tbest: 0.4493358 (273)\ttotal: 1.5s\tremaining: 1.04s\n",
            "590:\tlearn: 0.1706199\ttest: 0.4659077\tbest: 0.4493358 (273)\ttotal: 1.5s\tremaining: 1.04s\n",
            "591:\tlearn: 0.1703651\ttest: 0.4662283\tbest: 0.4493358 (273)\ttotal: 1.51s\tremaining: 1.04s\n",
            "592:\tlearn: 0.1698738\ttest: 0.4657889\tbest: 0.4493358 (273)\ttotal: 1.51s\tremaining: 1.03s\n",
            "593:\tlearn: 0.1694149\ttest: 0.4657860\tbest: 0.4493358 (273)\ttotal: 1.51s\tremaining: 1.03s\n",
            "594:\tlearn: 0.1690753\ttest: 0.4662878\tbest: 0.4493358 (273)\ttotal: 1.51s\tremaining: 1.03s\n",
            "595:\tlearn: 0.1684581\ttest: 0.4665471\tbest: 0.4493358 (273)\ttotal: 1.52s\tremaining: 1.03s\n",
            "596:\tlearn: 0.1684444\ttest: 0.4665641\tbest: 0.4493358 (273)\ttotal: 1.52s\tremaining: 1.02s\n",
            "597:\tlearn: 0.1681699\ttest: 0.4669741\tbest: 0.4493358 (273)\ttotal: 1.52s\tremaining: 1.02s\n",
            "598:\tlearn: 0.1680634\ttest: 0.4669307\tbest: 0.4493358 (273)\ttotal: 1.52s\tremaining: 1.02s\n",
            "599:\tlearn: 0.1680502\ttest: 0.4669474\tbest: 0.4493358 (273)\ttotal: 1.52s\tremaining: 1.02s\n",
            "600:\tlearn: 0.1672318\ttest: 0.4674726\tbest: 0.4493358 (273)\ttotal: 1.53s\tremaining: 1.01s\n",
            "601:\tlearn: 0.1671500\ttest: 0.4674082\tbest: 0.4493358 (273)\ttotal: 1.53s\tremaining: 1.01s\n",
            "602:\tlearn: 0.1670093\ttest: 0.4675090\tbest: 0.4493358 (273)\ttotal: 1.53s\tremaining: 1.01s\n",
            "603:\tlearn: 0.1668324\ttest: 0.4678553\tbest: 0.4493358 (273)\ttotal: 1.53s\tremaining: 1.01s\n",
            "604:\tlearn: 0.1666864\ttest: 0.4681712\tbest: 0.4493358 (273)\ttotal: 1.54s\tremaining: 1s\n",
            "605:\tlearn: 0.1664724\ttest: 0.4682772\tbest: 0.4493358 (273)\ttotal: 1.54s\tremaining: 1s\n",
            "606:\tlearn: 0.1662757\ttest: 0.4686537\tbest: 0.4493358 (273)\ttotal: 1.54s\tremaining: 999ms\n",
            "607:\tlearn: 0.1660217\ttest: 0.4684953\tbest: 0.4493358 (273)\ttotal: 1.55s\tremaining: 1s\n",
            "608:\tlearn: 0.1657602\ttest: 0.4688064\tbest: 0.4493358 (273)\ttotal: 1.56s\tremaining: 1s\n",
            "609:\tlearn: 0.1653889\ttest: 0.4691665\tbest: 0.4493358 (273)\ttotal: 1.56s\tremaining: 998ms\n",
            "610:\tlearn: 0.1648650\ttest: 0.4693033\tbest: 0.4493358 (273)\ttotal: 1.56s\tremaining: 995ms\n",
            "611:\tlearn: 0.1647246\ttest: 0.4694495\tbest: 0.4493358 (273)\ttotal: 1.56s\tremaining: 993ms\n",
            "612:\tlearn: 0.1643493\ttest: 0.4698523\tbest: 0.4493358 (273)\ttotal: 1.57s\tremaining: 990ms\n",
            "613:\tlearn: 0.1640007\ttest: 0.4697043\tbest: 0.4493358 (273)\ttotal: 1.57s\tremaining: 987ms\n",
            "614:\tlearn: 0.1636851\ttest: 0.4700987\tbest: 0.4493358 (273)\ttotal: 1.57s\tremaining: 985ms\n",
            "615:\tlearn: 0.1632229\ttest: 0.4699682\tbest: 0.4493358 (273)\ttotal: 1.58s\tremaining: 982ms\n",
            "616:\tlearn: 0.1631236\ttest: 0.4698478\tbest: 0.4493358 (273)\ttotal: 1.58s\tremaining: 980ms\n",
            "617:\tlearn: 0.1628633\ttest: 0.4697452\tbest: 0.4493358 (273)\ttotal: 1.58s\tremaining: 977ms\n",
            "618:\tlearn: 0.1620908\ttest: 0.4696731\tbest: 0.4493358 (273)\ttotal: 1.58s\tremaining: 975ms\n",
            "619:\tlearn: 0.1617170\ttest: 0.4701955\tbest: 0.4493358 (273)\ttotal: 1.59s\tremaining: 972ms\n",
            "620:\tlearn: 0.1611209\ttest: 0.4702505\tbest: 0.4493358 (273)\ttotal: 1.59s\tremaining: 970ms\n",
            "621:\tlearn: 0.1608767\ttest: 0.4703904\tbest: 0.4493358 (273)\ttotal: 1.59s\tremaining: 967ms\n",
            "622:\tlearn: 0.1606757\ttest: 0.4704505\tbest: 0.4493358 (273)\ttotal: 1.59s\tremaining: 964ms\n",
            "623:\tlearn: 0.1603282\ttest: 0.4703351\tbest: 0.4493358 (273)\ttotal: 1.6s\tremaining: 962ms\n",
            "624:\tlearn: 0.1600384\ttest: 0.4701288\tbest: 0.4493358 (273)\ttotal: 1.6s\tremaining: 959ms\n",
            "625:\tlearn: 0.1600044\ttest: 0.4701581\tbest: 0.4493358 (273)\ttotal: 1.6s\tremaining: 957ms\n",
            "626:\tlearn: 0.1598558\ttest: 0.4701392\tbest: 0.4493358 (273)\ttotal: 1.6s\tremaining: 955ms\n",
            "627:\tlearn: 0.1596285\ttest: 0.4705000\tbest: 0.4493358 (273)\ttotal: 1.61s\tremaining: 952ms\n",
            "628:\tlearn: 0.1592317\ttest: 0.4704633\tbest: 0.4493358 (273)\ttotal: 1.61s\tremaining: 950ms\n",
            "629:\tlearn: 0.1591452\ttest: 0.4707454\tbest: 0.4493358 (273)\ttotal: 1.61s\tremaining: 947ms\n",
            "630:\tlearn: 0.1589266\ttest: 0.4705712\tbest: 0.4493358 (273)\ttotal: 1.61s\tremaining: 944ms\n",
            "631:\tlearn: 0.1586195\ttest: 0.4704583\tbest: 0.4493358 (273)\ttotal: 1.62s\tremaining: 942ms\n",
            "632:\tlearn: 0.1584346\ttest: 0.4707573\tbest: 0.4493358 (273)\ttotal: 1.62s\tremaining: 939ms\n",
            "633:\tlearn: 0.1577781\ttest: 0.4703016\tbest: 0.4493358 (273)\ttotal: 1.62s\tremaining: 936ms\n",
            "634:\tlearn: 0.1575731\ttest: 0.4702142\tbest: 0.4493358 (273)\ttotal: 1.62s\tremaining: 934ms\n",
            "635:\tlearn: 0.1571566\ttest: 0.4704042\tbest: 0.4493358 (273)\ttotal: 1.63s\tremaining: 931ms\n",
            "636:\tlearn: 0.1570137\ttest: 0.4702228\tbest: 0.4493358 (273)\ttotal: 1.63s\tremaining: 929ms\n",
            "637:\tlearn: 0.1566151\ttest: 0.4702999\tbest: 0.4493358 (273)\ttotal: 1.63s\tremaining: 926ms\n",
            "638:\tlearn: 0.1562164\ttest: 0.4706415\tbest: 0.4493358 (273)\ttotal: 1.63s\tremaining: 924ms\n",
            "639:\tlearn: 0.1559029\ttest: 0.4708956\tbest: 0.4493358 (273)\ttotal: 1.64s\tremaining: 921ms\n",
            "640:\tlearn: 0.1556728\ttest: 0.4711025\tbest: 0.4493358 (273)\ttotal: 1.64s\tremaining: 918ms\n",
            "641:\tlearn: 0.1552223\ttest: 0.4710800\tbest: 0.4493358 (273)\ttotal: 1.64s\tremaining: 916ms\n",
            "642:\tlearn: 0.1551382\ttest: 0.4711110\tbest: 0.4493358 (273)\ttotal: 1.65s\tremaining: 914ms\n",
            "643:\tlearn: 0.1549833\ttest: 0.4711059\tbest: 0.4493358 (273)\ttotal: 1.65s\tremaining: 911ms\n",
            "644:\tlearn: 0.1546935\ttest: 0.4710824\tbest: 0.4493358 (273)\ttotal: 1.65s\tremaining: 909ms\n",
            "645:\tlearn: 0.1545692\ttest: 0.4711190\tbest: 0.4493358 (273)\ttotal: 1.65s\tremaining: 906ms\n",
            "646:\tlearn: 0.1542813\ttest: 0.4715363\tbest: 0.4493358 (273)\ttotal: 1.66s\tremaining: 904ms\n",
            "647:\tlearn: 0.1541626\ttest: 0.4716067\tbest: 0.4493358 (273)\ttotal: 1.66s\tremaining: 901ms\n",
            "648:\tlearn: 0.1541137\ttest: 0.4715590\tbest: 0.4493358 (273)\ttotal: 1.66s\tremaining: 898ms\n",
            "649:\tlearn: 0.1538418\ttest: 0.4717940\tbest: 0.4493358 (273)\ttotal: 1.66s\tremaining: 896ms\n",
            "650:\tlearn: 0.1533374\ttest: 0.4721893\tbest: 0.4493358 (273)\ttotal: 1.67s\tremaining: 893ms\n",
            "651:\tlearn: 0.1531498\ttest: 0.4725833\tbest: 0.4493358 (273)\ttotal: 1.67s\tremaining: 891ms\n",
            "652:\tlearn: 0.1527357\ttest: 0.4726071\tbest: 0.4493358 (273)\ttotal: 1.67s\tremaining: 888ms\n",
            "653:\tlearn: 0.1526251\ttest: 0.4729171\tbest: 0.4493358 (273)\ttotal: 1.67s\tremaining: 885ms\n",
            "654:\tlearn: 0.1522113\ttest: 0.4734048\tbest: 0.4493358 (273)\ttotal: 1.68s\tremaining: 883ms\n",
            "655:\tlearn: 0.1519957\ttest: 0.4737117\tbest: 0.4493358 (273)\ttotal: 1.68s\tremaining: 880ms\n",
            "656:\tlearn: 0.1518320\ttest: 0.4737553\tbest: 0.4493358 (273)\ttotal: 1.68s\tremaining: 878ms\n",
            "657:\tlearn: 0.1518203\ttest: 0.4737697\tbest: 0.4493358 (273)\ttotal: 1.68s\tremaining: 875ms\n",
            "658:\tlearn: 0.1518009\ttest: 0.4737715\tbest: 0.4493358 (273)\ttotal: 1.69s\tremaining: 872ms\n",
            "659:\tlearn: 0.1517268\ttest: 0.4739047\tbest: 0.4493358 (273)\ttotal: 1.69s\tremaining: 869ms\n",
            "660:\tlearn: 0.1514910\ttest: 0.4740271\tbest: 0.4493358 (273)\ttotal: 1.69s\tremaining: 867ms\n",
            "661:\tlearn: 0.1514437\ttest: 0.4739995\tbest: 0.4493358 (273)\ttotal: 1.69s\tremaining: 864ms\n",
            "662:\tlearn: 0.1509624\ttest: 0.4740193\tbest: 0.4493358 (273)\ttotal: 1.7s\tremaining: 862ms\n",
            "663:\tlearn: 0.1507769\ttest: 0.4741759\tbest: 0.4493358 (273)\ttotal: 1.7s\tremaining: 859ms\n",
            "664:\tlearn: 0.1506497\ttest: 0.4744444\tbest: 0.4493358 (273)\ttotal: 1.7s\tremaining: 856ms\n",
            "665:\tlearn: 0.1506287\ttest: 0.4744492\tbest: 0.4493358 (273)\ttotal: 1.7s\tremaining: 854ms\n",
            "666:\tlearn: 0.1505341\ttest: 0.4744539\tbest: 0.4493358 (273)\ttotal: 1.71s\tremaining: 851ms\n",
            "667:\tlearn: 0.1501020\ttest: 0.4749127\tbest: 0.4493358 (273)\ttotal: 1.71s\tremaining: 849ms\n",
            "668:\tlearn: 0.1499699\ttest: 0.4751132\tbest: 0.4493358 (273)\ttotal: 1.71s\tremaining: 846ms\n",
            "669:\tlearn: 0.1497965\ttest: 0.4753640\tbest: 0.4493358 (273)\ttotal: 1.71s\tremaining: 843ms\n",
            "670:\tlearn: 0.1497135\ttest: 0.4753469\tbest: 0.4493358 (273)\ttotal: 1.71s\tremaining: 841ms\n",
            "671:\tlearn: 0.1495624\ttest: 0.4753324\tbest: 0.4493358 (273)\ttotal: 1.72s\tremaining: 838ms\n",
            "672:\tlearn: 0.1495125\ttest: 0.4754365\tbest: 0.4493358 (273)\ttotal: 1.72s\tremaining: 836ms\n",
            "673:\tlearn: 0.1492127\ttest: 0.4758358\tbest: 0.4493358 (273)\ttotal: 1.72s\tremaining: 833ms\n",
            "674:\tlearn: 0.1491157\ttest: 0.4761211\tbest: 0.4493358 (273)\ttotal: 1.72s\tremaining: 830ms\n",
            "675:\tlearn: 0.1485846\ttest: 0.4761546\tbest: 0.4493358 (273)\ttotal: 1.73s\tremaining: 828ms\n",
            "676:\tlearn: 0.1484299\ttest: 0.4763149\tbest: 0.4493358 (273)\ttotal: 1.73s\tremaining: 825ms\n",
            "677:\tlearn: 0.1482203\ttest: 0.4758415\tbest: 0.4493358 (273)\ttotal: 1.73s\tremaining: 823ms\n",
            "678:\tlearn: 0.1477387\ttest: 0.4760742\tbest: 0.4493358 (273)\ttotal: 1.73s\tremaining: 820ms\n",
            "679:\tlearn: 0.1476787\ttest: 0.4759932\tbest: 0.4493358 (273)\ttotal: 1.74s\tremaining: 818ms\n",
            "680:\tlearn: 0.1475398\ttest: 0.4760965\tbest: 0.4493358 (273)\ttotal: 1.74s\tremaining: 815ms\n",
            "681:\tlearn: 0.1475286\ttest: 0.4761112\tbest: 0.4493358 (273)\ttotal: 1.74s\tremaining: 812ms\n",
            "682:\tlearn: 0.1469116\ttest: 0.4765910\tbest: 0.4493358 (273)\ttotal: 1.75s\tremaining: 810ms\n",
            "683:\tlearn: 0.1469030\ttest: 0.4765978\tbest: 0.4493358 (273)\ttotal: 1.75s\tremaining: 809ms\n",
            "684:\tlearn: 0.1466264\ttest: 0.4768708\tbest: 0.4493358 (273)\ttotal: 1.75s\tremaining: 807ms\n",
            "685:\tlearn: 0.1465033\ttest: 0.4770077\tbest: 0.4493358 (273)\ttotal: 1.76s\tremaining: 805ms\n",
            "686:\tlearn: 0.1463961\ttest: 0.4772587\tbest: 0.4493358 (273)\ttotal: 1.76s\tremaining: 802ms\n",
            "687:\tlearn: 0.1462876\ttest: 0.4773344\tbest: 0.4493358 (273)\ttotal: 1.76s\tremaining: 799ms\n",
            "688:\tlearn: 0.1462064\ttest: 0.4771862\tbest: 0.4493358 (273)\ttotal: 1.76s\tremaining: 797ms\n",
            "689:\tlearn: 0.1461974\ttest: 0.4771829\tbest: 0.4493358 (273)\ttotal: 1.77s\tremaining: 794ms\n",
            "690:\tlearn: 0.1456695\ttest: 0.4773684\tbest: 0.4493358 (273)\ttotal: 1.77s\tremaining: 792ms\n",
            "691:\tlearn: 0.1456069\ttest: 0.4773951\tbest: 0.4493358 (273)\ttotal: 1.77s\tremaining: 789ms\n",
            "692:\tlearn: 0.1453947\ttest: 0.4777851\tbest: 0.4493358 (273)\ttotal: 1.77s\tremaining: 786ms\n",
            "693:\tlearn: 0.1451692\ttest: 0.4780033\tbest: 0.4493358 (273)\ttotal: 1.78s\tremaining: 784ms\n",
            "694:\tlearn: 0.1450017\ttest: 0.4781255\tbest: 0.4493358 (273)\ttotal: 1.78s\tremaining: 781ms\n",
            "695:\tlearn: 0.1449817\ttest: 0.4781346\tbest: 0.4493358 (273)\ttotal: 1.78s\tremaining: 778ms\n",
            "696:\tlearn: 0.1449212\ttest: 0.4780118\tbest: 0.4493358 (273)\ttotal: 1.78s\tremaining: 776ms\n",
            "697:\tlearn: 0.1446508\ttest: 0.4780618\tbest: 0.4493358 (273)\ttotal: 1.79s\tremaining: 773ms\n",
            "698:\tlearn: 0.1443940\ttest: 0.4782516\tbest: 0.4493358 (273)\ttotal: 1.79s\tremaining: 771ms\n",
            "699:\tlearn: 0.1440008\ttest: 0.4783674\tbest: 0.4493358 (273)\ttotal: 1.79s\tremaining: 768ms\n",
            "700:\tlearn: 0.1439612\ttest: 0.4783747\tbest: 0.4493358 (273)\ttotal: 1.79s\tremaining: 765ms\n",
            "701:\tlearn: 0.1438220\ttest: 0.4784809\tbest: 0.4493358 (273)\ttotal: 1.8s\tremaining: 763ms\n",
            "702:\tlearn: 0.1436759\ttest: 0.4783901\tbest: 0.4493358 (273)\ttotal: 1.8s\tremaining: 760ms\n",
            "703:\tlearn: 0.1435702\ttest: 0.4787991\tbest: 0.4493358 (273)\ttotal: 1.8s\tremaining: 758ms\n",
            "704:\tlearn: 0.1435345\ttest: 0.4787421\tbest: 0.4493358 (273)\ttotal: 1.8s\tremaining: 755ms\n",
            "705:\tlearn: 0.1434811\ttest: 0.4787852\tbest: 0.4493358 (273)\ttotal: 1.81s\tremaining: 752ms\n",
            "706:\tlearn: 0.1432875\ttest: 0.4786897\tbest: 0.4493358 (273)\ttotal: 1.81s\tremaining: 750ms\n",
            "707:\tlearn: 0.1432135\ttest: 0.4787630\tbest: 0.4493358 (273)\ttotal: 1.81s\tremaining: 747ms\n",
            "708:\tlearn: 0.1430933\ttest: 0.4788156\tbest: 0.4493358 (273)\ttotal: 1.81s\tremaining: 745ms\n",
            "709:\tlearn: 0.1428388\ttest: 0.4787883\tbest: 0.4493358 (273)\ttotal: 1.82s\tremaining: 742ms\n",
            "710:\tlearn: 0.1426368\ttest: 0.4787913\tbest: 0.4493358 (273)\ttotal: 1.82s\tremaining: 739ms\n",
            "711:\tlearn: 0.1423929\ttest: 0.4792004\tbest: 0.4493358 (273)\ttotal: 1.82s\tremaining: 737ms\n",
            "712:\tlearn: 0.1421662\ttest: 0.4794653\tbest: 0.4493358 (273)\ttotal: 1.82s\tremaining: 734ms\n",
            "713:\tlearn: 0.1418909\ttest: 0.4796012\tbest: 0.4493358 (273)\ttotal: 1.83s\tremaining: 731ms\n",
            "714:\tlearn: 0.1417673\ttest: 0.4797293\tbest: 0.4493358 (273)\ttotal: 1.83s\tremaining: 729ms\n",
            "715:\tlearn: 0.1414494\ttest: 0.4794686\tbest: 0.4493358 (273)\ttotal: 1.83s\tremaining: 726ms\n",
            "716:\tlearn: 0.1412303\ttest: 0.4792142\tbest: 0.4493358 (273)\ttotal: 1.83s\tremaining: 724ms\n",
            "717:\tlearn: 0.1412122\ttest: 0.4791815\tbest: 0.4493358 (273)\ttotal: 1.83s\tremaining: 721ms\n",
            "718:\tlearn: 0.1411942\ttest: 0.4791866\tbest: 0.4493358 (273)\ttotal: 1.84s\tremaining: 719ms\n",
            "719:\tlearn: 0.1410550\ttest: 0.4795933\tbest: 0.4493358 (273)\ttotal: 1.84s\tremaining: 716ms\n",
            "720:\tlearn: 0.1409542\ttest: 0.4793671\tbest: 0.4493358 (273)\ttotal: 1.84s\tremaining: 713ms\n",
            "721:\tlearn: 0.1406144\ttest: 0.4800028\tbest: 0.4493358 (273)\ttotal: 1.85s\tremaining: 711ms\n",
            "722:\tlearn: 0.1403966\ttest: 0.4799106\tbest: 0.4493358 (273)\ttotal: 1.85s\tremaining: 708ms\n",
            "723:\tlearn: 0.1401884\ttest: 0.4801699\tbest: 0.4493358 (273)\ttotal: 1.85s\tremaining: 706ms\n",
            "724:\tlearn: 0.1401840\ttest: 0.4801750\tbest: 0.4493358 (273)\ttotal: 1.85s\tremaining: 703ms\n",
            "725:\tlearn: 0.1397617\ttest: 0.4800994\tbest: 0.4493358 (273)\ttotal: 1.85s\tremaining: 700ms\n",
            "726:\tlearn: 0.1396807\ttest: 0.4801076\tbest: 0.4493358 (273)\ttotal: 1.86s\tremaining: 698ms\n",
            "727:\tlearn: 0.1393424\ttest: 0.4802055\tbest: 0.4493358 (273)\ttotal: 1.86s\tremaining: 695ms\n",
            "728:\tlearn: 0.1391173\ttest: 0.4803845\tbest: 0.4493358 (273)\ttotal: 1.86s\tremaining: 693ms\n",
            "729:\tlearn: 0.1389278\ttest: 0.4803923\tbest: 0.4493358 (273)\ttotal: 1.86s\tremaining: 690ms\n",
            "730:\tlearn: 0.1388163\ttest: 0.4805823\tbest: 0.4493358 (273)\ttotal: 1.87s\tremaining: 687ms\n",
            "731:\tlearn: 0.1385364\ttest: 0.4806996\tbest: 0.4493358 (273)\ttotal: 1.87s\tremaining: 685ms\n",
            "732:\tlearn: 0.1382957\ttest: 0.4812457\tbest: 0.4493358 (273)\ttotal: 1.87s\tremaining: 682ms\n",
            "733:\tlearn: 0.1381894\ttest: 0.4813900\tbest: 0.4493358 (273)\ttotal: 1.88s\tremaining: 680ms\n",
            "734:\tlearn: 0.1380759\ttest: 0.4813305\tbest: 0.4493358 (273)\ttotal: 1.88s\tremaining: 677ms\n",
            "735:\tlearn: 0.1380030\ttest: 0.4813214\tbest: 0.4493358 (273)\ttotal: 1.88s\tremaining: 675ms\n",
            "736:\tlearn: 0.1378037\ttest: 0.4813595\tbest: 0.4493358 (273)\ttotal: 1.88s\tremaining: 672ms\n",
            "737:\tlearn: 0.1376282\ttest: 0.4815560\tbest: 0.4493358 (273)\ttotal: 1.89s\tremaining: 670ms\n",
            "738:\tlearn: 0.1375241\ttest: 0.4815594\tbest: 0.4493358 (273)\ttotal: 1.89s\tremaining: 669ms\n",
            "739:\tlearn: 0.1373612\ttest: 0.4816332\tbest: 0.4493358 (273)\ttotal: 1.9s\tremaining: 666ms\n",
            "740:\tlearn: 0.1372074\ttest: 0.4818723\tbest: 0.4493358 (273)\ttotal: 1.9s\tremaining: 663ms\n",
            "741:\tlearn: 0.1369481\ttest: 0.4817615\tbest: 0.4493358 (273)\ttotal: 1.9s\tremaining: 661ms\n",
            "742:\tlearn: 0.1366899\ttest: 0.4815973\tbest: 0.4493358 (273)\ttotal: 1.9s\tremaining: 658ms\n",
            "743:\tlearn: 0.1366681\ttest: 0.4815610\tbest: 0.4493358 (273)\ttotal: 1.91s\tremaining: 655ms\n",
            "744:\tlearn: 0.1363775\ttest: 0.4818480\tbest: 0.4493358 (273)\ttotal: 1.91s\tremaining: 653ms\n",
            "745:\tlearn: 0.1361047\ttest: 0.4819396\tbest: 0.4493358 (273)\ttotal: 1.91s\tremaining: 650ms\n",
            "746:\tlearn: 0.1360648\ttest: 0.4821052\tbest: 0.4493358 (273)\ttotal: 1.91s\tremaining: 648ms\n",
            "747:\tlearn: 0.1357712\ttest: 0.4821077\tbest: 0.4493358 (273)\ttotal: 1.92s\tremaining: 645ms\n",
            "748:\tlearn: 0.1357639\ttest: 0.4821087\tbest: 0.4493358 (273)\ttotal: 1.92s\tremaining: 644ms\n",
            "749:\tlearn: 0.1357358\ttest: 0.4819692\tbest: 0.4493358 (273)\ttotal: 1.92s\tremaining: 641ms\n",
            "750:\tlearn: 0.1354750\ttest: 0.4820814\tbest: 0.4493358 (273)\ttotal: 1.93s\tremaining: 638ms\n",
            "751:\tlearn: 0.1352858\ttest: 0.4824085\tbest: 0.4493358 (273)\ttotal: 1.93s\tremaining: 636ms\n",
            "752:\tlearn: 0.1350082\ttest: 0.4827543\tbest: 0.4493358 (273)\ttotal: 1.93s\tremaining: 633ms\n",
            "753:\tlearn: 0.1348318\ttest: 0.4829665\tbest: 0.4493358 (273)\ttotal: 1.93s\tremaining: 631ms\n",
            "754:\tlearn: 0.1345899\ttest: 0.4826817\tbest: 0.4493358 (273)\ttotal: 1.94s\tremaining: 628ms\n",
            "755:\tlearn: 0.1344605\ttest: 0.4826718\tbest: 0.4493358 (273)\ttotal: 1.94s\tremaining: 627ms\n",
            "756:\tlearn: 0.1343244\ttest: 0.4831341\tbest: 0.4493358 (273)\ttotal: 1.95s\tremaining: 625ms\n",
            "757:\tlearn: 0.1339419\ttest: 0.4833765\tbest: 0.4493358 (273)\ttotal: 1.95s\tremaining: 622ms\n",
            "758:\tlearn: 0.1337335\ttest: 0.4834191\tbest: 0.4493358 (273)\ttotal: 1.95s\tremaining: 620ms\n",
            "759:\tlearn: 0.1334345\ttest: 0.4836059\tbest: 0.4493358 (273)\ttotal: 1.95s\tremaining: 617ms\n",
            "760:\tlearn: 0.1333856\ttest: 0.4836118\tbest: 0.4493358 (273)\ttotal: 1.96s\tremaining: 614ms\n",
            "761:\tlearn: 0.1333456\ttest: 0.4836209\tbest: 0.4493358 (273)\ttotal: 1.96s\tremaining: 612ms\n",
            "762:\tlearn: 0.1332531\ttest: 0.4838738\tbest: 0.4493358 (273)\ttotal: 1.96s\tremaining: 609ms\n",
            "763:\tlearn: 0.1327196\ttest: 0.4832136\tbest: 0.4493358 (273)\ttotal: 1.96s\tremaining: 607ms\n",
            "764:\tlearn: 0.1325607\ttest: 0.4829642\tbest: 0.4493358 (273)\ttotal: 1.97s\tremaining: 604ms\n",
            "765:\tlearn: 0.1321573\ttest: 0.4828909\tbest: 0.4493358 (273)\ttotal: 1.97s\tremaining: 601ms\n",
            "766:\tlearn: 0.1320468\ttest: 0.4828848\tbest: 0.4493358 (273)\ttotal: 1.97s\tremaining: 599ms\n",
            "767:\tlearn: 0.1318756\ttest: 0.4830338\tbest: 0.4493358 (273)\ttotal: 1.97s\tremaining: 596ms\n",
            "768:\tlearn: 0.1318413\ttest: 0.4830318\tbest: 0.4493358 (273)\ttotal: 1.98s\tremaining: 593ms\n",
            "769:\tlearn: 0.1315117\ttest: 0.4834490\tbest: 0.4493358 (273)\ttotal: 1.98s\tremaining: 591ms\n",
            "770:\tlearn: 0.1314023\ttest: 0.4835474\tbest: 0.4493358 (273)\ttotal: 1.98s\tremaining: 588ms\n",
            "771:\tlearn: 0.1311551\ttest: 0.4837921\tbest: 0.4493358 (273)\ttotal: 1.98s\tremaining: 586ms\n",
            "772:\tlearn: 0.1311410\ttest: 0.4837632\tbest: 0.4493358 (273)\ttotal: 1.99s\tremaining: 583ms\n",
            "773:\tlearn: 0.1310277\ttest: 0.4836688\tbest: 0.4493358 (273)\ttotal: 1.99s\tremaining: 580ms\n",
            "774:\tlearn: 0.1308544\ttest: 0.4837600\tbest: 0.4493358 (273)\ttotal: 1.99s\tremaining: 578ms\n",
            "775:\tlearn: 0.1307347\ttest: 0.4839613\tbest: 0.4493358 (273)\ttotal: 1.99s\tremaining: 575ms\n",
            "776:\tlearn: 0.1304838\ttest: 0.4842406\tbest: 0.4493358 (273)\ttotal: 2s\tremaining: 573ms\n",
            "777:\tlearn: 0.1302136\ttest: 0.4842565\tbest: 0.4493358 (273)\ttotal: 2s\tremaining: 570ms\n",
            "778:\tlearn: 0.1300877\ttest: 0.4845054\tbest: 0.4493358 (273)\ttotal: 2s\tremaining: 567ms\n",
            "779:\tlearn: 0.1298836\ttest: 0.4841634\tbest: 0.4493358 (273)\ttotal: 2s\tremaining: 565ms\n",
            "780:\tlearn: 0.1295879\ttest: 0.4840356\tbest: 0.4493358 (273)\ttotal: 2s\tremaining: 562ms\n",
            "781:\tlearn: 0.1294904\ttest: 0.4841694\tbest: 0.4493358 (273)\ttotal: 2.01s\tremaining: 560ms\n",
            "782:\tlearn: 0.1294051\ttest: 0.4842826\tbest: 0.4493358 (273)\ttotal: 2.01s\tremaining: 557ms\n",
            "783:\tlearn: 0.1292495\ttest: 0.4841139\tbest: 0.4493358 (273)\ttotal: 2.01s\tremaining: 554ms\n",
            "784:\tlearn: 0.1292349\ttest: 0.4841187\tbest: 0.4493358 (273)\ttotal: 2.01s\tremaining: 552ms\n",
            "785:\tlearn: 0.1289614\ttest: 0.4842996\tbest: 0.4493358 (273)\ttotal: 2.02s\tremaining: 549ms\n",
            "786:\tlearn: 0.1286170\ttest: 0.4843460\tbest: 0.4493358 (273)\ttotal: 2.02s\tremaining: 547ms\n",
            "787:\tlearn: 0.1283831\ttest: 0.4846649\tbest: 0.4493358 (273)\ttotal: 2.02s\tremaining: 544ms\n",
            "788:\tlearn: 0.1280437\ttest: 0.4843912\tbest: 0.4493358 (273)\ttotal: 2.02s\tremaining: 541ms\n",
            "789:\tlearn: 0.1279529\ttest: 0.4844268\tbest: 0.4493358 (273)\ttotal: 2.03s\tremaining: 539ms\n",
            "790:\tlearn: 0.1277287\ttest: 0.4845715\tbest: 0.4493358 (273)\ttotal: 2.03s\tremaining: 536ms\n",
            "791:\tlearn: 0.1275272\ttest: 0.4845614\tbest: 0.4493358 (273)\ttotal: 2.03s\tremaining: 534ms\n",
            "792:\tlearn: 0.1272747\ttest: 0.4846146\tbest: 0.4493358 (273)\ttotal: 2.03s\tremaining: 531ms\n",
            "793:\tlearn: 0.1269837\ttest: 0.4845336\tbest: 0.4493358 (273)\ttotal: 2.04s\tremaining: 528ms\n",
            "794:\tlearn: 0.1269761\ttest: 0.4845464\tbest: 0.4493358 (273)\ttotal: 2.04s\tremaining: 526ms\n",
            "795:\tlearn: 0.1267708\ttest: 0.4847472\tbest: 0.4493358 (273)\ttotal: 2.04s\tremaining: 523ms\n",
            "796:\tlearn: 0.1265158\ttest: 0.4847940\tbest: 0.4493358 (273)\ttotal: 2.04s\tremaining: 521ms\n",
            "797:\tlearn: 0.1265076\ttest: 0.4848218\tbest: 0.4493358 (273)\ttotal: 2.05s\tremaining: 518ms\n",
            "798:\tlearn: 0.1264996\ttest: 0.4848218\tbest: 0.4493358 (273)\ttotal: 2.05s\tremaining: 515ms\n",
            "799:\tlearn: 0.1263086\ttest: 0.4850462\tbest: 0.4493358 (273)\ttotal: 2.05s\tremaining: 513ms\n",
            "800:\tlearn: 0.1261931\ttest: 0.4851109\tbest: 0.4493358 (273)\ttotal: 2.05s\tremaining: 510ms\n",
            "801:\tlearn: 0.1257641\ttest: 0.4852133\tbest: 0.4493358 (273)\ttotal: 2.06s\tremaining: 508ms\n",
            "802:\tlearn: 0.1255291\ttest: 0.4850857\tbest: 0.4493358 (273)\ttotal: 2.06s\tremaining: 505ms\n",
            "803:\tlearn: 0.1253760\ttest: 0.4847873\tbest: 0.4493358 (273)\ttotal: 2.06s\tremaining: 503ms\n",
            "804:\tlearn: 0.1252439\ttest: 0.4846246\tbest: 0.4493358 (273)\ttotal: 2.06s\tremaining: 500ms\n",
            "805:\tlearn: 0.1251456\ttest: 0.4847279\tbest: 0.4493358 (273)\ttotal: 2.07s\tremaining: 497ms\n",
            "806:\tlearn: 0.1249263\ttest: 0.4847171\tbest: 0.4493358 (273)\ttotal: 2.07s\tremaining: 495ms\n",
            "807:\tlearn: 0.1248062\ttest: 0.4848301\tbest: 0.4493358 (273)\ttotal: 2.07s\tremaining: 492ms\n",
            "808:\tlearn: 0.1246329\ttest: 0.4848899\tbest: 0.4493358 (273)\ttotal: 2.07s\tremaining: 490ms\n",
            "809:\tlearn: 0.1241907\ttest: 0.4849148\tbest: 0.4493358 (273)\ttotal: 2.08s\tremaining: 487ms\n",
            "810:\tlearn: 0.1239711\ttest: 0.4849580\tbest: 0.4493358 (273)\ttotal: 2.08s\tremaining: 484ms\n",
            "811:\tlearn: 0.1239376\ttest: 0.4849013\tbest: 0.4493358 (273)\ttotal: 2.08s\tremaining: 482ms\n",
            "812:\tlearn: 0.1236986\ttest: 0.4849574\tbest: 0.4493358 (273)\ttotal: 2.08s\tremaining: 479ms\n",
            "813:\tlearn: 0.1236365\ttest: 0.4851218\tbest: 0.4493358 (273)\ttotal: 2.09s\tremaining: 477ms\n",
            "814:\tlearn: 0.1235634\ttest: 0.4851527\tbest: 0.4493358 (273)\ttotal: 2.09s\tremaining: 474ms\n",
            "815:\tlearn: 0.1233702\ttest: 0.4851638\tbest: 0.4493358 (273)\ttotal: 2.09s\tremaining: 472ms\n",
            "816:\tlearn: 0.1232653\ttest: 0.4853791\tbest: 0.4493358 (273)\ttotal: 2.09s\tremaining: 469ms\n",
            "817:\tlearn: 0.1232481\ttest: 0.4853510\tbest: 0.4493358 (273)\ttotal: 2.1s\tremaining: 466ms\n",
            "818:\tlearn: 0.1231448\ttest: 0.4855998\tbest: 0.4493358 (273)\ttotal: 2.1s\tremaining: 464ms\n",
            "819:\tlearn: 0.1228747\ttest: 0.4857251\tbest: 0.4493358 (273)\ttotal: 2.1s\tremaining: 461ms\n",
            "820:\tlearn: 0.1222627\ttest: 0.4862712\tbest: 0.4493358 (273)\ttotal: 2.1s\tremaining: 459ms\n",
            "821:\tlearn: 0.1220924\ttest: 0.4862728\tbest: 0.4493358 (273)\ttotal: 2.1s\tremaining: 456ms\n",
            "822:\tlearn: 0.1220801\ttest: 0.4862446\tbest: 0.4493358 (273)\ttotal: 2.11s\tremaining: 453ms\n",
            "823:\tlearn: 0.1220074\ttest: 0.4864725\tbest: 0.4493358 (273)\ttotal: 2.11s\tremaining: 451ms\n",
            "824:\tlearn: 0.1219951\ttest: 0.4864441\tbest: 0.4493358 (273)\ttotal: 2.11s\tremaining: 448ms\n",
            "825:\tlearn: 0.1219836\ttest: 0.4864478\tbest: 0.4493358 (273)\ttotal: 2.12s\tremaining: 446ms\n",
            "826:\tlearn: 0.1217033\ttest: 0.4865155\tbest: 0.4493358 (273)\ttotal: 2.12s\tremaining: 443ms\n",
            "827:\tlearn: 0.1215247\ttest: 0.4864146\tbest: 0.4493358 (273)\ttotal: 2.12s\tremaining: 440ms\n",
            "828:\tlearn: 0.1213662\ttest: 0.4862530\tbest: 0.4493358 (273)\ttotal: 2.12s\tremaining: 438ms\n",
            "829:\tlearn: 0.1213504\ttest: 0.4861912\tbest: 0.4493358 (273)\ttotal: 2.12s\tremaining: 435ms\n",
            "830:\tlearn: 0.1210151\ttest: 0.4866407\tbest: 0.4493358 (273)\ttotal: 2.13s\tremaining: 433ms\n",
            "831:\tlearn: 0.1209140\ttest: 0.4866962\tbest: 0.4493358 (273)\ttotal: 2.13s\tremaining: 430ms\n",
            "832:\tlearn: 0.1206966\ttest: 0.4868277\tbest: 0.4493358 (273)\ttotal: 2.13s\tremaining: 427ms\n",
            "833:\tlearn: 0.1204467\ttest: 0.4870047\tbest: 0.4493358 (273)\ttotal: 2.13s\tremaining: 425ms\n",
            "834:\tlearn: 0.1198678\ttest: 0.4875359\tbest: 0.4493358 (273)\ttotal: 2.14s\tremaining: 423ms\n",
            "835:\tlearn: 0.1197186\ttest: 0.4873714\tbest: 0.4493358 (273)\ttotal: 2.14s\tremaining: 420ms\n",
            "836:\tlearn: 0.1195590\ttest: 0.4877242\tbest: 0.4493358 (273)\ttotal: 2.15s\tremaining: 418ms\n",
            "837:\tlearn: 0.1193422\ttest: 0.4880276\tbest: 0.4493358 (273)\ttotal: 2.15s\tremaining: 416ms\n",
            "838:\tlearn: 0.1191846\ttest: 0.4883859\tbest: 0.4493358 (273)\ttotal: 2.15s\tremaining: 413ms\n",
            "839:\tlearn: 0.1190915\ttest: 0.4883441\tbest: 0.4493358 (273)\ttotal: 2.15s\tremaining: 410ms\n",
            "840:\tlearn: 0.1189956\ttest: 0.4883764\tbest: 0.4493358 (273)\ttotal: 2.16s\tremaining: 408ms\n",
            "841:\tlearn: 0.1188384\ttest: 0.4886420\tbest: 0.4493358 (273)\ttotal: 2.16s\tremaining: 405ms\n",
            "842:\tlearn: 0.1184168\ttest: 0.4885365\tbest: 0.4493358 (273)\ttotal: 2.16s\tremaining: 403ms\n",
            "843:\tlearn: 0.1183650\ttest: 0.4885492\tbest: 0.4493358 (273)\ttotal: 2.16s\tremaining: 400ms\n",
            "844:\tlearn: 0.1183610\ttest: 0.4885454\tbest: 0.4493358 (273)\ttotal: 2.17s\tremaining: 397ms\n",
            "845:\tlearn: 0.1182626\ttest: 0.4889778\tbest: 0.4493358 (273)\ttotal: 2.17s\tremaining: 395ms\n",
            "846:\tlearn: 0.1182563\ttest: 0.4889902\tbest: 0.4493358 (273)\ttotal: 2.17s\tremaining: 392ms\n",
            "847:\tlearn: 0.1180404\ttest: 0.4891857\tbest: 0.4493358 (273)\ttotal: 2.17s\tremaining: 390ms\n",
            "848:\tlearn: 0.1179541\ttest: 0.4892312\tbest: 0.4493358 (273)\ttotal: 2.18s\tremaining: 387ms\n",
            "849:\tlearn: 0.1177539\ttest: 0.4894107\tbest: 0.4493358 (273)\ttotal: 2.18s\tremaining: 385ms\n",
            "850:\tlearn: 0.1175883\ttest: 0.4895669\tbest: 0.4493358 (273)\ttotal: 2.18s\tremaining: 382ms\n",
            "851:\tlearn: 0.1173642\ttest: 0.4895935\tbest: 0.4493358 (273)\ttotal: 2.19s\tremaining: 380ms\n",
            "852:\tlearn: 0.1170384\ttest: 0.4897734\tbest: 0.4493358 (273)\ttotal: 2.19s\tremaining: 377ms\n",
            "853:\tlearn: 0.1170158\ttest: 0.4898069\tbest: 0.4493358 (273)\ttotal: 2.19s\tremaining: 375ms\n",
            "854:\tlearn: 0.1166920\ttest: 0.4897784\tbest: 0.4493358 (273)\ttotal: 2.19s\tremaining: 372ms\n",
            "855:\tlearn: 0.1165604\ttest: 0.4897997\tbest: 0.4493358 (273)\ttotal: 2.19s\tremaining: 369ms\n",
            "856:\tlearn: 0.1164105\ttest: 0.4901558\tbest: 0.4493358 (273)\ttotal: 2.2s\tremaining: 367ms\n",
            "857:\tlearn: 0.1163449\ttest: 0.4902107\tbest: 0.4493358 (273)\ttotal: 2.2s\tremaining: 364ms\n",
            "858:\tlearn: 0.1160766\ttest: 0.4903182\tbest: 0.4493358 (273)\ttotal: 2.2s\tremaining: 362ms\n",
            "859:\tlearn: 0.1158829\ttest: 0.4902390\tbest: 0.4493358 (273)\ttotal: 2.21s\tremaining: 359ms\n",
            "860:\tlearn: 0.1158359\ttest: 0.4902816\tbest: 0.4493358 (273)\ttotal: 2.21s\tremaining: 356ms\n",
            "861:\tlearn: 0.1156604\ttest: 0.4908327\tbest: 0.4493358 (273)\ttotal: 2.21s\tremaining: 354ms\n",
            "862:\tlearn: 0.1155431\ttest: 0.4909893\tbest: 0.4493358 (273)\ttotal: 2.21s\tremaining: 351ms\n",
            "863:\tlearn: 0.1153240\ttest: 0.4908929\tbest: 0.4493358 (273)\ttotal: 2.21s\tremaining: 349ms\n",
            "864:\tlearn: 0.1153013\ttest: 0.4908496\tbest: 0.4493358 (273)\ttotal: 2.22s\tremaining: 346ms\n",
            "865:\tlearn: 0.1152949\ttest: 0.4908620\tbest: 0.4493358 (273)\ttotal: 2.22s\tremaining: 343ms\n",
            "866:\tlearn: 0.1151785\ttest: 0.4910387\tbest: 0.4493358 (273)\ttotal: 2.22s\tremaining: 341ms\n",
            "867:\tlearn: 0.1148927\ttest: 0.4909586\tbest: 0.4493358 (273)\ttotal: 2.22s\tremaining: 338ms\n",
            "868:\tlearn: 0.1148183\ttest: 0.4908896\tbest: 0.4493358 (273)\ttotal: 2.23s\tremaining: 336ms\n",
            "869:\tlearn: 0.1147633\ttest: 0.4910883\tbest: 0.4493358 (273)\ttotal: 2.23s\tremaining: 333ms\n",
            "870:\tlearn: 0.1146284\ttest: 0.4910495\tbest: 0.4493358 (273)\ttotal: 2.23s\tremaining: 330ms\n",
            "871:\tlearn: 0.1146080\ttest: 0.4910586\tbest: 0.4493358 (273)\ttotal: 2.23s\tremaining: 328ms\n",
            "872:\tlearn: 0.1144669\ttest: 0.4912278\tbest: 0.4493358 (273)\ttotal: 2.23s\tremaining: 325ms\n",
            "873:\tlearn: 0.1142491\ttest: 0.4907572\tbest: 0.4493358 (273)\ttotal: 2.24s\tremaining: 323ms\n",
            "874:\tlearn: 0.1141129\ttest: 0.4908777\tbest: 0.4493358 (273)\ttotal: 2.24s\tremaining: 320ms\n",
            "875:\tlearn: 0.1139497\ttest: 0.4907026\tbest: 0.4493358 (273)\ttotal: 2.24s\tremaining: 318ms\n",
            "876:\tlearn: 0.1139190\ttest: 0.4907120\tbest: 0.4493358 (273)\ttotal: 2.25s\tremaining: 315ms\n",
            "877:\tlearn: 0.1138359\ttest: 0.4908268\tbest: 0.4493358 (273)\ttotal: 2.25s\tremaining: 312ms\n",
            "878:\tlearn: 0.1136103\ttest: 0.4906931\tbest: 0.4493358 (273)\ttotal: 2.25s\tremaining: 310ms\n",
            "879:\tlearn: 0.1132538\ttest: 0.4904643\tbest: 0.4493358 (273)\ttotal: 2.25s\tremaining: 307ms\n",
            "880:\tlearn: 0.1130731\ttest: 0.4907184\tbest: 0.4493358 (273)\ttotal: 2.25s\tremaining: 305ms\n",
            "881:\tlearn: 0.1127948\ttest: 0.4904935\tbest: 0.4493358 (273)\ttotal: 2.26s\tremaining: 302ms\n",
            "882:\tlearn: 0.1125694\ttest: 0.4901379\tbest: 0.4493358 (273)\ttotal: 2.26s\tremaining: 299ms\n",
            "883:\tlearn: 0.1121628\ttest: 0.4900294\tbest: 0.4493358 (273)\ttotal: 2.26s\tremaining: 297ms\n",
            "884:\tlearn: 0.1121249\ttest: 0.4899281\tbest: 0.4493358 (273)\ttotal: 2.27s\tremaining: 294ms\n",
            "885:\tlearn: 0.1120808\ttest: 0.4899908\tbest: 0.4493358 (273)\ttotal: 2.27s\tremaining: 292ms\n",
            "886:\tlearn: 0.1117948\ttest: 0.4901307\tbest: 0.4493358 (273)\ttotal: 2.27s\tremaining: 289ms\n",
            "887:\tlearn: 0.1116572\ttest: 0.4905575\tbest: 0.4493358 (273)\ttotal: 2.27s\tremaining: 287ms\n",
            "888:\tlearn: 0.1115541\ttest: 0.4907061\tbest: 0.4493358 (273)\ttotal: 2.28s\tremaining: 284ms\n",
            "889:\tlearn: 0.1115159\ttest: 0.4907373\tbest: 0.4493358 (273)\ttotal: 2.28s\tremaining: 282ms\n",
            "890:\tlearn: 0.1112687\ttest: 0.4911337\tbest: 0.4493358 (273)\ttotal: 2.28s\tremaining: 279ms\n",
            "891:\tlearn: 0.1111794\ttest: 0.4913313\tbest: 0.4493358 (273)\ttotal: 2.28s\tremaining: 277ms\n",
            "892:\tlearn: 0.1111662\ttest: 0.4913080\tbest: 0.4493358 (273)\ttotal: 2.29s\tremaining: 274ms\n",
            "893:\tlearn: 0.1110339\ttest: 0.4916657\tbest: 0.4493358 (273)\ttotal: 2.29s\tremaining: 271ms\n",
            "894:\tlearn: 0.1109573\ttest: 0.4917447\tbest: 0.4493358 (273)\ttotal: 2.29s\tremaining: 269ms\n",
            "895:\tlearn: 0.1109262\ttest: 0.4917679\tbest: 0.4493358 (273)\ttotal: 2.3s\tremaining: 267ms\n",
            "896:\tlearn: 0.1107784\ttest: 0.4921214\tbest: 0.4493358 (273)\ttotal: 2.3s\tremaining: 265ms\n",
            "897:\tlearn: 0.1105798\ttest: 0.4919826\tbest: 0.4493358 (273)\ttotal: 2.31s\tremaining: 262ms\n",
            "898:\tlearn: 0.1104813\ttest: 0.4924297\tbest: 0.4493358 (273)\ttotal: 2.31s\tremaining: 260ms\n",
            "899:\tlearn: 0.1103779\ttest: 0.4928947\tbest: 0.4493358 (273)\ttotal: 2.31s\tremaining: 257ms\n",
            "900:\tlearn: 0.1100537\ttest: 0.4927749\tbest: 0.4493358 (273)\ttotal: 2.31s\tremaining: 254ms\n",
            "901:\tlearn: 0.1098444\ttest: 0.4930024\tbest: 0.4493358 (273)\ttotal: 2.32s\tremaining: 252ms\n",
            "902:\tlearn: 0.1096749\ttest: 0.4927652\tbest: 0.4493358 (273)\ttotal: 2.32s\tremaining: 249ms\n",
            "903:\tlearn: 0.1095942\ttest: 0.4927467\tbest: 0.4493358 (273)\ttotal: 2.32s\tremaining: 247ms\n",
            "904:\tlearn: 0.1095530\ttest: 0.4927831\tbest: 0.4493358 (273)\ttotal: 2.33s\tremaining: 245ms\n",
            "905:\tlearn: 0.1093954\ttest: 0.4927563\tbest: 0.4493358 (273)\ttotal: 2.34s\tremaining: 242ms\n",
            "906:\tlearn: 0.1093704\ttest: 0.4926969\tbest: 0.4493358 (273)\ttotal: 2.34s\tremaining: 240ms\n",
            "907:\tlearn: 0.1092396\ttest: 0.4928677\tbest: 0.4493358 (273)\ttotal: 2.34s\tremaining: 237ms\n",
            "908:\tlearn: 0.1090509\ttest: 0.4928725\tbest: 0.4493358 (273)\ttotal: 2.34s\tremaining: 235ms\n",
            "909:\tlearn: 0.1089070\ttest: 0.4927726\tbest: 0.4493358 (273)\ttotal: 2.35s\tremaining: 232ms\n",
            "910:\tlearn: 0.1084497\ttest: 0.4927357\tbest: 0.4493358 (273)\ttotal: 2.35s\tremaining: 229ms\n",
            "911:\tlearn: 0.1083687\ttest: 0.4932100\tbest: 0.4493358 (273)\ttotal: 2.35s\tremaining: 227ms\n",
            "912:\tlearn: 0.1080506\ttest: 0.4936541\tbest: 0.4493358 (273)\ttotal: 2.35s\tremaining: 224ms\n",
            "913:\tlearn: 0.1079852\ttest: 0.4935062\tbest: 0.4493358 (273)\ttotal: 2.35s\tremaining: 222ms\n",
            "914:\tlearn: 0.1077490\ttest: 0.4933301\tbest: 0.4493358 (273)\ttotal: 2.36s\tremaining: 219ms\n",
            "915:\tlearn: 0.1076013\ttest: 0.4935060\tbest: 0.4493358 (273)\ttotal: 2.36s\tremaining: 216ms\n",
            "916:\tlearn: 0.1075183\ttest: 0.4939133\tbest: 0.4493358 (273)\ttotal: 2.36s\tremaining: 214ms\n",
            "917:\tlearn: 0.1075051\ttest: 0.4939539\tbest: 0.4493358 (273)\ttotal: 2.37s\tremaining: 211ms\n",
            "918:\tlearn: 0.1073619\ttest: 0.4942335\tbest: 0.4493358 (273)\ttotal: 2.37s\tremaining: 209ms\n",
            "919:\tlearn: 0.1071993\ttest: 0.4942689\tbest: 0.4493358 (273)\ttotal: 2.37s\tremaining: 206ms\n",
            "920:\tlearn: 0.1071781\ttest: 0.4942952\tbest: 0.4493358 (273)\ttotal: 2.37s\tremaining: 204ms\n",
            "921:\tlearn: 0.1070926\ttest: 0.4945416\tbest: 0.4493358 (273)\ttotal: 2.38s\tremaining: 201ms\n",
            "922:\tlearn: 0.1068223\ttest: 0.4947967\tbest: 0.4493358 (273)\ttotal: 2.38s\tremaining: 198ms\n",
            "923:\tlearn: 0.1067765\ttest: 0.4948436\tbest: 0.4493358 (273)\ttotal: 2.38s\tremaining: 196ms\n",
            "924:\tlearn: 0.1067606\ttest: 0.4947946\tbest: 0.4493358 (273)\ttotal: 2.38s\tremaining: 193ms\n",
            "925:\tlearn: 0.1066024\ttest: 0.4950234\tbest: 0.4493358 (273)\ttotal: 2.38s\tremaining: 191ms\n",
            "926:\tlearn: 0.1064981\ttest: 0.4950663\tbest: 0.4493358 (273)\ttotal: 2.39s\tremaining: 188ms\n",
            "927:\tlearn: 0.1063830\ttest: 0.4951615\tbest: 0.4493358 (273)\ttotal: 2.39s\tremaining: 185ms\n",
            "928:\tlearn: 0.1060594\ttest: 0.4953298\tbest: 0.4493358 (273)\ttotal: 2.39s\tremaining: 183ms\n",
            "929:\tlearn: 0.1059079\ttest: 0.4951034\tbest: 0.4493358 (273)\ttotal: 2.4s\tremaining: 180ms\n",
            "930:\tlearn: 0.1058668\ttest: 0.4951424\tbest: 0.4493358 (273)\ttotal: 2.4s\tremaining: 178ms\n",
            "931:\tlearn: 0.1057066\ttest: 0.4952354\tbest: 0.4493358 (273)\ttotal: 2.4s\tremaining: 175ms\n",
            "932:\tlearn: 0.1056917\ttest: 0.4952711\tbest: 0.4493358 (273)\ttotal: 2.4s\tremaining: 173ms\n",
            "933:\tlearn: 0.1056658\ttest: 0.4952255\tbest: 0.4493358 (273)\ttotal: 2.4s\tremaining: 170ms\n",
            "934:\tlearn: 0.1056265\ttest: 0.4951412\tbest: 0.4493358 (273)\ttotal: 2.41s\tremaining: 167ms\n",
            "935:\tlearn: 0.1055438\ttest: 0.4949197\tbest: 0.4493358 (273)\ttotal: 2.41s\tremaining: 165ms\n",
            "936:\tlearn: 0.1054630\ttest: 0.4949900\tbest: 0.4493358 (273)\ttotal: 2.41s\tremaining: 162ms\n",
            "937:\tlearn: 0.1052971\ttest: 0.4950919\tbest: 0.4493358 (273)\ttotal: 2.42s\tremaining: 160ms\n",
            "938:\tlearn: 0.1052167\ttest: 0.4950337\tbest: 0.4493358 (273)\ttotal: 2.42s\tremaining: 157ms\n",
            "939:\tlearn: 0.1050967\ttest: 0.4951520\tbest: 0.4493358 (273)\ttotal: 2.42s\tremaining: 154ms\n",
            "940:\tlearn: 0.1049782\ttest: 0.4951809\tbest: 0.4493358 (273)\ttotal: 2.42s\tremaining: 152ms\n",
            "941:\tlearn: 0.1048557\ttest: 0.4952001\tbest: 0.4493358 (273)\ttotal: 2.42s\tremaining: 149ms\n",
            "942:\tlearn: 0.1047006\ttest: 0.4950677\tbest: 0.4493358 (273)\ttotal: 2.43s\tremaining: 147ms\n",
            "943:\tlearn: 0.1045177\ttest: 0.4950878\tbest: 0.4493358 (273)\ttotal: 2.43s\tremaining: 144ms\n",
            "944:\tlearn: 0.1042653\ttest: 0.4952294\tbest: 0.4493358 (273)\ttotal: 2.43s\tremaining: 142ms\n",
            "945:\tlearn: 0.1041776\ttest: 0.4952456\tbest: 0.4493358 (273)\ttotal: 2.44s\tremaining: 139ms\n",
            "946:\tlearn: 0.1041410\ttest: 0.4953984\tbest: 0.4493358 (273)\ttotal: 2.44s\tremaining: 136ms\n",
            "947:\tlearn: 0.1040709\ttest: 0.4955882\tbest: 0.4493358 (273)\ttotal: 2.44s\tremaining: 134ms\n",
            "948:\tlearn: 0.1037861\ttest: 0.4962095\tbest: 0.4493358 (273)\ttotal: 2.44s\tremaining: 131ms\n",
            "949:\tlearn: 0.1035073\ttest: 0.4961740\tbest: 0.4493358 (273)\ttotal: 2.44s\tremaining: 129ms\n",
            "950:\tlearn: 0.1034888\ttest: 0.4960322\tbest: 0.4493358 (273)\ttotal: 2.45s\tremaining: 126ms\n",
            "951:\tlearn: 0.1034592\ttest: 0.4959852\tbest: 0.4493358 (273)\ttotal: 2.45s\tremaining: 124ms\n",
            "952:\tlearn: 0.1034109\ttest: 0.4958897\tbest: 0.4493358 (273)\ttotal: 2.45s\tremaining: 121ms\n",
            "953:\tlearn: 0.1033918\ttest: 0.4958880\tbest: 0.4493358 (273)\ttotal: 2.45s\tremaining: 118ms\n",
            "954:\tlearn: 0.1032383\ttest: 0.4958023\tbest: 0.4493358 (273)\ttotal: 2.46s\tremaining: 116ms\n",
            "955:\tlearn: 0.1031506\ttest: 0.4959873\tbest: 0.4493358 (273)\ttotal: 2.46s\tremaining: 113ms\n",
            "956:\tlearn: 0.1029854\ttest: 0.4960524\tbest: 0.4493358 (273)\ttotal: 2.46s\tremaining: 111ms\n",
            "957:\tlearn: 0.1029182\ttest: 0.4960715\tbest: 0.4493358 (273)\ttotal: 2.46s\tremaining: 108ms\n",
            "958:\tlearn: 0.1027206\ttest: 0.4959980\tbest: 0.4493358 (273)\ttotal: 2.47s\tremaining: 105ms\n",
            "959:\tlearn: 0.1026727\ttest: 0.4960559\tbest: 0.4493358 (273)\ttotal: 2.47s\tremaining: 103ms\n",
            "960:\tlearn: 0.1026674\ttest: 0.4960559\tbest: 0.4493358 (273)\ttotal: 2.47s\tremaining: 100ms\n",
            "961:\tlearn: 0.1024318\ttest: 0.4959982\tbest: 0.4493358 (273)\ttotal: 2.47s\tremaining: 97.7ms\n",
            "962:\tlearn: 0.1022523\ttest: 0.4964568\tbest: 0.4493358 (273)\ttotal: 2.48s\tremaining: 95.1ms\n",
            "963:\tlearn: 0.1021604\ttest: 0.4966359\tbest: 0.4493358 (273)\ttotal: 2.48s\tremaining: 92.6ms\n",
            "964:\tlearn: 0.1020093\ttest: 0.4970191\tbest: 0.4493358 (273)\ttotal: 2.48s\tremaining: 90ms\n",
            "965:\tlearn: 0.1018929\ttest: 0.4971257\tbest: 0.4493358 (273)\ttotal: 2.48s\tremaining: 87.4ms\n",
            "966:\tlearn: 0.1018612\ttest: 0.4971930\tbest: 0.4493358 (273)\ttotal: 2.49s\tremaining: 84.8ms\n",
            "967:\tlearn: 0.1016839\ttest: 0.4971948\tbest: 0.4493358 (273)\ttotal: 2.49s\tremaining: 82.3ms\n",
            "968:\tlearn: 0.1015375\ttest: 0.4975762\tbest: 0.4493358 (273)\ttotal: 2.49s\tremaining: 79.7ms\n",
            "969:\tlearn: 0.1015122\ttest: 0.4975348\tbest: 0.4493358 (273)\ttotal: 2.49s\tremaining: 77.1ms\n",
            "970:\tlearn: 0.1012743\ttest: 0.4973404\tbest: 0.4493358 (273)\ttotal: 2.5s\tremaining: 74.5ms\n",
            "971:\tlearn: 0.1011979\ttest: 0.4971896\tbest: 0.4493358 (273)\ttotal: 2.5s\tremaining: 72ms\n",
            "972:\tlearn: 0.1011275\ttest: 0.4973530\tbest: 0.4493358 (273)\ttotal: 2.5s\tremaining: 69.4ms\n",
            "973:\tlearn: 0.1011023\ttest: 0.4974680\tbest: 0.4493358 (273)\ttotal: 2.5s\tremaining: 66.8ms\n",
            "974:\tlearn: 0.1008634\ttest: 0.4975195\tbest: 0.4493358 (273)\ttotal: 2.5s\tremaining: 64.3ms\n",
            "975:\tlearn: 0.1008574\ttest: 0.4975632\tbest: 0.4493358 (273)\ttotal: 2.51s\tremaining: 61.7ms\n",
            "976:\tlearn: 0.1008522\ttest: 0.4975736\tbest: 0.4493358 (273)\ttotal: 2.51s\tremaining: 59.1ms\n",
            "977:\tlearn: 0.1008180\ttest: 0.4976239\tbest: 0.4493358 (273)\ttotal: 2.51s\tremaining: 56.5ms\n",
            "978:\tlearn: 0.1006098\ttest: 0.4977493\tbest: 0.4493358 (273)\ttotal: 2.52s\tremaining: 54ms\n",
            "979:\tlearn: 0.1005329\ttest: 0.4978992\tbest: 0.4493358 (273)\ttotal: 2.52s\tremaining: 51.4ms\n",
            "980:\tlearn: 0.1004161\ttest: 0.4980188\tbest: 0.4493358 (273)\ttotal: 2.52s\tremaining: 48.8ms\n",
            "981:\tlearn: 0.1003863\ttest: 0.4980376\tbest: 0.4493358 (273)\ttotal: 2.52s\tremaining: 46.2ms\n",
            "982:\tlearn: 0.1001792\ttest: 0.4981305\tbest: 0.4493358 (273)\ttotal: 2.54s\tremaining: 43.9ms\n",
            "983:\tlearn: 0.1000291\ttest: 0.4982292\tbest: 0.4493358 (273)\ttotal: 2.54s\tremaining: 41.3ms\n",
            "984:\tlearn: 0.0999705\ttest: 0.4984945\tbest: 0.4493358 (273)\ttotal: 2.54s\tremaining: 38.7ms\n",
            "985:\tlearn: 0.0998923\ttest: 0.4984031\tbest: 0.4493358 (273)\ttotal: 2.55s\tremaining: 36.1ms\n",
            "986:\tlearn: 0.0998216\ttest: 0.4986377\tbest: 0.4493358 (273)\ttotal: 2.55s\tremaining: 33.6ms\n",
            "987:\tlearn: 0.0996857\ttest: 0.4987325\tbest: 0.4493358 (273)\ttotal: 2.55s\tremaining: 31ms\n",
            "988:\tlearn: 0.0992385\ttest: 0.4992942\tbest: 0.4493358 (273)\ttotal: 2.55s\tremaining: 28.4ms\n",
            "989:\tlearn: 0.0991302\ttest: 0.4991388\tbest: 0.4493358 (273)\ttotal: 2.56s\tremaining: 25.8ms\n",
            "990:\tlearn: 0.0990052\ttest: 0.4990091\tbest: 0.4493358 (273)\ttotal: 2.56s\tremaining: 23.2ms\n",
            "991:\tlearn: 0.0989276\ttest: 0.4994010\tbest: 0.4493358 (273)\ttotal: 2.56s\tremaining: 20.7ms\n",
            "992:\tlearn: 0.0988283\ttest: 0.4994399\tbest: 0.4493358 (273)\ttotal: 2.56s\tremaining: 18.1ms\n",
            "993:\tlearn: 0.0985078\ttest: 0.4994516\tbest: 0.4493358 (273)\ttotal: 2.56s\tremaining: 15.5ms\n",
            "994:\tlearn: 0.0983624\ttest: 0.4995021\tbest: 0.4493358 (273)\ttotal: 2.57s\tremaining: 12.9ms\n",
            "995:\tlearn: 0.0983166\ttest: 0.4994255\tbest: 0.4493358 (273)\ttotal: 2.57s\tremaining: 10.3ms\n",
            "996:\tlearn: 0.0981542\ttest: 0.4994562\tbest: 0.4493358 (273)\ttotal: 2.57s\tremaining: 7.74ms\n",
            "997:\tlearn: 0.0979490\ttest: 0.4993520\tbest: 0.4493358 (273)\ttotal: 2.58s\tremaining: 5.16ms\n",
            "998:\tlearn: 0.0979426\ttest: 0.4993616\tbest: 0.4493358 (273)\ttotal: 2.58s\tremaining: 2.58ms\n",
            "999:\tlearn: 0.0978378\ttest: 0.4994557\tbest: 0.4493358 (273)\ttotal: 2.58s\tremaining: 0us\n",
            "\n",
            "bestTest = 0.4493357652\n",
            "bestIteration = 273\n",
            "\n",
            "Shrink model to first 274 iterations.\n"
          ],
          "name": "stdout"
        },
        {
          "output_type": "execute_result",
          "data": {
            "text/plain": [
              "0.8162162162162162"
            ]
          },
          "metadata": {
            "tags": []
          },
          "execution_count": 33
        }
      ]
    },
    {
      "cell_type": "code",
      "metadata": {
        "id": "MqDni02Uky_T"
      },
      "source": [
        ""
      ],
      "execution_count": null,
      "outputs": []
    },
    {
      "cell_type": "markdown",
      "metadata": {
        "id": "5MgPFAf5EcQr"
      },
      "source": [
        "# Commonly used ML algorithms\n",
        "Linear Regression\n",
        "\n",
        "Logistic Regression\n",
        "\n",
        "Decision Tree\n",
        "\n",
        "SVM\n",
        "\n",
        "Naive Bayes\n",
        "\n",
        "kNN\n",
        "\n",
        "K-Means\n",
        "\n",
        "Random Forest\n",
        "\n",
        "Gradient Boosting algorithms\n",
        "> GBM\n",
        "\n",
        "> XGBoost\n",
        "\n",
        "> LightGBM\n",
        "\n",
        "> CatBoost"
      ]
    },
    {
      "cell_type": "markdown",
      "metadata": {
        "id": "5235Gt65w90x"
      },
      "source": [
        "# Stratified K-Fold Cross Validation\n",
        "Stratified k-fold cross-validation is same as just k-fold cross-validation, But in Stratified k-fold cross-validation, it does stratified sampling instead of random sampling."
      ]
    },
    {
      "cell_type": "code",
      "metadata": {
        "colab": {
          "base_uri": "https://localhost:8080/"
        },
        "id": "MNfSkwIHxF11",
        "outputId": "9942601d-4346-4dc7-d3f2-7f8b79d18a76"
      },
      "source": [
        "kf = StratifiedKFold(n_splits=5,shuffle=True,random_state=20)\n",
        "pred_test_full =0\n",
        "cv_score =[]\n",
        "i=1\n",
        "for train_index,test_index in kf.split(x_train,y_train.values):\n",
        "    print('{} of KFold {}'.format(i,kf.n_splits))\n",
        "    xtr,xvl = x_train.iloc[train_index],x_train.iloc[test_index]\n",
        "    ytr,yvl = y_train.iloc[train_index],y_train.iloc[test_index]\n",
        "    \n",
        "    #model\n",
        "    lr = LogisticRegression(C=2)\n",
        "    lr.fit(xtr,ytr)\n",
        "    score = roc_auc_score(yvl,lr.predict(xvl))\n",
        "    print('ROC AUC score:',score)\n",
        "    cv_score.append(score)    \n",
        "    pred_test = lr.predict_proba(x_test)[:,1]\n",
        "    pred_test_full +=pred_test\n",
        "    i+=1"
      ],
      "execution_count": null,
      "outputs": [
        {
          "output_type": "stream",
          "text": [
            "1 of KFold 5\n",
            "ROC AUC score: 0.6545674531155474\n",
            "2 of KFold 5\n",
            "ROC AUC score: 0.7235221674876848\n",
            "3 of KFold 5\n",
            "ROC AUC score: 0.7056650246305419\n",
            "4 of KFold 5\n",
            "ROC AUC score: 0.7327586206896552\n",
            "5 of KFold 5\n",
            "ROC AUC score: 0.7142857142857143\n"
          ],
          "name": "stdout"
        },
        {
          "output_type": "stream",
          "text": [
            "/usr/local/lib/python3.6/dist-packages/sklearn/linear_model/_logistic.py:940: ConvergenceWarning: lbfgs failed to converge (status=1):\n",
            "STOP: TOTAL NO. of ITERATIONS REACHED LIMIT.\n",
            "\n",
            "Increase the number of iterations (max_iter) or scale the data as shown in:\n",
            "    https://scikit-learn.org/stable/modules/preprocessing.html\n",
            "Please also refer to the documentation for alternative solver options:\n",
            "    https://scikit-learn.org/stable/modules/linear_model.html#logistic-regression\n",
            "  extra_warning_msg=_LOGISTIC_SOLVER_CONVERGENCE_MSG)\n",
            "/usr/local/lib/python3.6/dist-packages/sklearn/linear_model/_logistic.py:940: ConvergenceWarning: lbfgs failed to converge (status=1):\n",
            "STOP: TOTAL NO. of ITERATIONS REACHED LIMIT.\n",
            "\n",
            "Increase the number of iterations (max_iter) or scale the data as shown in:\n",
            "    https://scikit-learn.org/stable/modules/preprocessing.html\n",
            "Please also refer to the documentation for alternative solver options:\n",
            "    https://scikit-learn.org/stable/modules/linear_model.html#logistic-regression\n",
            "  extra_warning_msg=_LOGISTIC_SOLVER_CONVERGENCE_MSG)\n",
            "/usr/local/lib/python3.6/dist-packages/sklearn/linear_model/_logistic.py:940: ConvergenceWarning: lbfgs failed to converge (status=1):\n",
            "STOP: TOTAL NO. of ITERATIONS REACHED LIMIT.\n",
            "\n",
            "Increase the number of iterations (max_iter) or scale the data as shown in:\n",
            "    https://scikit-learn.org/stable/modules/preprocessing.html\n",
            "Please also refer to the documentation for alternative solver options:\n",
            "    https://scikit-learn.org/stable/modules/linear_model.html#logistic-regression\n",
            "  extra_warning_msg=_LOGISTIC_SOLVER_CONVERGENCE_MSG)\n"
          ],
          "name": "stderr"
        }
      ]
    },
    {
      "cell_type": "markdown",
      "metadata": {
        "id": "dHmUvzZ4A643"
      },
      "source": [
        "![Screenshot from 2020-11-20 10-27-10.png](data:image/png;base64,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)"
      ]
    },
    {
      "cell_type": "markdown",
      "metadata": {
        "id": "aHAepuKQkzxv"
      },
      "source": [
        "# Hyperparameter tuning\n",
        "I'll discuss how to search for the optimal structure of a random forest classifer. Random forests are an ensemble model comprised of a collection of decision trees; when building such a model, two important hyperparameters to consider are:\n",
        "\n",
        "> How many estimators (ie. decision trees) should I use?\n",
        "\n",
        "> What should be the maximum allowable depth for each decision tree?"
      ]
    },
    {
      "cell_type": "markdown",
      "metadata": {
        "id": "Euu9Dl7fk5cY"
      },
      "source": [
        "#Grid Search\n",
        "Grid search is a traditional way to perform hyperparameter optimization. It works by searching exhaustively through a specified subset of hyperparameters."
      ]
    },
    {
      "cell_type": "code",
      "metadata": {
        "colab": {
          "base_uri": "https://localhost:8080/"
        },
        "id": "rXRzRUONk31I",
        "outputId": "eb0472a0-66f6-4fc3-fc61-4d5e3414b71e"
      },
      "source": [
        "rfc = RandomForestClassifier()\n",
        "\n",
        "n_estimators = [100,200,250,300,350]\n",
        "max_depth = [2,3,4,5,8,6]\n",
        "param_grid = dict(n_estimators=n_estimators,\n",
        "                  max_depth=max_depth)\n",
        "\n",
        "grid = GridSearchCV(estimator=rfc,\n",
        "                    param_grid=param_grid,\n",
        "                    scoring='roc_auc',\n",
        "                    verbose=1,\n",
        "                    n_jobs=-1,)\n",
        "# rfc = RandomForestClassifier(n_estimators=100, max_depth=2)\n",
        "# rfc = RandomForestClassifier(n_estimators=100, max_depth=3)\n",
        "# rfc = RandomForestClassifier(n_estimators=100, max_depth=4)\n",
        "# rfc = RandomForestClassifier(n_estimators=100, max_depth=5)\n",
        "# rfc = RandomForestClassifier(n_estimators=100, max_depth=8)\n",
        "# rfc = RandomForestClassifier(n_estimators=100, max_depth=6)\n",
        "\n",
        "\n",
        "grid_result = grid.fit(x_train, y_train)\n",
        "\n",
        "print('Best Score: ', grid_result.best_score_)\n",
        "print('Best Params: ', grid_result.best_params_)"
      ],
      "execution_count": null,
      "outputs": [
        {
          "output_type": "stream",
          "text": [
            "Fitting 5 folds for each of 30 candidates, totalling 150 fits\n"
          ],
          "name": "stdout"
        },
        {
          "output_type": "stream",
          "text": [
            "[Parallel(n_jobs=-1)]: Using backend LokyBackend with 2 concurrent workers.\n",
            "[Parallel(n_jobs=-1)]: Done  46 tasks      | elapsed:   13.0s\n",
            "[Parallel(n_jobs=-1)]: Done 150 out of 150 | elapsed:   44.6s finished\n"
          ],
          "name": "stderr"
        },
        {
          "output_type": "stream",
          "text": [
            "Best Score:  0.7713140610146055\n",
            "Best Params:  {'max_depth': 8, 'n_estimators': 250}\n"
          ],
          "name": "stdout"
        }
      ]
    },
    {
      "cell_type": "markdown",
      "metadata": {
        "id": "fxEM-HS3pDpX"
      },
      "source": [
        "# Random Search\n",
        "Random search differs from grid search mainly in that it searches the specified subset of hyperparameters randomly instead of exhaustively. The major benefit being decreased processing time.\n",
        "There is a tradeoff to decreased processing time, however. We aren’t guaranteed to find the optimal combination of hyperparameters."
      ]
    },
    {
      "cell_type": "code",
      "metadata": {
        "colab": {
          "base_uri": "https://localhost:8080/"
        },
        "id": "vAx1q-yqpXVg",
        "outputId": "3b685bd3-ab47-4e40-f811-6e34d49f62cc"
      },
      "source": [
        "rfc = RandomForestClassifier()\n",
        "\n",
        "n_estimators = [100,200,250,300,350]\n",
        "max_depth=[2,3,4,5,8,6]\n",
        "param = dict(n_estimators=n_estimators,\n",
        "                  max_depth=max_depth)\n",
        "\n",
        "random = RandomizedSearchCV(estimator=rfc,\n",
        "                            param_distributions=param,\n",
        "                            scoring='roc_auc',\n",
        "                            verbose=1, n_jobs=-1,\n",
        "                            n_iter=1000)\n",
        "random_result = random.fit(x_train, y_train)\n",
        "\n",
        "print('Best Score: ', random_result.best_score_)\n",
        "print('Best Params: ', random_result.best_params_)"
      ],
      "execution_count": null,
      "outputs": [
        {
          "output_type": "stream",
          "text": [
            "/usr/local/lib/python3.6/dist-packages/sklearn/model_selection/_search.py:281: UserWarning: The total space of parameters 30 is smaller than n_iter=1000. Running 30 iterations. For exhaustive searches, use GridSearchCV.\n",
            "  % (grid_size, self.n_iter, grid_size), UserWarning)\n",
            "[Parallel(n_jobs=-1)]: Using backend LokyBackend with 2 concurrent workers.\n"
          ],
          "name": "stderr"
        },
        {
          "output_type": "stream",
          "text": [
            "Fitting 5 folds for each of 30 candidates, totalling 150 fits\n"
          ],
          "name": "stdout"
        },
        {
          "output_type": "stream",
          "text": [
            "[Parallel(n_jobs=-1)]: Done  46 tasks      | elapsed:   13.0s\n"
          ],
          "name": "stderr"
        },
        {
          "output_type": "stream",
          "text": [
            "Best Score:  0.7728588713162217\n",
            "Best Params:  {'n_estimators': 100, 'max_depth': 8}\n"
          ],
          "name": "stdout"
        },
        {
          "output_type": "stream",
          "text": [
            "[Parallel(n_jobs=-1)]: Done 150 out of 150 | elapsed:   44.9s finished\n"
          ],
          "name": "stderr"
        }
      ]
    },
    {
      "cell_type": "markdown",
      "metadata": {
        "id": "LVL8J_HOe-Uv"
      },
      "source": [
        "#### MaxVoting "
      ]
    },
    {
      "cell_type": "markdown",
      "metadata": {
        "id": "ipqffFeLOg_x"
      },
      "source": [
        ""
      ]
    },
    {
      "cell_type": "code",
      "metadata": {
        "id": "Cim9sktHe-Uv",
        "outputId": "e9c93667-8053-4571-9c4b-866e60f1f5c1"
      },
      "source": [
        "model1 = LogisticRegression(random_state=1)\n",
        "model2 = tree.DecisionTreeClassifier(random_state=1)\n",
        "model3 = GaussianNB()\n",
        "model = VotingClassifier(estimators=[('lr', model1), ('dt', model2), ('NB', model3)])\n",
        "model.fit(x_train,y_train)\n",
        "model.score(x_test,y_test)"
      ],
      "execution_count": null,
      "outputs": [
        {
          "output_type": "stream",
          "text": [
            "/home/bukka/anaconda3/lib/python3.6/site-packages/sklearn/preprocessing/label.py:151: DeprecationWarning: The truth value of an empty array is ambiguous. Returning False, but in future this will result in an error. Use `array.size > 0` to check that an array is not empty.\n",
            "  if diff:\n"
          ],
          "name": "stderr"
        },
        {
          "output_type": "execute_result",
          "data": {
            "text/plain": [
              "0.827027027027027"
            ]
          },
          "metadata": {
            "tags": []
          },
          "execution_count": 22
        }
      ]
    },
    {
      "cell_type": "markdown",
      "metadata": {
        "id": "3BDVHu24e-Uw"
      },
      "source": [
        "#### Weighted Averaging "
      ]
    },
    {
      "cell_type": "code",
      "metadata": {
        "id": "eUYSMEqle-Uw",
        "outputId": "ce2a3ceb-63d1-45ba-de4b-2feadad7a9e6"
      },
      "source": [
        "model1 = tree.DecisionTreeClassifier()\n",
        "model2 = GaussianNB()\n",
        "model3= LogisticRegression()\n",
        "\n",
        "model1.fit(x_train,y_train)\n",
        "model2.fit(x_train,y_train)\n",
        "model3.fit(x_train,y_train)\n",
        "\n",
        "pred1 = model1.predict_proba(x_test)\n",
        "pred2 = model2.predict_proba(x_test)\n",
        "pred3 = model3.predict_proba(x_test)\n",
        "\n",
        "weighted_prediction = (0.2*pred1)+(0.4*pred2)+(0.4*pred3)\n",
        "labelprediction = np.argmax(weighted_prediction, axis = 1)\n",
        "\n",
        "accuracy_score(labelprediction, y_test)"
      ],
      "execution_count": null,
      "outputs": [
        {
          "output_type": "execute_result",
          "data": {
            "text/plain": [
              "0.827027027027027"
            ]
          },
          "metadata": {
            "tags": []
          },
          "execution_count": 23
        }
      ]
    },
    {
      "cell_type": "markdown",
      "metadata": {
        "id": "9nr1n67be-Uw"
      },
      "source": [
        "#### Blending "
      ]
    },
    {
      "cell_type": "code",
      "metadata": {
        "id": "VFLYJ8c5e-Uw"
      },
      "source": [
        "train, test = train_test_split(train, test_size=0.2, random_state=0)\n",
        "\n",
        "x_train=train.drop(['Loan_Status', 'Loan_ID'], axis=1)\n",
        "y_train=train['Loan_Status']\n",
        "\n",
        "x_val=test.drop(['Loan_Status', 'Loan_ID'], axis=1)\n",
        "y_val=test['Loan_Status']\n",
        "\n",
        "x_val = x_val.reset_index(drop = True)\n",
        "x_test = x_test.reset_index(drop = True)\n",
        "\n",
        "model1 = tree.DecisionTreeClassifier()\n",
        "model1.fit(x_train, y_train)\n",
        "\n",
        "val_pred1=model1.predict(x_val)\n",
        "test_pred1=model1.predict(x_test)\n",
        "\n",
        "val_pred1=pd.DataFrame(val_pred1)\n",
        "test_pred1=pd.DataFrame(test_pred1)\n",
        "\n",
        "model2 = LogisticRegression()\n",
        "model2.fit(x_train,y_train)\n",
        "\n",
        "val_pred2=model2.predict(x_val)\n",
        "test_pred2=model2.predict(x_test)\n",
        "\n",
        "val_pred2=pd.DataFrame(val_pred2)\n",
        "test_pred2=pd.DataFrame(test_pred2)"
      ],
      "execution_count": null,
      "outputs": []
    },
    {
      "cell_type": "code",
      "metadata": {
        "id": "VpksNnnle-Uw",
        "outputId": "f9b3c242-2990-4336-d467-fa6a6a349122"
      },
      "source": [
        "df_val = pd.concat([x_val, val_pred1,val_pred2],axis=1)\n",
        "df_test = pd.concat([x_test, test_pred1,test_pred2],axis=1)\n",
        "\n",
        "model = LogisticRegression(random_state=1)\n",
        "model.fit(df_val,y_val)\n",
        "model.score(df_test,y_test)"
      ],
      "execution_count": null,
      "outputs": [
        {
          "output_type": "execute_result",
          "data": {
            "text/plain": [
              "0.8162162162162162"
            ]
          },
          "metadata": {
            "tags": []
          },
          "execution_count": 29
        }
      ]
    },
    {
      "cell_type": "markdown",
      "metadata": {
        "collapsed": true,
        "id": "ApoX2jrie-Ux"
      },
      "source": [
        "References:\n",
        "\n",
        "    1. https://www.analyticsvidhya.com/blog/2018/06/comprehensive-guide-for-ensemble-models/\n",
        "    2. https://mlwave.com/kaggle-ensembling-guide/\n",
        "    3. https://www.analyticsvidhya.com/blog/2017/06/which-algorithm-takes-the-crown-light-gbm-vs-xgboost/\n",
        "    4. https://medium.com/@pushkarmandot/https-medium-com-pushkarmandot-what-is-lightgbm-how-to-implement-it-how-to-fine-tune-the-parameters-60347819b7fc\n",
        "    5. https://www.analyticsvidhya.com/blog/2017/08/catboost-automated-categorical-data/"
      ]
    },
    {
      "cell_type": "code",
      "metadata": {
        "id": "6P5tRB67e-Ux"
      },
      "source": [
        ""
      ],
      "execution_count": null,
      "outputs": []
    }
  ]
}